{
 "cells": [
  {
   "cell_type": "markdown",
   "metadata": {},
   "source": [
    "# Python для анализа данных\n",
    "\n",
    "*Алла Тамбовцева, НИУ ВШЭ*"
   ]
  },
  {
   "cell_type": "markdown",
   "metadata": {},
   "source": [
    "## Web-scraping\n",
    "\n",
    "Мы уже немного познакомились со структурой html-файлов, теперь попробуем выгрузить информацию из реальной страницы, а точнее, с реального сайта [nplus1.ru](https://nplus1.ru/).\n",
    "\n",
    "**Наша задача:** выгрузить недавние новости в датафрейм `pandas`, чтобы потом сохранить все в csv-файл.\n",
    "\n",
    "Сначала сгрузим весь html-код страницы и сохраним его в отдельную переменную. Для этого нам понадобится библиотека `requests`. Импортируем её:"
   ]
  },
  {
   "cell_type": "code",
   "execution_count": 1,
   "metadata": {},
   "outputs": [],
   "source": [
    "import requests"
   ]
  },
  {
   "cell_type": "markdown",
   "metadata": {},
   "source": [
    "Сохраним ссылку на главную страницу сайта в переменную `url` для удобства и выгрузим страницу. (Разумеется, это будет работать при подключении к интернету. Если соединение будет отключено, Python выдаст `NewConnectionError`)."
   ]
  },
  {
   "cell_type": "code",
   "execution_count": 2,
   "metadata": {},
   "outputs": [],
   "source": [
    "url = 'https://nplus1.ru/' # сохраняем\n",
    "page = requests.get(url) # загружаем страницу по ссылке"
   ]
  },
  {
   "cell_type": "markdown",
   "metadata": {},
   "source": [
    "Если мы просто посмотрим на объект, мы ничего особенного не увидим:"
   ]
  },
  {
   "cell_type": "code",
   "execution_count": 3,
   "metadata": {},
   "outputs": [
    {
     "data": {
      "text/plain": [
       "<Response [200]>"
      ]
     },
     "execution_count": 3,
     "metadata": {},
     "output_type": "execute_result"
    }
   ],
   "source": [
    "page  # response 200 - страница загружена"
   ]
  },
  {
   "cell_type": "code",
   "execution_count": 4,
   "metadata": {},
   "outputs": [],
   "source": [
    "# page.text"
   ]
  },
  {
   "cell_type": "markdown",
   "metadata": {},
   "source": [
    "Импортируем функцию `BeautifulSoup` из библиотеки `bs4` (от *beautifulsoup4*) и заберём со страницы `page` код html в виде текста. "
   ]
  },
  {
   "cell_type": "code",
   "execution_count": 4,
   "metadata": {},
   "outputs": [],
   "source": [
    "from bs4 import BeautifulSoup  # не спрашивайте, почему BeautifulSoup"
   ]
  },
  {
   "cell_type": "code",
   "execution_count": 5,
   "metadata": {},
   "outputs": [],
   "source": [
    "soup = BeautifulSoup(page.text, 'html')"
   ]
  },
  {
   "cell_type": "markdown",
   "metadata": {},
   "source": [
    "Если выведем `soup` на экран, мы увидим то же самое, что в режиме разработчика или в режиме происмотра исходного кода (`view-source` через *Ctrl+U* в Google Chrome)."
   ]
  },
  {
   "cell_type": "code",
   "execution_count": 7,
   "metadata": {},
   "outputs": [],
   "source": [
    "# soup"
   ]
  },
  {
   "cell_type": "markdown",
   "metadata": {},
   "source": [
    "Для просмотра выглядит не очень удобно.  «Причешем» наш `soup` – воспользуемся методом `.prettify()` в сочетании с функцией `print()`."
   ]
  },
  {
   "cell_type": "code",
   "execution_count": 8,
   "metadata": {},
   "outputs": [],
   "source": [
    "# print(soup.prettify())"
   ]
  },
  {
   "cell_type": "markdown",
   "metadata": {},
   "source": [
    "В такой выдаче ориентироваться гораздо удобнее (но при желании, то же можно увидеть в браузере, на большом экране)."
   ]
  },
  {
   "cell_type": "markdown",
   "metadata": {},
   "source": [
    "\n",
    "Чтобы сгрузить все новости с главной страницы сайта, нужно собрать все ссылки на страницы с этими новостями. Ссылки в html-файле всегда заключены в тэг `<a></a>` и имеют атрибут `href`. Посмотрим на кусочки кода, соответствующие всем ссылкам на главной странице сайта:"
   ]
  },
  {
   "cell_type": "code",
   "execution_count": 6,
   "metadata": {
    "scrolled": true
   },
   "outputs": [
    {
     "name": "stdout",
     "output_type": "stream",
     "text": [
      "/search\n",
      "https://offline.nplus1.ru/\n",
      "https://nplus.pro/\n",
      "https://nplus1.ru/about\n",
      "https://nplus1.ru/difficult\n",
      "https://nplus1.ru/adv\n",
      "https://nplus1.ru/blog/2022/04/01/samotek\n",
      "https://nplus1.ru/search?tags=946\n",
      "https://nplus1.ru/search?tags=869\n",
      "https://nplus1.ru/search?tags=874\n",
      "https://nplus1.ru/search?tags=880\n",
      "https://nplus1.ru/search?tags=768\n",
      "https://nplus1.ru/search?tags=890\n",
      "https://nplus1.ru/search?tags=871\n",
      "https://nplus1.ru/search?tags=876\n",
      "https://nplus1.ru/search?tags=775\n",
      "https://nplus1.ru/search?tags=767\n",
      "https://nplus1.ru/search?tags=771\n",
      "https://nplus1.ru/search?tags=772\n",
      "https://nplus1.ru/search?tags=778\n",
      "https://nplus1.ru/search?tags=917\n",
      "https://nplus1.ru/search?tags=918\n",
      "https://nplus1.ru/search?tags=824\n",
      "https://t.me/nplusone\n",
      "https://vk.com/nplusone\n",
      "https://ok.ru/nplus1\n",
      "https://twitter.com/nplusodin\n",
      "https://nplus1.ru/about\n",
      "https://nplus1.ru/difficult\n",
      "https://nplus1.ru/adv\n",
      "https://nplus1.ru/news/2015/09/21/editor-thy-name\n",
      "https://nplus1.ru/search?tags=946\n",
      "https://nplus1.ru/search?tags=869\n",
      "https://nplus1.ru/search?tags=874\n",
      "https://nplus1.ru/search?tags=880\n",
      "https://nplus1.ru/search?tags=768\n",
      "https://nplus1.ru/search?tags=890\n",
      "https://nplus1.ru/search?tags=871\n",
      "https://nplus1.ru/search?tags=876\n",
      "https://nplus1.ru/search?tags=775\n",
      "https://nplus1.ru/search?tags=767\n",
      "https://nplus1.ru/search?tags=771\n",
      "https://nplus1.ru/search?tags=772\n",
      "https://nplus1.ru/search?tags=778\n",
      "https://nplus1.ru/search?tags=917\n",
      "https://nplus1.ru/search?tags=918\n",
      "https://nplus1.ru/search?tags=824\n",
      "https://offline.nplus1.ru/\n",
      "https://nplus.pro/\n",
      "https://t.me/nplusone\n",
      "https://vk.com/nplusone\n",
      "https://ok.ru/nplus1\n",
      "https://twitter.com/nplusodin\n",
      "https://nplus1.ru/search?tags=869\n",
      "/material/difficulty/4\n",
      "https://nplus1.ru/material/2023/10/03/nobel-pulses-2023\n",
      "https://nplus1.ru/search?tags=873\n",
      "https://nplus1.ru/search?tags=885\n",
      "/material/difficulty/5\n",
      "https://nplus1.ru/material/2023/10/03/mrna-nobel-2023\n",
      "https://nplus1.ru/search?tags=885\n",
      "/material/difficulty/5\n",
      "https://nplus1.ru/material/2023/09/29/maverick-unchained\n",
      "https://nplus1.ru/search?tags=869\n",
      "/material/difficulty/3\n",
      "https://nplus1.ru/news/2023/10/03/phys-nobel-2023\n",
      "/news/2023/10/04\n",
      "https://nplus1.ru/search?tags=877\n",
      "/material/difficulty/2\n",
      "https://nplus1.ru/news/2023/10/04/neolithic-jericho\n",
      "/news/2023/10/04\n",
      "https://nplus1.ru/search?tags=887\n",
      "/material/difficulty/1\n",
      "https://nplus1.ru/news/2023/10/04/we-drive-solar-sharing-batteries\n",
      "/news/2023/10/04\n",
      "https://nplus1.ru/search?tags=874\n",
      "/material/difficulty/2\n",
      "https://nplus1.ru/news/2023/10/04/orca-vs-sea-otters\n",
      "/news/2023/10/03\n",
      "https://nplus1.ru/search?tags=874\n",
      "/material/difficulty/1\n",
      "https://nplus1.ru/news/2023/10/03/wolves-love-story\n",
      "/news/2023/10/03\n",
      "https://nplus1.ru/search?tags=874\n",
      "/material/difficulty/3\n",
      "https://nplus1.ru/news/2023/10/03/bivalve-cancer\n",
      "/news/2023/10/03\n",
      "https://nplus1.ru/search?tags=874\n",
      "/material/difficulty/2\n",
      "https://nplus1.ru/news/2023/10/03/butterflies-plugs\n",
      "/news/2023/10/03\n",
      "https://nplus1.ru/search?tags=889\n",
      "/material/difficulty/3\n",
      "https://nplus1.ru/news/2023/10/03/gwas-carrot\n",
      "/news/2023/10/03\n",
      "https://nplus1.ru/search?tags=869\n",
      "/material/difficulty/3\n",
      "https://nplus1.ru/news/2023/10/03/phys-nobel-2023\n",
      "/news/2023/10/03\n",
      "https://nplus1.ru/search?tags=877\n",
      "/material/difficulty/4\n",
      "https://nplus1.ru/news/2023/10/03/yamnaya-people-and-multiple-sclerosis\n",
      "/news/2023/10/03\n",
      "https://nplus1.ru/search?tags=876\n",
      "/material/difficulty/1\n",
      "https://nplus1.ru/news/2023/10/03/viking-age-burial-in-garden\n",
      "/news/2023/10/03\n",
      "https://nplus1.ru/search?tags=873\n",
      "/material/difficulty/3\n",
      "https://nplus1.ru/news/2023/10/03/music-reading-dementia\n",
      "/news/2023/10/03\n",
      "https://nplus1.ru/search?tags=876\n",
      "/material/difficulty/1\n",
      "https://nplus1.ru/news/2023/10/03/gobekli-tepe\n",
      "https://nplus1.ru/blog/2023/10/03/dangerous-minds\n",
      "/blog/2023/10/03\n",
      "https://nplus1.ru/search?tags=873\n",
      "/material/difficulty/1\n",
      "https://nplus1.ru/blog/2023/10/03/dangerous-minds\n",
      "https://nplus1.ru/blog/2023/09/29/history-of-the-death-penalty\n",
      "/blog/2023/09/29\n",
      "https://nplus1.ru/search?tags=817\n",
      "/material/difficulty/1\n",
      "https://nplus1.ru/blog/2023/09/29/history-of-the-death-penalty\n",
      "/news/2023/10/03\n",
      "https://nplus1.ru/search?tags=873\n",
      "/material/difficulty/2\n",
      "https://nplus1.ru/news/2023/10/03/loneliness-and-risk-of-pd\n",
      "/news/2023/10/03\n",
      "https://nplus1.ru/search?tags=880\n",
      "/material/difficulty/2\n",
      "https://nplus1.ru/news/2023/10/03/jwst-m-42\n",
      "https://nplus1.ru/material/2023/09/27/opensource-philosophy\n",
      "/material/2023/09/27\n",
      "https://nplus1.ru/search?tags=812\n",
      "/material/difficulty/1\n",
      "https://nplus1.ru/material/2023/09/27/opensource-philosophy\n",
      "https://nplus1.ru/material/2023/09/27/domestication-of-animals\n",
      "https://nplus1.ru/search?tags=946\n",
      "/material/difficulty/2\n",
      "https://nplus1.ru/material/2023/09/27/domestication-of-animals\n",
      "/blog/2023/09/27\n",
      "https://nplus1.ru/search?tags=877\n",
      "/material/difficulty/1\n",
      "/author/nlo\n",
      "https://nplus1.ru/blog/2023/09/27/songs-devoid-of-meaning\n",
      "/news/2023/10/03\n",
      "https://nplus1.ru/search?tags=874\n",
      "/material/difficulty/1\n",
      "https://nplus1.ru/news/2023/10/03/baby-beaver\n",
      "/news/2023/10/02\n",
      "https://nplus1.ru/search?tags=872\n",
      "/material/difficulty/1\n",
      "https://nplus1.ru/news/2023/10/02/nitrogen-fertilisers\n",
      "/news/2023/10/02\n",
      "https://nplus1.ru/search?tags=874\n",
      "/material/difficulty/2\n",
      "https://nplus1.ru/news/2023/10/02/kelping\n",
      "https://nplus1.ru/material/2023/09/26/how-much-water-has-flowed\n",
      "/material/2023/09/26\n",
      "https://nplus1.ru/search?tags=946\n",
      "/material/difficulty/1\n",
      "https://nplus1.ru/material/2023/09/26/how-much-water-has-flowed\n",
      "/news/2023/10/02\n",
      "https://nplus1.ru/search?tags=873\n",
      "/material/difficulty/3\n",
      "https://nplus1.ru/news/2023/10/02/probiotics-preterm-infants\n",
      "/news/2023/10/02\n",
      "https://nplus1.ru/search?tags=883\n",
      "/material/difficulty/2\n",
      "https://nplus1.ru/news/2023/10/02/millimobile-battery-free-robot\n",
      "https://nplus1.ru/material/2023/09/25/astro-impulse\n",
      "/material/2023/09/25\n",
      "https://nplus1.ru/search?tags=885\n",
      "/material/difficulty/5\n",
      "https://nplus1.ru/material/2023/09/25/astro-impulse\n",
      "https://nplus1.ru/material/2023/09/25/guess-the-energy-conversion-efficiency\n",
      "https://nplus1.ru/search?tags=946\n",
      "/material/difficulty/2\n",
      "https://nplus1.ru/material/2023/09/25/guess-the-energy-conversion-efficiency\n",
      "/blog/2023/09/26\n",
      "https://nplus1.ru/search?tags=908\n",
      "/material/difficulty/2\n",
      "/author/npluspodcast\n",
      "https://nplus1.ru/blog/2023/09/26/npluspodcast05\n",
      "/news/2023/10/02\n",
      "https://nplus1.ru/search?tags=870\n",
      "/material/difficulty/4\n",
      "https://nplus1.ru/news/2023/10/02/carbene-double-oxidation\n",
      "/news/2023/10/02\n",
      "https://nplus1.ru/search?tags=897\n",
      "/material/difficulty/1\n",
      "https://nplus1.ru/news/2023/10/02/enlight-short-list-2023\n",
      "/news/2023/10/02\n",
      "https://nplus1.ru/search?tags=877\n",
      "/material/difficulty/3\n",
      "https://nplus1.ru/news/2023/10/02/lincombian-ranisian-jerzmanowician\n",
      "https://nplus1.ru/material/2023/09/23/enhanced-materials\n",
      "/material/2023/09/23\n",
      "https://nplus1.ru/search?tags=812\n",
      "/material/difficulty/3\n",
      "https://nplus1.ru/material/2023/09/23/enhanced-materials\n",
      "/news/2023/10/02\n",
      "https://nplus1.ru/search?tags=873\n",
      "/material/difficulty/2\n",
      "https://nplus1.ru/news/2023/10/02/physmed-nobel-2023\n",
      "/news/2023/10/02\n",
      "https://nplus1.ru/search?tags=872\n",
      "/material/difficulty/1\n",
      "https://nplus1.ru/news/2023/10/02/september-2023\n",
      "https://nplus1.ru/material/2023/09/22/who-died-out-first\n",
      "/material/2023/09/22\n",
      "https://nplus1.ru/search?tags=946\n",
      "/material/difficulty/2\n",
      "https://nplus1.ru/material/2023/09/22/who-died-out-first\n",
      "https://nplus1.ru/material/2023/09/21/close-to-body\n",
      "https://nplus1.ru/search?tags=946\n",
      "/material/difficulty/2\n",
      "https://nplus1.ru/material/2023/09/21/close-to-body\n",
      "/blog/2023/09/25\n",
      "https://nplus1.ru/search?tags=897\n",
      "/material/difficulty/1\n",
      "https://nplus1.ru/blog/2023/09/25/hpmor\n",
      "/news/2023/10/02\n",
      "https://nplus1.ru/search?tags=876\n",
      "/material/difficulty/1\n",
      "https://nplus1.ru/news/2023/10/02/abydos-wine-jars\n",
      "/news/2023/10/02\n",
      "https://nplus1.ru/search?tags=877\n",
      "/material/difficulty/1\n",
      "https://nplus1.ru/news/2023/10/02/petranola\n",
      "/news/2023/10/02\n",
      "https://nplus1.ru/search?tags=876\n",
      "/material/difficulty/3\n",
      "https://nplus1.ru/news/2023/10/02/neanderthals-from-altai\n",
      "https://nplus1.ru/material/2023/09/20/owl-or-lark\n",
      "/material/2023/09/20\n",
      "https://nplus1.ru/search?tags=946\n",
      "/material/difficulty/1\n",
      "https://nplus1.ru/material/2023/09/20/owl-or-lark\n",
      "/news/2023/10/02\n",
      "https://nplus1.ru/search?tags=889\n",
      "/material/difficulty/3\n",
      "https://nplus1.ru/news/2023/10/02/gastrodia-foetida\n",
      "/news/2023/09/30\n",
      "https://nplus1.ru/search?tags=871\n",
      "/material/difficulty/1\n",
      "https://nplus1.ru/news/2023/09/30/parker-closer-to-sun\n",
      "https://nplus1.ru/material/2023/09/19/systematics\n",
      "/material/2023/09/19\n",
      "https://nplus1.ru/search?tags=946\n",
      "/material/difficulty/3\n",
      "https://nplus1.ru/material/2023/09/19/systematics\n",
      "https://nplus1.ru/material/2023/09/18/edible-and-inedible\n",
      "https://nplus1.ru/search?tags=946\n",
      "/material/difficulty/2\n",
      "https://nplus1.ru/material/2023/09/18/edible-and-inedible\n",
      "/blog/2023/09/22\n",
      "https://nplus1.ru/search?tags=886\n",
      "/material/difficulty/1\n",
      "/author/alpina-non-fiksn\n",
      "https://nplus1.ru/blog/2023/09/22/rewired\n",
      "/news/2023/09/30\n",
      "https://nplus1.ru/search?tags=880\n",
      "/material/difficulty/4\n",
      "https://nplus1.ru/news/2023/09/30/yso-gigant-flare\n",
      "/news/2023/09/30\n",
      "https://nplus1.ru/search?tags=880\n",
      "/material/difficulty/4\n",
      "https://nplus1.ru/news/2023/09/30/jwst-ring-er-1\n",
      "/news/2023/09/30\n",
      "https://nplus1.ru/search?tags=880\n",
      "/material/difficulty/1\n",
      "https://nplus1.ru/news/2023/09/30/perseveranse-dust-devil\n",
      "https://nplus1.ru/material/2023/09/15/ignobel-2023\n",
      "/material/2023/09/15\n",
      "https://nplus1.ru/search?tags=875\n",
      "/material/difficulty/3\n",
      "https://nplus1.ru/material/2023/09/15/ignobel-2023\n",
      "/news/2023/09/30\n",
      "https://nplus1.ru/search?tags=880\n",
      "/material/difficulty/4\n",
      "https://nplus1.ru/news/2023/09/30/2023-ixf-lost-mass\n",
      "/news/2023/09/30\n",
      "https://nplus1.ru/search?tags=871\n",
      "/material/difficulty/3\n",
      "https://nplus1.ru/news/2023/09/30/nasa-new-horizons-go-go-go\n",
      "https://nplus1.ru/material/2023/09/15/a-place-under-the-light\n",
      "/material/2023/09/15\n",
      "https://nplus1.ru/search?tags=812\n",
      "/material/difficulty/3\n",
      "https://nplus1.ru/material/2023/09/15/a-place-under-the-light\n",
      "https://nplus1.ru/material/2023/09/14/blanche-par-le-malheur\n",
      "https://nplus1.ru/search?tags=885\n",
      "/material/difficulty/4\n",
      "https://nplus1.ru/material/2023/09/14/blanche-par-le-malheur\n",
      "/blog/2023/09/20\n",
      "https://nplus1.ru/search?tags=875\n",
      "/material/difficulty/3\n",
      "/author/polina-loseva\n",
      "https://nplus1.ru/blog/2023/09/20/clarivate-nobel-2023\n",
      "/news/2023/09/30\n",
      "https://nplus1.ru/search?tags=874\n",
      "/material/difficulty/1\n",
      "https://nplus1.ru/news/2023/09/30/baby-shark\n",
      "/news/2023/09/30\n",
      "https://nplus1.ru/search?tags=883\n",
      "/material/difficulty/1\n",
      "https://nplus1.ru/news/2023/09/30/callboat-water-taxi\n",
      "/news/2023/09/30\n",
      "https://nplus1.ru/search?tags=874\n",
      "/material/difficulty/2\n",
      "https://nplus1.ru/news/2023/09/30/osteolaemus-tetraspis\n",
      "https://nplus1.ru/material/2023/09/13/first-sapiens-in-east-asia\n",
      "/material/2023/09/13\n",
      "https://nplus1.ru/search?tags=877\n",
      "/material/difficulty/4\n",
      "https://nplus1.ru/material/2023/09/13/first-sapiens-in-east-asia\n",
      "/material/2023/08/07\n",
      "https://nplus1.ru/search?tags=869\n",
      "/material/difficulty/1\n",
      "https://nplus1.ru/material/2023/08/07/radiation-calculator\n",
      "/news/2023/09/15\n",
      "https://nplus1.ru/search?tags=877\n",
      "/material/difficulty/3\n",
      "https://nplus1.ru/news/2023/09/15/bathory-family\n",
      "/material/2023/09/11\n",
      "https://nplus1.ru/search?tags=946\n",
      "/material/difficulty/2\n",
      "https://nplus1.ru/material/2023/09/11/space-romance-club\n",
      "/news/2023/09/20\n",
      "https://nplus1.ru/search?tags=876\n",
      "/material/difficulty/3\n",
      "https://nplus1.ru/news/2023/09/20/earliest-wood-construction\n",
      "/material/2023/09/20\n",
      "https://nplus1.ru/search?tags=946\n",
      "/material/difficulty/1\n",
      "https://nplus1.ru/material/2023/09/20/owl-or-lark\n",
      "/news/2023/09/27\n",
      "https://nplus1.ru/search?tags=876\n",
      "/material/difficulty/1\n",
      "https://nplus1.ru/news/2023/09/27/pyramid-of-sahure\n",
      "/news/2023/10/03\n",
      "https://nplus1.ru/search?tags=876\n",
      "/material/difficulty/1\n",
      "https://nplus1.ru/news/2023/10/03/gobekli-tepe\n",
      "/material/2023/08/17\n",
      "https://nplus1.ru/search?tags=946\n",
      "/material/difficulty/3\n",
      "https://nplus1.ru/material/2023/08/17/brave-new-mundus\n",
      "/news/2023/09/27\n",
      "https://nplus1.ru/search?tags=874\n",
      "/material/difficulty/4\n",
      "https://nplus1.ru/news/2023/09/27/ninth-pangolin\n",
      "/news/2023/09/22\n",
      "https://nplus1.ru/search?tags=895\n",
      "/material/difficulty/2\n",
      "https://nplus1.ru/news/2023/09/22/new-language\n",
      "/material/2023/09/15\n",
      "https://nplus1.ru/search?tags=875\n",
      "/material/difficulty/3\n",
      "https://nplus1.ru/material/2023/09/15/ignobel-2023\n",
      "/news/2023/09/15\n",
      "https://nplus1.ru/search?tags=884\n",
      "/material/difficulty/7\n",
      "https://nplus1.ru/news/2023/09/15/earth-core-density-deficit\n",
      "/material/2023/09/21\n",
      "https://nplus1.ru/search?tags=946\n",
      "/material/difficulty/2\n",
      "https://nplus1.ru/material/2023/09/21/close-to-body\n",
      "/material/2023/08/28\n",
      "https://nplus1.ru/search?tags=946\n",
      "/material/difficulty/2\n",
      "https://nplus1.ru/material/2023/08/28/what-for\n",
      "/material/2023/09/26\n",
      "https://nplus1.ru/search?tags=946\n",
      "/material/difficulty/1\n",
      "https://nplus1.ru/material/2023/09/26/how-much-water-has-flowed\n",
      "/material/2023/09/04\n",
      "https://nplus1.ru/search?tags=946\n",
      "/material/difficulty/4\n",
      "https://nplus1.ru/material/2023/09/04/assemble-the-electrical-network\n",
      "/material/2023/09/27\n",
      "https://nplus1.ru/search?tags=946\n",
      "/material/difficulty/2\n",
      "https://nplus1.ru/material/2023/09/27/domestication-of-animals\n",
      "/news/2023/09/26\n",
      "https://nplus1.ru/search?tags=872\n",
      "/material/difficulty/2\n",
      "https://nplus1.ru/news/2023/09/26/supercontinent-formation\n",
      "/material/2023/09/25\n",
      "https://nplus1.ru/search?tags=946\n",
      "/material/difficulty/2\n",
      "https://nplus1.ru/material/2023/09/25/guess-the-energy-conversion-efficiency\n",
      "/material/2023/09/08\n",
      "https://nplus1.ru/search?tags=946\n",
      "/material/difficulty/3\n",
      "https://nplus1.ru/material/2023/09/08/from-nothing-to-everything\n",
      "https://nplus1.ru/material/2023/09/28/hobbies-of-scientists\n",
      "/material/2023/09/28\n",
      "https://nplus1.ru/search?tags=946\n",
      "https://nplus1.ru/search?tags=812\n",
      "https://nplus1.ru/search?tags=817\n",
      "/material/difficulty/2\n",
      "https://nplus1.ru/material/2023/09/28/hobbies-of-scientists\n",
      "https://nplus1.ru/material/2023/09/27/domestication-of-plants\n",
      "/material/2023/09/27\n",
      "https://nplus1.ru/search?tags=946\n",
      "https://nplus1.ru/search?tags=812\n",
      "https://nplus1.ru/search?tags=889\n",
      "/material/difficulty/2\n",
      "https://nplus1.ru/material/2023/09/27/domestication-of-plants\n",
      "https://nplus1.ru/material/2023/09/13/first-sapiens-in-east-asia\n",
      "https://nplus1.ru/material/2023/09/14/blanche-par-le-malheur\n",
      "https://nplus1.ru/news/2023/09/15/earth-core-density-deficit\n",
      "https://nplus1.ru/news/2023/09/16/erase-and-rewire\n",
      "https://nplus1.ru/news/2023/09/20/nothing-extra\n",
      "https://nplus1.ru/news/2023/09/21/put-through\n",
      "https://nplus1.ru/news/2023/09/22/topological-phonons-in-graphene\n",
      "https://nplus1.ru/news/2023/09/22/a2744-z7p9od-properties\n",
      "https://nplus1.ru/news/2023/09/23/jwst-europe-co2\n",
      "https://nplus1.ru/news/2023/09/23/be-my-guide\n",
      "https://nplus1.ru/news/2023/09/23/sn-hope\n",
      "https://nplus1.ru/material/2023/09/25/astro-impulse\n",
      "https://nplus1.ru/material/2023/09/29/maverick-unchained\n",
      "https://nplus1.ru/material/2023/10/03/mrna-nobel-2023\n",
      "https://nplus1.ru/material/2023/10/03/nobel-pulses-2023\n",
      "https://nplus1.ru/about\n",
      "https://nplus1.ru/difficult\n",
      "https://nplus1.ru/adv\n",
      "https://nplus1.ru/blog/2022/04/01/samotek\n",
      "/cdn-cgi/l/email-protection#086664486678647d7b39267a7d\n",
      "/cdn-cgi/l/email-protection#cda4a3aba28da3bda1b8befce3bfb8\n",
      "/personal-data-policy\n",
      "https://t.me/nplusone\n",
      "https://vk.com/nplusone\n",
      "https://ok.ru/nplus1\n",
      "https://twitter.com/nplusodin\n"
     ]
    }
   ],
   "source": [
    "for link in soup.find_all('a'):\n",
    "    print(link.get('href'))\n",
    "#     break"
   ]
  },
  {
   "cell_type": "markdown",
   "metadata": {},
   "source": [
    "Ссылок много. Но нам нужны только новости – ссылки, которые начинаются со слова `/news`. Добавим условие: будем выбирать только те ссылки, в которых есть `/news`. Создадим пустой список `urls` и будем добавлять в него только ссылки, которые удовлетворяют этому условию."
   ]
  },
  {
   "cell_type": "code",
   "execution_count": 7,
   "metadata": {},
   "outputs": [],
   "source": [
    "# urls = []\n",
    "\n",
    "# for link in soup.find_all('a'):\n",
    "#     if '/news' in link.get('href'):\n",
    "#         urls.append('https://nplus1.ru'+link.get('href'))\n",
    "\n",
    "urls = [link.get('href') \n",
    "        for link in soup.find_all('a') \n",
    "        if 'https://nplus1.ru/news/2023' in link.get('href')]"
   ]
  },
  {
   "cell_type": "markdown",
   "metadata": {},
   "source": [
    "Ссылки, которые у нас есть в списке `urls`, относительные: они неполные, начало ссылки (название сайта) отсутствует. Давайте превратим их в абсолютные ‒ склеим с ссылкой https://nplus1.ru."
   ]
  },
  {
   "cell_type": "code",
   "execution_count": 8,
   "metadata": {},
   "outputs": [
    {
     "data": {
      "text/plain": [
       "['https://nplus1.ru/news/2023/10/03/phys-nobel-2023',\n",
       " 'https://nplus1.ru/news/2023/10/04/neolithic-jericho',\n",
       " 'https://nplus1.ru/news/2023/10/04/we-drive-solar-sharing-batteries',\n",
       " 'https://nplus1.ru/news/2023/10/04/orca-vs-sea-otters',\n",
       " 'https://nplus1.ru/news/2023/10/03/wolves-love-story']"
      ]
     },
     "execution_count": 8,
     "metadata": {},
     "output_type": "execute_result"
    }
   ],
   "source": [
    "urls[:5]"
   ]
  },
  {
   "cell_type": "code",
   "execution_count": 9,
   "metadata": {},
   "outputs": [
    {
     "data": {
      "text/plain": [
       "['https://nplus1.ruhttps://nplus1.ru/news/2023/10/03/phys-nobel-2023',\n",
       " 'https://nplus1.ruhttps://nplus1.ru/news/2023/10/04/neolithic-jericho',\n",
       " 'https://nplus1.ruhttps://nplus1.ru/news/2023/10/04/we-drive-solar-sharing-batteries',\n",
       " 'https://nplus1.ruhttps://nplus1.ru/news/2023/10/04/orca-vs-sea-otters',\n",
       " 'https://nplus1.ruhttps://nplus1.ru/news/2023/10/03/wolves-love-story',\n",
       " 'https://nplus1.ruhttps://nplus1.ru/news/2023/10/03/bivalve-cancer',\n",
       " 'https://nplus1.ruhttps://nplus1.ru/news/2023/10/03/butterflies-plugs',\n",
       " 'https://nplus1.ruhttps://nplus1.ru/news/2023/10/03/gwas-carrot',\n",
       " 'https://nplus1.ruhttps://nplus1.ru/news/2023/10/03/phys-nobel-2023',\n",
       " 'https://nplus1.ruhttps://nplus1.ru/news/2023/10/03/yamnaya-people-and-multiple-sclerosis',\n",
       " 'https://nplus1.ruhttps://nplus1.ru/news/2023/10/03/viking-age-burial-in-garden',\n",
       " 'https://nplus1.ruhttps://nplus1.ru/news/2023/10/03/music-reading-dementia',\n",
       " 'https://nplus1.ruhttps://nplus1.ru/news/2023/10/03/gobekli-tepe',\n",
       " 'https://nplus1.ruhttps://nplus1.ru/news/2023/10/03/loneliness-and-risk-of-pd',\n",
       " 'https://nplus1.ruhttps://nplus1.ru/news/2023/10/03/jwst-m-42',\n",
       " 'https://nplus1.ruhttps://nplus1.ru/news/2023/10/03/baby-beaver',\n",
       " 'https://nplus1.ruhttps://nplus1.ru/news/2023/10/02/nitrogen-fertilisers',\n",
       " 'https://nplus1.ruhttps://nplus1.ru/news/2023/10/02/kelping',\n",
       " 'https://nplus1.ruhttps://nplus1.ru/news/2023/10/02/probiotics-preterm-infants',\n",
       " 'https://nplus1.ruhttps://nplus1.ru/news/2023/10/02/millimobile-battery-free-robot',\n",
       " 'https://nplus1.ruhttps://nplus1.ru/news/2023/10/02/carbene-double-oxidation',\n",
       " 'https://nplus1.ruhttps://nplus1.ru/news/2023/10/02/enlight-short-list-2023',\n",
       " 'https://nplus1.ruhttps://nplus1.ru/news/2023/10/02/lincombian-ranisian-jerzmanowician',\n",
       " 'https://nplus1.ruhttps://nplus1.ru/news/2023/10/02/physmed-nobel-2023',\n",
       " 'https://nplus1.ruhttps://nplus1.ru/news/2023/10/02/september-2023',\n",
       " 'https://nplus1.ruhttps://nplus1.ru/news/2023/10/02/abydos-wine-jars',\n",
       " 'https://nplus1.ruhttps://nplus1.ru/news/2023/10/02/petranola',\n",
       " 'https://nplus1.ruhttps://nplus1.ru/news/2023/10/02/neanderthals-from-altai',\n",
       " 'https://nplus1.ruhttps://nplus1.ru/news/2023/10/02/gastrodia-foetida',\n",
       " 'https://nplus1.ruhttps://nplus1.ru/news/2023/09/30/parker-closer-to-sun',\n",
       " 'https://nplus1.ruhttps://nplus1.ru/news/2023/09/30/yso-gigant-flare',\n",
       " 'https://nplus1.ruhttps://nplus1.ru/news/2023/09/30/jwst-ring-er-1',\n",
       " 'https://nplus1.ruhttps://nplus1.ru/news/2023/09/30/perseveranse-dust-devil',\n",
       " 'https://nplus1.ruhttps://nplus1.ru/news/2023/09/30/2023-ixf-lost-mass',\n",
       " 'https://nplus1.ruhttps://nplus1.ru/news/2023/09/30/nasa-new-horizons-go-go-go',\n",
       " 'https://nplus1.ruhttps://nplus1.ru/news/2023/09/30/baby-shark',\n",
       " 'https://nplus1.ruhttps://nplus1.ru/news/2023/09/30/callboat-water-taxi',\n",
       " 'https://nplus1.ruhttps://nplus1.ru/news/2023/09/30/osteolaemus-tetraspis',\n",
       " 'https://nplus1.ruhttps://nplus1.ru/news/2023/09/15/bathory-family',\n",
       " 'https://nplus1.ruhttps://nplus1.ru/news/2023/09/20/earliest-wood-construction',\n",
       " 'https://nplus1.ruhttps://nplus1.ru/news/2023/09/27/pyramid-of-sahure',\n",
       " 'https://nplus1.ruhttps://nplus1.ru/news/2023/10/03/gobekli-tepe',\n",
       " 'https://nplus1.ruhttps://nplus1.ru/news/2023/09/27/ninth-pangolin',\n",
       " 'https://nplus1.ruhttps://nplus1.ru/news/2023/09/22/new-language',\n",
       " 'https://nplus1.ruhttps://nplus1.ru/news/2023/09/15/earth-core-density-deficit',\n",
       " 'https://nplus1.ruhttps://nplus1.ru/news/2023/09/26/supercontinent-formation',\n",
       " 'https://nplus1.ruhttps://nplus1.ru/news/2023/09/15/earth-core-density-deficit',\n",
       " 'https://nplus1.ruhttps://nplus1.ru/news/2023/09/16/erase-and-rewire',\n",
       " 'https://nplus1.ruhttps://nplus1.ru/news/2023/09/20/nothing-extra',\n",
       " 'https://nplus1.ruhttps://nplus1.ru/news/2023/09/21/put-through',\n",
       " 'https://nplus1.ruhttps://nplus1.ru/news/2023/09/22/topological-phonons-in-graphene',\n",
       " 'https://nplus1.ruhttps://nplus1.ru/news/2023/09/22/a2744-z7p9od-properties',\n",
       " 'https://nplus1.ruhttps://nplus1.ru/news/2023/09/23/jwst-europe-co2',\n",
       " 'https://nplus1.ruhttps://nplus1.ru/news/2023/09/23/be-my-guide',\n",
       " 'https://nplus1.ruhttps://nplus1.ru/news/2023/09/23/sn-hope']"
      ]
     },
     "execution_count": 9,
     "metadata": {},
     "output_type": "execute_result"
    }
   ],
   "source": [
    "full_urls = []\n",
    "\n",
    "for u in urls:\n",
    "    res = 'https://nplus1.ru' + u\n",
    "    full_urls.append(res) \n",
    "\n",
    "full_urls"
   ]
  },
  {
   "cell_type": "code",
   "execution_count": 10,
   "metadata": {},
   "outputs": [
    {
     "data": {
      "text/plain": [
       "['https://nplus1.ru/news/2023/10/03/phys-nobel-2023',\n",
       " 'https://nplus1.ru/news/2023/10/04/neolithic-jericho',\n",
       " 'https://nplus1.ru/news/2023/10/04/we-drive-solar-sharing-batteries',\n",
       " 'https://nplus1.ru/news/2023/10/04/orca-vs-sea-otters',\n",
       " 'https://nplus1.ru/news/2023/10/03/wolves-love-story',\n",
       " 'https://nplus1.ru/news/2023/10/03/bivalve-cancer',\n",
       " 'https://nplus1.ru/news/2023/10/03/butterflies-plugs',\n",
       " 'https://nplus1.ru/news/2023/10/03/gwas-carrot',\n",
       " 'https://nplus1.ru/news/2023/10/03/phys-nobel-2023',\n",
       " 'https://nplus1.ru/news/2023/10/03/yamnaya-people-and-multiple-sclerosis',\n",
       " 'https://nplus1.ru/news/2023/10/03/viking-age-burial-in-garden',\n",
       " 'https://nplus1.ru/news/2023/10/03/music-reading-dementia',\n",
       " 'https://nplus1.ru/news/2023/10/03/gobekli-tepe',\n",
       " 'https://nplus1.ru/news/2023/10/03/loneliness-and-risk-of-pd',\n",
       " 'https://nplus1.ru/news/2023/10/03/jwst-m-42',\n",
       " 'https://nplus1.ru/news/2023/10/03/baby-beaver',\n",
       " 'https://nplus1.ru/news/2023/10/02/nitrogen-fertilisers',\n",
       " 'https://nplus1.ru/news/2023/10/02/kelping',\n",
       " 'https://nplus1.ru/news/2023/10/02/probiotics-preterm-infants',\n",
       " 'https://nplus1.ru/news/2023/10/02/millimobile-battery-free-robot',\n",
       " 'https://nplus1.ru/news/2023/10/02/carbene-double-oxidation',\n",
       " 'https://nplus1.ru/news/2023/10/02/enlight-short-list-2023',\n",
       " 'https://nplus1.ru/news/2023/10/02/lincombian-ranisian-jerzmanowician',\n",
       " 'https://nplus1.ru/news/2023/10/02/physmed-nobel-2023',\n",
       " 'https://nplus1.ru/news/2023/10/02/september-2023',\n",
       " 'https://nplus1.ru/news/2023/10/02/abydos-wine-jars',\n",
       " 'https://nplus1.ru/news/2023/10/02/petranola',\n",
       " 'https://nplus1.ru/news/2023/10/02/neanderthals-from-altai',\n",
       " 'https://nplus1.ru/news/2023/10/02/gastrodia-foetida',\n",
       " 'https://nplus1.ru/news/2023/09/30/parker-closer-to-sun',\n",
       " 'https://nplus1.ru/news/2023/09/30/yso-gigant-flare',\n",
       " 'https://nplus1.ru/news/2023/09/30/jwst-ring-er-1',\n",
       " 'https://nplus1.ru/news/2023/09/30/perseveranse-dust-devil',\n",
       " 'https://nplus1.ru/news/2023/09/30/2023-ixf-lost-mass',\n",
       " 'https://nplus1.ru/news/2023/09/30/nasa-new-horizons-go-go-go',\n",
       " 'https://nplus1.ru/news/2023/09/30/baby-shark',\n",
       " 'https://nplus1.ru/news/2023/09/30/callboat-water-taxi',\n",
       " 'https://nplus1.ru/news/2023/09/30/osteolaemus-tetraspis',\n",
       " 'https://nplus1.ru/news/2023/09/15/bathory-family',\n",
       " 'https://nplus1.ru/news/2023/09/20/earliest-wood-construction',\n",
       " 'https://nplus1.ru/news/2023/09/27/pyramid-of-sahure',\n",
       " 'https://nplus1.ru/news/2023/10/03/gobekli-tepe',\n",
       " 'https://nplus1.ru/news/2023/09/27/ninth-pangolin',\n",
       " 'https://nplus1.ru/news/2023/09/22/new-language',\n",
       " 'https://nplus1.ru/news/2023/09/15/earth-core-density-deficit',\n",
       " 'https://nplus1.ru/news/2023/09/26/supercontinent-formation',\n",
       " 'https://nplus1.ru/news/2023/09/15/earth-core-density-deficit',\n",
       " 'https://nplus1.ru/news/2023/09/16/erase-and-rewire',\n",
       " 'https://nplus1.ru/news/2023/09/20/nothing-extra',\n",
       " 'https://nplus1.ru/news/2023/09/21/put-through',\n",
       " 'https://nplus1.ru/news/2023/09/22/topological-phonons-in-graphene',\n",
       " 'https://nplus1.ru/news/2023/09/22/a2744-z7p9od-properties',\n",
       " 'https://nplus1.ru/news/2023/09/23/jwst-europe-co2',\n",
       " 'https://nplus1.ru/news/2023/09/23/be-my-guide',\n",
       " 'https://nplus1.ru/news/2023/09/23/sn-hope']"
      ]
     },
     "execution_count": 10,
     "metadata": {},
     "output_type": "execute_result"
    }
   ],
   "source": [
    "urls"
   ]
  },
  {
   "cell_type": "markdown",
   "metadata": {},
   "source": [
    "Теперь наша задача сводится к следующему: изучить одну страницу с новостью, научиться из нее вытаскивать текст и всю необходимую информацию, а потом применить весь набор действий к каждой ссылке из `full_urls` в цикле. Посмотрим на новость с индексом 1, у вас может быть другая, новости обновляются."
   ]
  },
  {
   "cell_type": "code",
   "execution_count": 11,
   "metadata": {},
   "outputs": [],
   "source": [
    "url0 = urls[0]\n",
    "\n",
    "page0 = requests.get(url0)\n",
    "soup0 = BeautifulSoup(page0.text, 'html')"
   ]
  },
  {
   "cell_type": "code",
   "execution_count": 12,
   "metadata": {},
   "outputs": [
    {
     "data": {
      "text/plain": [
       "'https://nplus1.ru/news/2023/10/03/phys-nobel-2023'"
      ]
     },
     "execution_count": 12,
     "metadata": {},
     "output_type": "execute_result"
    }
   ],
   "source": [
    "url0"
   ]
  },
  {
   "cell_type": "markdown",
   "metadata": {},
   "source": [
    "В коде каждой страницы с новостью есть часть с мета-информацией: датой, именем автора и проч. Такая информация окружена тэгом `<meta></meta>`. Посмотрим:"
   ]
  },
  {
   "cell_type": "code",
   "execution_count": 13,
   "metadata": {},
   "outputs": [
    {
     "data": {
      "text/plain": [
       "[<meta charset=\"utf-8\"/>,\n",
       " <meta content=\"width=device-width, initial-scale=1\" name=\"viewport\"/>,\n",
       " <meta content=\"#f26e40\" name=\"msapplication-TileColor\"/>,\n",
       " <meta content=\"#ffffff\" name=\"theme-color\"/>,\n",
       " <meta content=\"8c90b02c84ac3b72\" name=\"yandex-verification\"/>,\n",
       " <meta content=\"b419949322895fc9106e24ed01be58ac\" name=\"pmail-verification\"/>,\n",
       " <meta content=\"N + 1 — главное издание о науке, технике и технологиях\" name=\"description\"/>,\n",
       " <meta content=\"N + 1 — главное издание о науке, технике и технологиях\" property=\"og:site_name\"/>,\n",
       " <meta content=\"Нобелевскую премию по физике присудили за аттосекундные импульсы\" property=\"og:title\"/>,\n",
       " <meta content=\"https://minio.nplus1.ru/app-images/838952/6516cd10c8cc8_cover_share.jpg\" property=\"og:image\"/>,\n",
       " <meta content=\"https://nplus1.ru/news/2023/10/03/phys-nobel-2023\" property=\"og:url\"/>,\n",
       " <meta content=\"N + 1 — главное издание о науке, технике и технологиях\" property=\"og:description\"/>,\n",
       " <meta content=\"article\" property=\"og:type\"/>,\n",
       " <meta content=\"2023-10-03\" itemprop=\"datePublished\"/>,\n",
       " <meta content=\"2023-10-03\" itemprop=\"datePublished\"/>,\n",
       " <meta content=\"Александр Дубов\" name=\"mediator_author\"/>,\n",
       " <meta content=\"Александр Дубов\" name=\"author\"/>,\n",
       " <meta content=\"\" name=\"copyright\"/>,\n",
       " <meta content=\"summary_large_image\" name=\"twitter:card\"/>,\n",
       " <meta content=\"@nplusodin\" name=\"twitter:site\"/>,\n",
       " <meta content=\"Нобелевскую премию по физике присудили за аттосекундные импульсы\" name=\"twitter:title\"/>,\n",
       " <meta content=\"N + 1 — главное издание о науке, технике и технологиях\" name=\"twitter:description\"/>,\n",
       " <meta content=\"https://minio.nplus1.ru/app-images/838952/6516cd10c8cc8_cover_share.jpg\" name=\"twitter:image\"/>]"
      ]
     },
     "execution_count": 13,
     "metadata": {},
     "output_type": "execute_result"
    }
   ],
   "source": [
    "soup0.find_all('meta')"
   ]
  },
  {
   "cell_type": "markdown",
   "metadata": {},
   "source": [
    "Из этого списка нам нужны части с именем автора, датой, заголовком и кратким описанием. Воспользуемся поиском по атрибуту `name`. Передадим функции `find_all()` в качестве аргумента словарь с названием и значением атрибута: "
   ]
  },
  {
   "cell_type": "code",
   "execution_count": 14,
   "metadata": {},
   "outputs": [
    {
     "data": {
      "text/plain": [
       "[<meta content=\"Александр Дубов\" name=\"author\"/>]"
      ]
     },
     "execution_count": 14,
     "metadata": {},
     "output_type": "execute_result"
    }
   ],
   "source": [
    "soup0.find_all('meta', {'name' : 'author'}) # например, автор"
   ]
  },
  {
   "cell_type": "markdown",
   "metadata": {},
   "source": [
    "Теперь выберем единственный элемент полученного списка (с индексом 0):"
   ]
  },
  {
   "cell_type": "code",
   "execution_count": 15,
   "metadata": {},
   "outputs": [
    {
     "data": {
      "text/plain": [
       "<meta content=\"Александр Дубов\" name=\"author\"/>"
      ]
     },
     "execution_count": 15,
     "metadata": {},
     "output_type": "execute_result"
    }
   ],
   "source": [
    "soup0.find_all('meta', {'name' : 'author'})[0]"
   ]
  },
  {
   "cell_type": "markdown",
   "metadata": {},
   "source": [
    "Нам нужно вытащить из этого объекта `content` – имя автора. Посмотрим на атрибуты:"
   ]
  },
  {
   "cell_type": "code",
   "execution_count": 16,
   "metadata": {},
   "outputs": [
    {
     "data": {
      "text/plain": [
       "'Александр Дубов'"
      ]
     },
     "execution_count": 16,
     "metadata": {},
     "output_type": "execute_result"
    }
   ],
   "source": [
    "soup0.find_all('meta', {'name' : 'author'})[0].get('content')"
   ]
  },
  {
   "cell_type": "markdown",
   "metadata": {},
   "source": [
    "Как получить отсюда `content`? Очень просто, ведь это словарь! А доставать из словаря значение по ключу мы умеем."
   ]
  },
  {
   "cell_type": "code",
   "execution_count": 17,
   "metadata": {},
   "outputs": [
    {
     "data": {
      "text/plain": [
       "{'name': 'author', 'content': 'Александр Дубов'}"
      ]
     },
     "execution_count": 17,
     "metadata": {},
     "output_type": "execute_result"
    }
   ],
   "source": [
    "author = soup0.find_all('meta', {'name' : 'author'})[0].attrs\n",
    "author"
   ]
  },
  {
   "cell_type": "markdown",
   "metadata": {},
   "source": [
    "Аналогичным образом извлечем дату, заголовок и описание."
   ]
  },
  {
   "cell_type": "code",
   "execution_count": 18,
   "metadata": {},
   "outputs": [
    {
     "data": {
      "text/plain": [
       "'Нобелевскую премию по\\xa0физике присудили за\\xa0аттосекундные импульсы'"
      ]
     },
     "execution_count": 18,
     "metadata": {},
     "output_type": "execute_result"
    }
   ],
   "source": [
    "soup0.find_all('meta', {'property' : 'og:title'})[0].get('content')"
   ]
  },
  {
   "cell_type": "code",
   "execution_count": 19,
   "metadata": {},
   "outputs": [],
   "source": [
    "date = soup0.find_all('meta', {'itemprop' : 'datePublished'})[0].get('content')\n",
    "title = soup0.find_all('meta', {'property' : 'og:title'})[0].get('content')\n",
    "description = soup0.find_all('h1', {'class':'text-34 md:text-42 xl:text-52 break-words'})[0].get_text().strip() \\\n",
    "+ '\\n' + soup0.find_all('p', {'class':\"text-36 md:text-44 xl:text-54 font-spectral text-main-gray mb-6\"})[0].get_text().strip()\n",
    "\n"
   ]
  },
  {
   "cell_type": "code",
   "execution_count": 20,
   "metadata": {},
   "outputs": [
    {
     "data": {
      "text/plain": [
       "'Нобелевскую премию по\\xa0физике присудили за\\xa0аттосекундные импульсы\\nЛауреатами стали Пьер Агостини, Ференц Краус и\\xa0Анн Л\\x92Юилье'"
      ]
     },
     "execution_count": 20,
     "metadata": {},
     "output_type": "execute_result"
    }
   ],
   "source": [
    "description"
   ]
  },
  {
   "cell_type": "markdown",
   "metadata": {},
   "source": [
    "Осталось вытащить рубрики и сложность текста. Если мы посмотрим на исходный код страницы, мы увидим, что нужная нам информация находится в тэгах `<p></p>`:"
   ]
  },
  {
   "cell_type": "code",
   "execution_count": 21,
   "metadata": {},
   "outputs": [],
   "source": [
    "new_data = soup0.find_all('div', {'class':\"flex flex-wrap lg:mb-10 gap-2 text-tags xl:pr-9\"})[0].find_all('span')[1:]\n",
    "\n",
    "time_published = new_data[0].get_text()\n",
    "date_published = new_data[1].get_text()\n",
    "complexity = new_data[2].get_text()\n",
    "themes = ', '.join(i.get_text() for i in new_data[3:])"
   ]
  },
  {
   "cell_type": "code",
   "execution_count": 22,
   "metadata": {},
   "outputs": [],
   "source": [
    "paragraphs = soup0.find_all('p', {'class': 'mb-6'})[1:]\n"
   ]
  },
  {
   "cell_type": "code",
   "execution_count": 23,
   "metadata": {},
   "outputs": [],
   "source": [
    "links = set()\n",
    "for p in paragraphs:\n",
    "    links|={i.get('href') for i in p.find_all('a')}\n",
    "links = ', '.join(links)"
   ]
  },
  {
   "cell_type": "code",
   "execution_count": 24,
   "metadata": {},
   "outputs": [],
   "source": [
    "full_text = '\\n'.join([p.get_text() for p in paragraphs])"
   ]
  },
  {
   "cell_type": "markdown",
   "metadata": {},
   "source": [
    "Не прошло и двух пар, как мы разобрались со всем :) Теперь осталось совсем чуть-чуть. Написать готовую функцию для всех проделанных нами действий и применить ее в цикле для всех ссылок в списке `full_urls`. Напишем! Аргументом функции будет ссылка на новость, а возвращать она будет текст новости и всю необходимую информацию (дата, автор, сложность и проч.). Скопируем все строки кода выше."
   ]
  },
  {
   "cell_type": "code",
   "execution_count": 27,
   "metadata": {},
   "outputs": [],
   "source": [
    "def GetNews(url0):\n",
    "    \"\"\"\n",
    "    Returns a tuple with \n",
    "    url0, date_published, time_published, author, description, title, complexity, themes, links,full_text\n",
    "    Parameters:\n",
    "    \n",
    "    url0 is a link to the news (string)\n",
    "    \"\"\"\n",
    "    page0 = requests.get(url0)\n",
    "    soup0 = BeautifulSoup(page0.text, 'lxml')\n",
    "    \n",
    "    author = soup0.find_all('meta', {'name' : 'author'})[0].get('content')\n",
    "    date = soup0.find_all('meta', {'itemprop' : 'datePublished'})[0].get('content')\n",
    "    title = soup0.find_all('meta', {'property' : 'og:title'})[0].get('content')\n",
    "    description = soup0.find_all('h1', {'class':'text-34 md:text-42 xl:text-52 break-words'})[0].get_text().strip() \\\n",
    "+ '\\n' + soup0.find_all('p', {'class':\"text-36 md:text-44 xl:text-54 font-spectral text-main-gray mb-6\"})[0].get_text().strip()\n",
    "\n",
    "\n",
    "    \n",
    "    new_data = soup0.find_all('div', {'class':\"flex flex-wrap lg:mb-10 gap-2 text-tags xl:pr-9\"})[0].find_all('span')[1:]\n",
    "\n",
    "    time_published = new_data[0].get_text()\n",
    "    date_published = new_data[1].get_text()\n",
    "    complexity = new_data[2].get_text()\n",
    "    themes = ', '.join(i.get_text() for i in new_data[3:])\n",
    "    \n",
    "    paragraphs = soup0.find_all('p', {'class': 'mb-6'})[1:]\n",
    "    links = set()\n",
    "    for p in paragraphs:\n",
    "        links|={i.get('href') for i in p.find_all('a')}\n",
    "    links -= {None} # Если вдруг у нас есть None-ссылка\n",
    "    links = {''} if not links else links\n",
    "    links = ', '.join(links)\n",
    "    full_text = '\\n'.join([p.get_text() for p in paragraphs])\n",
    "    \n",
    "    return url0, date_published, time_published, author, description, title, complexity, themes, links,full_text"
   ]
  },
  {
   "cell_type": "markdown",
   "metadata": {},
   "source": [
    "Уфф. Осталось применить ее в цикле. Но давайте не будем спешить: импортируем функцию `sleep` для задержки, чтобы на каждой итерации цикла, прежде чем перейти к следующей новости, Python ждал несколько секунд. Во-первых, это нужно, чтобы сайт «не понял», чтобы мы его грабим, да еще автоматически. Во-вторых, с небольшой задержкой всегда есть гарантия, что страница прогрузится (сейчас это пока не очень важно, но особенно актуально будет, когда будем обсуждать встраивание в браузер с Selenium). Приступим."
   ]
  },
  {
   "cell_type": "code",
   "execution_count": 28,
   "metadata": {},
   "outputs": [],
   "source": [
    "from time import sleep\n",
    "from tqdm import tqdm"
   ]
  },
  {
   "cell_type": "code",
   "execution_count": 29,
   "metadata": {},
   "outputs": [],
   "source": [
    "import random"
   ]
  },
  {
   "cell_type": "code",
   "execution_count": 30,
   "metadata": {},
   "outputs": [
    {
     "name": "stderr",
     "output_type": "stream",
     "text": [
      "100%|██████████████████████████████████████████████████████████████████████████████████| 55/55 [01:46<00:00,  1.93s/it]\n"
     ]
    }
   ],
   "source": [
    "news = [] # это будет список из кортежей, в которых будут храниться данные по каждой новости\n",
    "\n",
    "for link in tqdm(urls):\n",
    "    res = GetNews(link)\n",
    "    news.append(res)\n",
    "    sleep(random.random()) # задержка в 3 секунды"
   ]
  },
  {
   "cell_type": "code",
   "execution_count": 32,
   "metadata": {},
   "outputs": [
    {
     "data": {
      "text/plain": [
       "'https://nplus1.ru/news/2023/09/22/topological-phonons-in-graphene'"
      ]
     },
     "execution_count": 32,
     "metadata": {},
     "output_type": "execute_result"
    }
   ],
   "source": [
    "urls[50]"
   ]
  },
  {
   "cell_type": "code",
   "execution_count": 34,
   "metadata": {},
   "outputs": [],
   "source": [
    "page0 = requests.get(urls[50])\n",
    "soup0 = BeautifulSoup(page0.text, 'lxml')"
   ]
  },
  {
   "cell_type": "code",
   "execution_count": 35,
   "metadata": {},
   "outputs": [],
   "source": [
    "paragraphs = soup0.find_all('p', {'class': 'mb-6'})[1:]"
   ]
  },
  {
   "cell_type": "code",
   "execution_count": 36,
   "metadata": {},
   "outputs": [],
   "source": [
    "links = set()\n",
    "for p in paragraphs:\n",
    "    links|={i.get('href') for i in p.find_all('a')}"
   ]
  },
  {
   "cell_type": "code",
   "execution_count": 37,
   "metadata": {},
   "outputs": [
    {
     "data": {
      "text/plain": [
       "{'https://journals.aps.org/prl/abstract/10.1103/PhysRevLett.131.116602',\n",
       " 'https://nplus1.ru/material/2022/05/20/magic-graphene',\n",
       " 'https://nplus1.ru/news/2018/01/15/phonon-topological-insulator',\n",
       " 'https://nplus1.ru/news/2018/02/02/chiral-phonons',\n",
       " 'https://pubs.aip.org/aip/apr/article/9/4/041304/2835337/Topological-nodal-line-phonons-Recent-advances-in',\n",
       " 'https://ru.wikipedia.org/wiki/%D0%A4%D0%BE%D0%BD%D0%BE%D0%BD'}"
      ]
     },
     "execution_count": 37,
     "metadata": {},
     "output_type": "execute_result"
    }
   ],
   "source": [
    "links - {None}"
   ]
  },
  {
   "cell_type": "markdown",
   "metadata": {},
   "source": [
    "Так теперь выглядит первый элемент списка:"
   ]
  },
  {
   "cell_type": "code",
   "execution_count": 39,
   "metadata": {},
   "outputs": [
    {
     "data": {
      "text/plain": [
       "('https://nplus1.ru/news/2023/10/03/phys-nobel-2023',\n",
       " '03.10.23',\n",
       " '12:54',\n",
       " 'Александр Дубов',\n",
       " 'Нобелевскую премию по\\xa0физике присудили за\\xa0аттосекундные импульсы\\nЛауреатами стали Пьер Агостини, Ференц Краус и\\xa0Анн Л\\x92Юилье',\n",
       " 'Нобелевскую премию по\\xa0физике присудили за\\xa0аттосекундные импульсы',\n",
       " '3.6',\n",
       " 'Физика',\n",
       " 'https://pubmed.ncbi.nlm.nih.gov/11387467/, https://t.co/vXkuzBQkfK, https://nplus1.ru/news/2022/01/27/ionization-entanglement, https://nplus1.ru/blog/2023/09/20/clarivate-nobel-2023, https://www.nobelprize.org, https://iopscience.iop.org/article/10.1088/0953-4075/21/3/001, https://nplus1.ru/material/2022/10/04/physics-nobel-2022, https://pubmed.ncbi.nlm.nih.gov/11734845/, https://nplus1.ru/material/2021/10/06/nobel-physics-2021-exp',\n",
       " 'Нобелиатами по\\xa0физике в\\xa02023 году стали Пьер Агостини (Pierre Agostini), Ференц Краус (Ferenc Krausz) и\\xa0Анн Л’Юилье (Anne L’Huillier)\\xa0— за\\xa0экспериментальные методы генерации аттосекундных импульсов для изучения динамики электронов в\\xa0веществе. За\\xa0церемонией объявления победителей можно следить в\\xa0прямом эфире на\\xa0сайте Нобелевского комитета. Подробнее об\\xa0исследованиях ученых и\\xa0их\\xa0заслугах можно прочитать в\\xa0официальном пресс-релизе. Вручение премий состоится 10\\xa0декабря в\\xa0Стокгольме.\\nДля атомов внутри молекул время течет очень быстро: они перемещаются и\\xa0поворачиваются за\\xa0считанные фемтосекунды\\xa0— это 10-15\\xa0секунды. Отдельные электроны внутри атомов двигаются еще быстрее: они меняют свою энергию и\\xa0положение в\\xa0пространстве за\\xa0десятки и\\xa0сотни аттосекунд, это еще на\\xa0три порядка короче, чем фемтосекунда. Поэтому, чтобы за\\xa0ними наблюдать\\xa0— или хотя\\xa0бы фиксировать изменение их\\xa0энергии,\\xa0— нужно уметь действовать на\\xa0них точечно, и\\xa0воздействие должно быть таким\\xa0же быстрым, как и\\xa0движение самих электронов.\\nОбычно для того, чтобы возбудить электрон, физики используют лазерный импульс. Но\\xa0самой короткой вспышкой, которую можно было создать, долгое время были фемтосекундные импульсы. Чтобы сделать их\\xa0быстрее, нужно было получить вспышку с\\xa0более короткой длиной волны\\xa0— потому что импульс не\\xa0может быть короче одного периода электромагнитного колебания.\\nЭту задачу решила группа Анн Л’Юилье в\\xa01987\\xa0году. Она вместе с\\xa0коллегами пропускала инфракрасный свет через аргон. И\\xa0обнаружила, что облучение даже длинноволновым светом может приводить к\\xa0генерации очень коротких импульсов. Ионизированный электрон, накачанный облучающим инфракрасным светом, после рекомбинации возбуждает гармоники более высоких порядков. В\\xa0результате получаются волны более короткой длины\\xa0— в\\xa0ультрафиолетовом диапазоне\\xa0— которые дают короткую вспышку, продолжительностью как раз в\\xa0несколько сотен аттосекунд.\\nЗа\\xa01990-е физики разобрались в\\xa0том, почему так происходит. Но\\xa0только в\\xa0начале 2000-х Пьер Агостини и\\xa0его группа построили установку, которая могла генерировать серию из\\xa0нескольких последовательных аттосекундных импульсов. Эти короткие импульсы складывались с\\xa0облучающим импульсом, в\\xa0результате чего можно было управлять параметрами старших гармоник. Тогда\\xa0же они измерили длину получившегося импульса\\xa0— 250\\xa0аттосекунд. И\\xa0одновременно с\\xa0ними импульсами занималась группа Ференца Крауса\\xa0— они научились получать изолированные одиночные вспышки и\\xa0сразу применили\\xa0их, чтобы измерить, за\\xa0какое время электрон отрывается от\\xa0атома.\\nС\\xa0тех пор физики нашли аттосекундным импульсам и\\xa0другие применения. Так, они позволяют точнее контролировать квантовое состояние электронов, например, при фотоионизации. С\\xa0помощью них можно генерировать запутанные состояния (между электроном и\\xa0катионом).\\nНи\\xa0одного из\\xa0лауреатов не\\xa0было в\\xa0этом году в\\xa0традиционном списке компании Clarivate, которая предполагает, кто мог\\xa0бы получить премию, на\\xa0основе данных о\\xa0цитируемости. На\\xa0этот раз компания выделила трех физиков из\\xa0разных областей: Шэрон Глотцер\\xa0— за\\xa0исследование упаковки тетраэдрических элементов кристаллических структур и\\xa0энтропийного вклада в\\xa0образование макропорядка, Стюарта Паркина\\xa0— за\\xa0работы по\\xa0спинтронике и\\xa0разработку беговой памяти, и\\xa0одного из\\xa0создателей квантово-каскадного лазера Федерико Капассо.\\nПрогнозы Clarivate часто бывают точны, но\\xa0лишь в\\xa0исключительных случаях сбываются год в\\xa0год. Из\\xa0лауреатов этого года аналитики угадали только с\\xa0Ференцем Краусом\\xa0— в\\xa02015\\xa0году. Нобелиаты 2022 года Джон Клаузер, Ален Аспе и\\xa0Антон Цайлингер были в\\xa0списке «лауреатов по\\xa0цитируемости» за\\xa02011\\xa0год, когда его составляла еще компания Thomson Reuters. Подробнее об\\xa0их\\xa0премии, которую присудили за\\xa0исследование квантовой запутанности и\\xa0нарушений неравенств Белла,\\xa0— в\\xa0материале «Бог играет в\\xa0эти игры».\\nА\\xa0первый успешный прогноз год в\\xa0год наукометристы Clarivate сделали в\\xa02021\\xa0году, предсказав лауреата премии именно по\\xa0физике\\xa0— Джорджо Паризи. Итальянский ученый исследовал закономерности, которым подчиняются сложные физические системы с\\xa0флуктуациями и\\xa0беспорядком на\\xa0разных масштабах. Подробнее о\\xa0работах самого Паризи и\\xa0двух его солауреатов, климатологов Сюкуро Манабе и\\xa0Клауса Хассельмана,\\xa0— в\\xa0нашем материале «Порядок на\\xa0плечах хаоса». \\nЧто доказали лауреаты Нобелевской премии по физике 2022 года\\nКвантовая запутанность и квантовая телепортация — это хайп. Новости о том, что очередной банк ввел в эксплуатацию квантовое шифрование, а группа ученых провела эксперимент по квантовой телепортации на сотни километров, многим научным журналистам уже давно набили оскомину, но их число все растет и растет. Нобелевский комитет утверждает, что реагирует не на него. Но тогда непонятно почему премию дали сегодня, а не десять лет назад. Рассказываем, кто такие Джон Клаузер, Ален Аспе и Антон Цайлингер — и где они, а где хайп.')"
      ]
     },
     "execution_count": 39,
     "metadata": {},
     "output_type": "execute_result"
    }
   ],
   "source": [
    "news[0]"
   ]
  },
  {
   "cell_type": "markdown",
   "metadata": {},
   "source": [
    "Импортируем `pandas` и создадим датафрейм из списка кортежей: "
   ]
  },
  {
   "cell_type": "code",
   "execution_count": 61,
   "metadata": {},
   "outputs": [],
   "source": [
    "import pandas as pd"
   ]
  },
  {
   "cell_type": "code",
   "execution_count": 62,
   "metadata": {},
   "outputs": [],
   "source": [
    "df = pd.DataFrame(news)"
   ]
  },
  {
   "cell_type": "code",
   "execution_count": 63,
   "metadata": {},
   "outputs": [
    {
     "data": {
      "text/html": [
       "<div>\n",
       "<style scoped>\n",
       "    .dataframe tbody tr th:only-of-type {\n",
       "        vertical-align: middle;\n",
       "    }\n",
       "\n",
       "    .dataframe tbody tr th {\n",
       "        vertical-align: top;\n",
       "    }\n",
       "\n",
       "    .dataframe thead th {\n",
       "        text-align: right;\n",
       "    }\n",
       "</style>\n",
       "<table border=\"1\" class=\"dataframe\">\n",
       "  <thead>\n",
       "    <tr style=\"text-align: right;\">\n",
       "      <th></th>\n",
       "      <th>0</th>\n",
       "      <th>1</th>\n",
       "      <th>2</th>\n",
       "      <th>3</th>\n",
       "      <th>4</th>\n",
       "      <th>5</th>\n",
       "      <th>6</th>\n",
       "      <th>7</th>\n",
       "      <th>8</th>\n",
       "      <th>9</th>\n",
       "    </tr>\n",
       "  </thead>\n",
       "  <tbody>\n",
       "    <tr>\n",
       "      <th>0</th>\n",
       "      <td>https://nplus1.ru/news/2023/10/03/phys-nobel-2023</td>\n",
       "      <td>03.10.23</td>\n",
       "      <td>12:54</td>\n",
       "      <td>Александр Дубов</td>\n",
       "      <td>Нобелевскую премию по физике присудили за атто...</td>\n",
       "      <td>Нобелевскую премию по физике присудили за атто...</td>\n",
       "      <td>3.6</td>\n",
       "      <td>Физика</td>\n",
       "      <td>https://pubmed.ncbi.nlm.nih.gov/11387467/, htt...</td>\n",
       "      <td>Нобелиатами по физике в 2023 году стали Пьер А...</td>\n",
       "    </tr>\n",
       "    <tr>\n",
       "      <th>1</th>\n",
       "      <td>https://nplus1.ru/news/2023/10/04/neolithic-je...</td>\n",
       "      <td>04.10.23</td>\n",
       "      <td>10:37</td>\n",
       "      <td>Михаил Подрезов</td>\n",
       "      <td>Среди 44 жителей Иерихона эпохи докерамическог...</td>\n",
       "      <td>Среди 44 жителей Иерихона эпохи докерамическог...</td>\n",
       "      <td>2.9</td>\n",
       "      <td>Антропология, Археология</td>\n",
       "      <td>https://en.wikipedia.org/wiki/Tower_of_Jericho...</td>\n",
       "      <td>Группа ученых исследовала 52 человеческих зуба...</td>\n",
       "    </tr>\n",
       "  </tbody>\n",
       "</table>\n",
       "</div>"
      ],
      "text/plain": [
       "                                                   0         1      2  \\\n",
       "0  https://nplus1.ru/news/2023/10/03/phys-nobel-2023  03.10.23  12:54   \n",
       "1  https://nplus1.ru/news/2023/10/04/neolithic-je...  04.10.23  10:37   \n",
       "\n",
       "                 3                                                  4  \\\n",
       "0  Александр Дубов  Нобелевскую премию по физике присудили за атто...   \n",
       "1  Михаил Подрезов  Среди 44 жителей Иерихона эпохи докерамическог...   \n",
       "\n",
       "                                                   5    6  \\\n",
       "0  Нобелевскую премию по физике присудили за атто...  3.6   \n",
       "1  Среди 44 жителей Иерихона эпохи докерамическог...  2.9   \n",
       "\n",
       "                          7  \\\n",
       "0                    Физика   \n",
       "1  Антропология, Археология   \n",
       "\n",
       "                                                   8  \\\n",
       "0  https://pubmed.ncbi.nlm.nih.gov/11387467/, htt...   \n",
       "1  https://en.wikipedia.org/wiki/Tower_of_Jericho...   \n",
       "\n",
       "                                                   9  \n",
       "0  Нобелиатами по физике в 2023 году стали Пьер А...  \n",
       "1  Группа ученых исследовала 52 человеческих зуба...  "
      ]
     },
     "execution_count": 63,
     "metadata": {},
     "output_type": "execute_result"
    }
   ],
   "source": [
    "df.head(2)"
   ]
  },
  {
   "cell_type": "markdown",
   "metadata": {},
   "source": [
    "Переименуем столбцы в базе."
   ]
  },
  {
   "cell_type": "code",
   "execution_count": 64,
   "metadata": {},
   "outputs": [],
   "source": [
    "df.columns = ['url', 'date_published', 'time_published', 'author', 'description', 'title', 'complexity', 'themes', 'links','full_text']"
   ]
  },
  {
   "cell_type": "markdown",
   "metadata": {},
   "source": [
    "Теперь внесем изменения: сделаем столбец `diffc` числовым – типа *float*."
   ]
  },
  {
   "cell_type": "code",
   "execution_count": 65,
   "metadata": {},
   "outputs": [],
   "source": [
    "df['complexity'] = df['complexity'].apply(float)"
   ]
  },
  {
   "cell_type": "markdown",
   "metadata": {},
   "source": [
    "Теперь сложность представлена в базе как количественный показатель, и описывать ее можно соответствующим образом:"
   ]
  },
  {
   "cell_type": "code",
   "execution_count": 66,
   "metadata": {
    "scrolled": true
   },
   "outputs": [
    {
     "data": {
      "text/plain": [
       "count    55.000000\n",
       "mean      3.276364\n",
       "std       1.721430\n",
       "min       1.100000\n",
       "25%       1.900000\n",
       "50%       3.100000\n",
       "75%       4.450000\n",
       "max       7.800000\n",
       "Name: complexity, dtype: float64"
      ]
     },
     "execution_count": 66,
     "metadata": {},
     "output_type": "execute_result"
    }
   ],
   "source": [
    "df.complexity.describe()"
   ]
  },
  {
   "cell_type": "code",
   "execution_count": 67,
   "metadata": {},
   "outputs": [],
   "source": [
    "from matplotlib.cbook import flatten"
   ]
  },
  {
   "cell_type": "code",
   "execution_count": 68,
   "metadata": {},
   "outputs": [
    {
     "data": {
      "text/plain": [
       "['Антропология',\n",
       " 'Археология',\n",
       " 'Астрономия',\n",
       " 'Биология',\n",
       " 'Ботаника',\n",
       " 'Геология',\n",
       " 'Зоология',\n",
       " 'Инфопартнерство',\n",
       " 'История',\n",
       " 'Космонавтика',\n",
       " 'Лингвистика',\n",
       " 'Медицина',\n",
       " 'Роботы и дроны',\n",
       " 'Технологии',\n",
       " 'Транспорт',\n",
       " 'Физика',\n",
       " 'Химия',\n",
       " 'Экология и климат']"
      ]
     },
     "execution_count": 68,
     "metadata": {},
     "output_type": "execute_result"
    }
   ],
   "source": [
    "sorted(set(flatten([i.split(', ') for i in df.themes.unique()])))"
   ]
  },
  {
   "cell_type": "code",
   "execution_count": 69,
   "metadata": {},
   "outputs": [
    {
     "data": {
      "text/plain": [
       "'Суперконтинент Пангея Ультима, в\\xa0который соединятся материки через 250 миллионов лет, будет непригоден для обитания млекопитающих. Средняя температура воздуха над ним резко вырастет, и\\xa0его климат станет слишком континентальным из-за слияния континентов, роста концентрации углекислого газа и\\xa0величины солнечной постоянной. Такие прогнозы содержит исследование, опубликованное в\\xa0журнале Nature Geoscience.\\nМлекопитающие появились на\\xa0Земле приблизительно 310 миллионов лет назад, но\\xa0стали доминирующим классом животных только после мел-палеогенового вымирания 66\\xa0миллионов лет назад. Причины их\\xa0широкого распространения во\\xa0всех наземных биомах связывают с\\xa0успешной адаптацией к\\xa0потеплениям и\\xa0похолоданиям в\\xa0Кайнозое. Текущее антропогенное изменение климата вряд\\xa0ли сможет стать причиной вымирания млекопитающих: даже если сжечь все ископаемое топливо, то\\xa0к\\xa02300 году средняя температура поднимется на\\xa012\\xa0градусов Цельсия относительно доиндустриального уровня, и\\xa0большая часть суши останется пригодной для обитания. Однако в\\xa0более длительной перспективе угрозу может представлять сдвиг континентов: примерно через 250 миллионов лет ныне существующие материки сольются в\\xa0суперконтинент Пангея Ультима, и\\xa0существует вероятность, что климат Земли окажется непригодным для млекопитающих.\\nУченые под руководством Александра Фарнсворта (Alexander Farnsworth) из\\xa0Университета штата Пенсильвания провели прогностическое моделирование изменения климата на\\xa0будущем суперконтиненте и\\xa0проверили условия на\\xa0пригодность для обитания млекопитающих. Для этого они использовали модель общей циркуляции атмосферы, океана и\\xa0суши HadCM3L, биогеохимическую модель SCION и\\xa0динамическую модель растительного покрова TRIFFID. Рост величины солнечной постоянной (суммарная мощность солнечного излучения, приходящего на\\xa0каждый квадратный метр земной поверхности\\xa0— сейчас это 1364,95 Ватт на\\xa0квадратный метр) равным 2,5 процента за\\xa0110 миллионов лет.\\nМоделирование показало, что из-за увеличения нагрева поверхности планеты солнечными лучами, роста концентрации углекислого газа и\\xa0слияния континентов через 250 миллионов лет на\\xa0Пангее Ультиме климат будет резко континентальным и\\xa0практически непригодным для обитания млекопитающих. Средняя долгосрочная концентрация углекислого газа, согласно результатам моделирования, составит порядка 621 ppm (частей на\\xa0миллион). При этом при концентрации CO2, равной 556\\xa0ppm, обитаемыми будут 16\\xa0процентов суши, а\\xa0при 1120 ppm\\xa0— только восемь процентов.\\nДаже если концентрация углекислого газа не\\xa0изменится относительно своего доиндустриального уровня в\\xa0280 ppm (что маловероятно, ведь столкновение континентов неизбежно приведет к\\xa0росту вулканической активности), только за\\xa0счет усиления континентальности средняя температура воздуха над сушей станет выше на\\xa013,9 градуса Цельсия. Ученые отметили, что результаты их\\xa0исследования говорят о\\xa0решающей роли сочетания континентальности, концентрации парниковых газов в\\xa0атмосфере и\\xa0величины солнечной постоянной в\\xa0обитаемости планет.\\nЕсли об\\xa0исчезновении млекопитающих ученые говорят в\\xa0масштабах сотен миллионов лет, то\\xa0локальное вымирание других животных может происходить гораздо быстрее. Например, две трети шмелей в\\xa0Европе могут исчезнуть уже через 40\\xa0лет из-за утраты местообитаний.\\nДетеныш появился у\\xa0пары, которую весной поселили в\\xa0районе Энфилд\\n\\nОбыкновенные бобры (Castor fiber) начали размножаться в\\xa0Лондоне впервые за\\xa0500\\xa0лет. Как сообщает The Guardian, детеныш появился у\\xa0пары животных, которых в\\xa0конце марта выпустили на\\xa0огороженной территории площадью шесть гектаров в\\xa0районе Энфилд на\\xa0севере города. Бобренка удалось заметить минувшим летом благодаря автоматическим видеокамерам. Сейчас он\\xa0уже достаточно подрос и\\xa0активно исследует территорию, а\\xa0также помогает родителям в\\xa0строительстве плотины. В\\xa0ближайшее время ветеринары планируют осмотреть юного бобра, чтобы определить его пол и\\xa0оценить состояние здоровья.\\n\\n\\n\\nhttps://youtu.be/ArOCpVj6FnY\\n\\n\\n\\nБобры исчезли в\\xa0Великобритании в\\xa0начале XVI века в\\xa0результате интенсивной охоты ради мяса, меха и\\xa0пахучих желез. Однако в\\xa0течение последних пятнадцати лет в\\xa0результате усилий по\\xa0реинтродукции эти грызуны начали возвращаться в\\xa0Англию, Шотландию и\\xa0Уэльс. При этом далеко не\\xa0все их\\xa0выпуски были официально одобрены властями. А\\xa0несколько лет назад начались попытки реинтродуцировать бобров на\\xa0территорию Лондона. Об\\xa0одной из\\xa0них N\\xa0+\\xa01\\xa0рассказывал минувшей весной. Предполагается, что вернувшиеся на\\xa0Британские острова бобры будут активно строить запруды, что смягчит последствия наводнений и\\xa0положительно скажется на\\xa0биологическом разнообразии.\\n'"
      ]
     },
     "execution_count": 69,
     "metadata": {},
     "output_type": "execute_result"
    }
   ],
   "source": [
    "df[df.themes.apply(lambda x: 'зоология' in x.lower())].sample(1).full_text.values[0]"
   ]
  },
  {
   "cell_type": "code",
   "execution_count": 70,
   "metadata": {},
   "outputs": [],
   "source": [
    "df.to_csv('news_plus_1.csv', \n",
    "          index = False, \n",
    "          sep = ';',  #  Сюда можно поставить произвольный символ, чтоб новость не ломать\n",
    "          encoding = 'utf-8-sig')"
   ]
  },
  {
   "cell_type": "markdown",
   "metadata": {},
   "source": [
    "Теперь столбец со сложностью точно числовой. Можем даже построить для него гистограмму."
   ]
  },
  {
   "cell_type": "code",
   "execution_count": 71,
   "metadata": {},
   "outputs": [
    {
     "data": {
      "text/plain": [
       "<AxesSubplot:ylabel='Frequency'>"
      ]
     },
     "execution_count": 71,
     "metadata": {},
     "output_type": "execute_result"
    },
    {
     "data": {
      "image/png": "[encoded data removed]",
      "text/plain": [
       "<Figure size 640x480 with 1 Axes>"
      ]
     },
     "metadata": {},
     "output_type": "display_data"
    }
   ],
   "source": [
    "%matplotlib inline\n",
    "df.complexity.plot.hist()"
   ]
  },
  {
   "cell_type": "markdown",
   "metadata": {},
   "source": [
    "Давайте почистим текст новостей – уберем оттуда текст, не относящийся к новостям. Найдем лишнее:"
   ]
  },
  {
   "cell_type": "code",
   "execution_count": 72,
   "metadata": {},
   "outputs": [
    {
     "data": {
      "text/plain": [
       "'Нобелиатами по\\xa0физике в\\xa02023 году стали Пьер Агостини (Pierre Agostini), Ференц Краус (Ferenc Krausz) и\\xa0Анн Л’Юилье (Anne L’Huillier)\\xa0— за\\xa0экспериментальные методы генерации аттосекундных импульсов для изучения динамики электронов в\\xa0веществе. За\\xa0церемонией объявления победителей можно следить в\\xa0прямом эфире на\\xa0сайте Нобелевского комитета. Подробнее об\\xa0исследованиях ученых и\\xa0их\\xa0заслугах можно прочитать в\\xa0официальном пресс-релизе. Вручение премий состоится 10\\xa0декабря в\\xa0Стокгольме.\\nДля атомов внутри молекул время течет очень быстро: они перемещаются и\\xa0поворачиваются за\\xa0считанные фемтосекунды\\xa0— это 10-15\\xa0секунды. Отдельные электроны внутри атомов двигаются еще быстрее: они меняют свою энергию и\\xa0положение в\\xa0пространстве за\\xa0десятки и\\xa0сотни аттосекунд, это еще на\\xa0три порядка короче, чем фемтосекунда. Поэтому, чтобы за\\xa0ними наблюдать\\xa0— или хотя\\xa0бы фиксировать изменение их\\xa0энергии,\\xa0— нужно уметь действовать на\\xa0них точечно, и\\xa0воздействие должно быть таким\\xa0же быстрым, как и\\xa0движение самих электронов.\\nОбычно для того, чтобы возбудить электрон, физики используют лазерный импульс. Но\\xa0самой короткой вспышкой, которую можно было создать, долгое время были фемтосекундные импульсы. Чтобы сделать их\\xa0быстрее, нужно было получить вспышку с\\xa0более короткой длиной волны\\xa0— потому что импульс не\\xa0может быть короче одного периода электромагнитного колебания.\\nЭту задачу решила группа Анн Л’Юилье в\\xa01987\\xa0году. Она вместе с\\xa0коллегами пропускала инфракрасный свет через аргон. И\\xa0обнаружила, что облучение даже длинноволновым светом может приводить к\\xa0генерации очень коротких импульсов. Ионизированный электрон, накачанный облучающим инфракрасным светом, после рекомбинации возбуждает гармоники более высоких порядков. В\\xa0результате получаются волны более короткой длины\\xa0— в\\xa0ультрафиолетовом диапазоне\\xa0— которые дают короткую вспышку, продолжительностью как раз в\\xa0несколько сотен аттосекунд.\\nЗа\\xa01990-е физики разобрались в\\xa0том, почему так происходит. Но\\xa0только в\\xa0начале 2000-х Пьер Агостини и\\xa0его группа построили установку, которая могла генерировать серию из\\xa0нескольких последовательных аттосекундных импульсов. Эти короткие импульсы складывались с\\xa0облучающим импульсом, в\\xa0результате чего можно было управлять параметрами старших гармоник. Тогда\\xa0же они измерили длину получившегося импульса\\xa0— 250\\xa0аттосекунд. И\\xa0одновременно с\\xa0ними импульсами занималась группа Ференца Крауса\\xa0— они научились получать изолированные одиночные вспышки и\\xa0сразу применили\\xa0их, чтобы измерить, за\\xa0какое время электрон отрывается от\\xa0атома.\\nС\\xa0тех пор физики нашли аттосекундным импульсам и\\xa0другие применения. Так, они позволяют точнее контролировать квантовое состояние электронов, например, при фотоионизации. С\\xa0помощью них можно генерировать запутанные состояния (между электроном и\\xa0катионом).\\nНи\\xa0одного из\\xa0лауреатов не\\xa0было в\\xa0этом году в\\xa0традиционном списке компании Clarivate, которая предполагает, кто мог\\xa0бы получить премию, на\\xa0основе данных о\\xa0цитируемости. На\\xa0этот раз компания выделила трех физиков из\\xa0разных областей: Шэрон Глотцер\\xa0— за\\xa0исследование упаковки тетраэдрических элементов кристаллических структур и\\xa0энтропийного вклада в\\xa0образование макропорядка, Стюарта Паркина\\xa0— за\\xa0работы по\\xa0спинтронике и\\xa0разработку беговой памяти, и\\xa0одного из\\xa0создателей квантово-каскадного лазера Федерико Капассо.\\nПрогнозы Clarivate часто бывают точны, но\\xa0лишь в\\xa0исключительных случаях сбываются год в\\xa0год. Из\\xa0лауреатов этого года аналитики угадали только с\\xa0Ференцем Краусом\\xa0— в\\xa02015\\xa0году. Нобелиаты 2022 года Джон Клаузер, Ален Аспе и\\xa0Антон Цайлингер были в\\xa0списке «лауреатов по\\xa0цитируемости» за\\xa02011\\xa0год, когда его составляла еще компания Thomson Reuters. Подробнее об\\xa0их\\xa0премии, которую присудили за\\xa0исследование квантовой запутанности и\\xa0нарушений неравенств Белла,\\xa0— в\\xa0материале «Бог играет в\\xa0эти игры».\\nА\\xa0первый успешный прогноз год в\\xa0год наукометристы Clarivate сделали в\\xa02021\\xa0году, предсказав лауреата премии именно по\\xa0физике\\xa0— Джорджо Паризи. Итальянский ученый исследовал закономерности, которым подчиняются сложные физические системы с\\xa0флуктуациями и\\xa0беспорядком на\\xa0разных масштабах. Подробнее о\\xa0работах самого Паризи и\\xa0двух его солауреатов, климатологов Сюкуро Манабе и\\xa0Клауса Хассельмана,\\xa0— в\\xa0нашем материале «Порядок на\\xa0плечах хаоса». \\nЧто доказали лауреаты Нобелевской премии по физике 2022 года\\nКвантовая запутанность и квантовая телепортация — это хайп. Новости о том, что очередной банк ввел в эксплуатацию квантовое шифрование, а группа ученых провела эксперимент по квантовой телепортации на сотни километров, многим научным журналистам уже давно набили оскомину, но их число все растет и растет. Нобелевский комитет утверждает, что реагирует не на него. Но тогда непонятно почему премию дали сегодня, а не десять лет назад. Рассказываем, кто такие Джон Клаузер, Ален Аспе и Антон Цайлингер — и где они, а где хайп.'"
      ]
     },
     "execution_count": 72,
     "metadata": {},
     "output_type": "execute_result"
    }
   ],
   "source": [
    "df.full_text[0]"
   ]
  },
  {
   "cell_type": "markdown",
   "metadata": {},
   "source": [
    "Лишний текст находится после фразы 'Нашли опечатку?'. Так давайте будем разбивать строки по этой фразе с помощью метода `.split()` и брать все, что до нее (элемент с индексом 0)."
   ]
  },
  {
   "cell_type": "code",
   "execution_count": 73,
   "metadata": {},
   "outputs": [],
   "source": [
    "df['clean_text'] = [t.split('Нашли опечатку?')[0] for t in df.full_text]"
   ]
  },
  {
   "cell_type": "markdown",
   "metadata": {},
   "source": [
    "Осталось только заменить непонятные символы `\\xa0` на пробелы:"
   ]
  },
  {
   "cell_type": "code",
   "execution_count": 74,
   "metadata": {},
   "outputs": [],
   "source": [
    "df['clean_text'] = [t.replace(\"\\xa0\", \" \") for t in df.clean_text]"
   ]
  },
  {
   "cell_type": "code",
   "execution_count": 75,
   "metadata": {},
   "outputs": [
    {
     "data": {
      "text/plain": [
       "'Нобелиатами по физике в 2023 году стали Пьер Агостини (Pierre Agostini), Ференц Краус (Ferenc Krausz) и Анн Л’Юилье (Anne L’Huillier) — за экспериментальные методы генерации аттосекундных импульсов для изучения динамики электронов в веществе. За церемонией объявления победителей можно следить в прямом эфире на сайте Нобелевского комитета. Подробнее об исследованиях ученых и их заслугах можно прочитать в официальном пресс-релизе. Вручение премий состоится 10 декабря в Стокгольме.\\nДля атомов внутри молекул время течет очень быстро: они перемещаются и поворачиваются за считанные фемтосекунды — это 10-15 секунды. Отдельные электроны внутри атомов двигаются еще быстрее: они меняют свою энергию и положение в пространстве за десятки и сотни аттосекунд, это еще на три порядка короче, чем фемтосекунда. Поэтому, чтобы за ними наблюдать — или хотя бы фиксировать изменение их энергии, — нужно уметь действовать на них точечно, и воздействие должно быть таким же быстрым, как и движение самих электронов.\\nОбычно для того, чтобы возбудить электрон, физики используют лазерный импульс. Но самой короткой вспышкой, которую можно было создать, долгое время были фемтосекундные импульсы. Чтобы сделать их быстрее, нужно было получить вспышку с более короткой длиной волны — потому что импульс не может быть короче одного периода электромагнитного колебания.\\nЭту задачу решила группа Анн Л’Юилье в 1987 году. Она вместе с коллегами пропускала инфракрасный свет через аргон. И обнаружила, что облучение даже длинноволновым светом может приводить к генерации очень коротких импульсов. Ионизированный электрон, накачанный облучающим инфракрасным светом, после рекомбинации возбуждает гармоники более высоких порядков. В результате получаются волны более короткой длины — в ультрафиолетовом диапазоне — которые дают короткую вспышку, продолжительностью как раз в несколько сотен аттосекунд.\\nЗа 1990-е физики разобрались в том, почему так происходит. Но только в начале 2000-х Пьер Агостини и его группа построили установку, которая могла генерировать серию из нескольких последовательных аттосекундных импульсов. Эти короткие импульсы складывались с облучающим импульсом, в результате чего можно было управлять параметрами старших гармоник. Тогда же они измерили длину получившегося импульса — 250 аттосекунд. И одновременно с ними импульсами занималась группа Ференца Крауса — они научились получать изолированные одиночные вспышки и сразу применили их, чтобы измерить, за какое время электрон отрывается от атома.\\nС тех пор физики нашли аттосекундным импульсам и другие применения. Так, они позволяют точнее контролировать квантовое состояние электронов, например, при фотоионизации. С помощью них можно генерировать запутанные состояния (между электроном и катионом).\\nНи одного из лауреатов не было в этом году в традиционном списке компании Clarivate, которая предполагает, кто мог бы получить премию, на основе данных о цитируемости. На этот раз компания выделила трех физиков из разных областей: Шэрон Глотцер — за исследование упаковки тетраэдрических элементов кристаллических структур и энтропийного вклада в образование макропорядка, Стюарта Паркина — за работы по спинтронике и разработку беговой памяти, и одного из создателей квантово-каскадного лазера Федерико Капассо.\\nПрогнозы Clarivate часто бывают точны, но лишь в исключительных случаях сбываются год в год. Из лауреатов этого года аналитики угадали только с Ференцем Краусом — в 2015 году. Нобелиаты 2022 года Джон Клаузер, Ален Аспе и Антон Цайлингер были в списке «лауреатов по цитируемости» за 2011 год, когда его составляла еще компания Thomson Reuters. Подробнее об их премии, которую присудили за исследование квантовой запутанности и нарушений неравенств Белла, — в материале «Бог играет в эти игры».\\nА первый успешный прогноз год в год наукометристы Clarivate сделали в 2021 году, предсказав лауреата премии именно по физике — Джорджо Паризи. Итальянский ученый исследовал закономерности, которым подчиняются сложные физические системы с флуктуациями и беспорядком на разных масштабах. Подробнее о работах самого Паризи и двух его солауреатов, климатологов Сюкуро Манабе и Клауса Хассельмана, — в нашем материале «Порядок на плечах хаоса». \\nЧто доказали лауреаты Нобелевской премии по физике 2022 года\\nКвантовая запутанность и квантовая телепортация — это хайп. Новости о том, что очередной банк ввел в эксплуатацию квантовое шифрование, а группа ученых провела эксперимент по квантовой телепортации на сотни километров, многим научным журналистам уже давно набили оскомину, но их число все растет и растет. Нобелевский комитет утверждает, что реагирует не на него. Но тогда непонятно почему премию дали сегодня, а не десять лет назад. Рассказываем, кто такие Джон Клаузер, Ален Аспе и Антон Цайлингер — и где они, а где хайп.'"
      ]
     },
     "execution_count": 75,
     "metadata": {},
     "output_type": "execute_result"
    }
   ],
   "source": [
    "df.clean_text[0]"
   ]
  },
  {
   "cell_type": "markdown",
   "metadata": {},
   "source": [
    "Всё! Сохраняем датафрейм в файл. Для разнообразия сохраним в Excel:"
   ]
  },
  {
   "cell_type": "code",
   "execution_count": 76,
   "metadata": {},
   "outputs": [],
   "source": [
    "df.to_excel('nplus-news.xlsx')"
   ]
  }
 ],
 "metadata": {
  "kernelspec": {
   "display_name": "Python 3 (ipykernel)",
   "language": "python",
   "name": "python3"
  },
  "language_info": {
   "codemirror_mode": {
    "name": "ipython",
    "version": 3
   },
   "file_extension": ".py",
   "mimetype": "text/x-python",
   "name": "python",
   "nbconvert_exporter": "python",
   "pygments_lexer": "ipython3",
   "version": "3.9.13"
  }
 },
 "nbformat": 4,
 "nbformat_minor": 2
}
