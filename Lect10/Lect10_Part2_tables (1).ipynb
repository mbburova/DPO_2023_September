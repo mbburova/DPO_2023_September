{
 "cells": [
  {
   "cell_type": "markdown",
   "metadata": {},
   "source": [
    "# Python для анализа данных\n",
    "\n",
    "*Алла Тамбовцева, НИУ ВШЭ*"
   ]
  },
  {
   "cell_type": "markdown",
   "metadata": {},
   "source": [
    "## Web-scraping\n",
    "\n",
    "Мы уже немного познакомились со структурой html-файлов, теперь попробуем выгрузить информацию из реальной страницы, а точнее, с реального сайта [nplus1.ru](https://nplus1.ru/).\n",
    "\n",
    "**Наша задача:** выгрузить недавние новости в датафрейм `pandas`, чтобы потом сохранить все в csv-файл.\n",
    "\n",
    "Сначала сгрузим весь html-код страницы и сохраним его в отдельную переменную. Для этого нам понадобится библиотека `requests`. Импортируем её:"
   ]
  },
  {
   "cell_type": "code",
   "execution_count": 1,
   "metadata": {},
   "outputs": [],
   "source": [
    "import requests"
   ]
  },
  {
   "cell_type": "markdown",
   "metadata": {},
   "source": [
    "Сохраним ссылку на главную страницу сайта в переменную `url` для удобства и выгрузим страницу. (Разумеется, это будет работать при подключении к интернету. Если соединение будет отключено, Python выдаст `NewConnectionError`)."
   ]
  },
  {
   "cell_type": "code",
   "execution_count": 2,
   "metadata": {},
   "outputs": [],
   "source": [
    "url = 'https://nplus1.ru/' # сохраняем\n",
    "page = requests.get(url) # загружаем страницу по ссылке"
   ]
  },
  {
   "cell_type": "markdown",
   "metadata": {},
   "source": [
    "Если мы просто посмотрим на объект, мы ничего особенного не увидим:"
   ]
  },
  {
   "cell_type": "code",
   "execution_count": 3,
   "metadata": {},
   "outputs": [
    {
     "data": {
      "text/plain": [
       "<Response [200]>"
      ]
     },
     "execution_count": 3,
     "metadata": {},
     "output_type": "execute_result"
    }
   ],
   "source": [
    "page  # response 200 - страница загружена"
   ]
  },
  {
   "cell_type": "code",
   "execution_count": 4,
   "metadata": {},
   "outputs": [],
   "source": [
    "# page.text"
   ]
  },
  {
   "cell_type": "markdown",
   "metadata": {},
   "source": [
    "Импортируем функцию `BeautifulSoup` из библиотеки `bs4` (от *beautifulsoup4*) и заберём со страницы `page` код html в виде текста. "
   ]
  },
  {
   "cell_type": "code",
   "execution_count": 5,
   "metadata": {},
   "outputs": [],
   "source": [
    "from bs4 import BeautifulSoup  # не спрашивайте, почему BeautifulSoup"
   ]
  },
  {
   "cell_type": "code",
   "execution_count": 6,
   "metadata": {},
   "outputs": [],
   "source": [
    "soup = BeautifulSoup(page.text, 'html')"
   ]
  },
  {
   "cell_type": "markdown",
   "metadata": {},
   "source": [
    "Если выведем `soup` на экран, мы увидим то же самое, что в режиме разработчика или в режиме происмотра исходного кода (`view-source` через *Ctrl+U* в Google Chrome)."
   ]
  },
  {
   "cell_type": "code",
   "execution_count": 7,
   "metadata": {},
   "outputs": [],
   "source": [
    "# soup"
   ]
  },
  {
   "cell_type": "markdown",
   "metadata": {},
   "source": [
    "Для просмотра выглядит не очень удобно.  «Причешем» наш `soup` – воспользуемся методом `.prettify()` в сочетании с функцией `print()`."
   ]
  },
  {
   "cell_type": "code",
   "execution_count": 8,
   "metadata": {},
   "outputs": [],
   "source": [
    "# print(soup.prettify())"
   ]
  },
  {
   "cell_type": "markdown",
   "metadata": {},
   "source": [
    "В такой выдаче ориентироваться гораздо удобнее (но при желании, то же можно увидеть в браузере, на большом экране)."
   ]
  },
  {
   "cell_type": "markdown",
   "metadata": {},
   "source": [
    "\n",
    "Чтобы сгрузить все новости с главной страницы сайта, нужно собрать все ссылки на страницы с этими новостями. Ссылки в html-файле всегда заключены в тэг `<a></a>` и имеют атрибут `href`. Посмотрим на кусочки кода, соответствующие всем ссылкам на главной странице сайта:"
   ]
  },
  {
   "cell_type": "code",
   "execution_count": 9,
   "metadata": {
    "scrolled": true
   },
   "outputs": [
    {
     "name": "stdout",
     "output_type": "stream",
     "text": [
      "/search\n",
      "https://offline.nplus1.ru/\n",
      "https://nplus.pro/\n",
      "https://nplus1.ru/about\n",
      "https://nplus1.ru/difficult\n",
      "https://nplus1.ru/adv\n",
      "https://nplus1.ru/blog/2022/04/01/samotek\n",
      "https://nplus1.ru/search?tags=946\n",
      "https://nplus1.ru/search?tags=869\n",
      "https://nplus1.ru/search?tags=874\n",
      "https://nplus1.ru/search?tags=880\n",
      "https://nplus1.ru/search?tags=768\n",
      "https://nplus1.ru/search?tags=890\n",
      "https://nplus1.ru/search?tags=871\n",
      "https://nplus1.ru/search?tags=876\n",
      "https://nplus1.ru/search?tags=775\n",
      "https://nplus1.ru/search?tags=767\n",
      "https://nplus1.ru/search?tags=771\n",
      "https://nplus1.ru/search?tags=772\n",
      "https://nplus1.ru/search?tags=778\n",
      "https://nplus1.ru/search?tags=917\n",
      "https://nplus1.ru/search?tags=918\n",
      "https://nplus1.ru/search?tags=824\n",
      "https://t.me/nplusone\n",
      "https://vk.com/nplusone\n",
      "https://ok.ru/nplus1\n",
      "https://twitter.com/nplusodin\n",
      "https://nplus1.ru/about\n",
      "https://nplus1.ru/difficult\n",
      "https://nplus1.ru/adv\n",
      "https://nplus1.ru/news/2015/09/21/editor-thy-name\n",
      "https://nplus1.ru/search?tags=946\n",
      "https://nplus1.ru/search?tags=869\n",
      "https://nplus1.ru/search?tags=874\n",
      "https://nplus1.ru/search?tags=880\n",
      "https://nplus1.ru/search?tags=768\n",
      "https://nplus1.ru/search?tags=890\n",
      "https://nplus1.ru/search?tags=871\n",
      "https://nplus1.ru/search?tags=876\n",
      "https://nplus1.ru/search?tags=775\n",
      "https://nplus1.ru/search?tags=767\n",
      "https://nplus1.ru/search?tags=771\n",
      "https://nplus1.ru/search?tags=772\n",
      "https://nplus1.ru/search?tags=778\n",
      "https://nplus1.ru/search?tags=917\n",
      "https://nplus1.ru/search?tags=918\n",
      "https://nplus1.ru/search?tags=824\n",
      "https://offline.nplus1.ru/\n",
      "https://nplus.pro/\n",
      "https://t.me/nplusone\n",
      "https://vk.com/nplusone\n",
      "https://ok.ru/nplus1\n",
      "https://twitter.com/nplusodin\n",
      "https://nplus1.ru/search?tags=812\n",
      "/material/difficulty/2\n",
      "https://nplus1.ru/material/2023/10/05/through-mentoring-to-wisdom\n",
      "https://nplus1.ru/search?tags=870\n",
      "https://nplus1.ru/search?tags=879\n",
      "/material/difficulty/5\n",
      "https://nplus1.ru/material/2023/10/05/qdots-nobel-2023\n",
      "https://nplus1.ru/search?tags=812\n",
      "https://nplus1.ru/search?tags=872\n",
      "/material/difficulty/2\n",
      "https://nplus1.ru/material/2023/10/04/esg-test\n",
      "https://nplus1.ru/search?tags=870\n",
      "/material/difficulty/4\n",
      "https://nplus1.ru/news/2023/10/04/chem-nobel-2023\n",
      "/news/2023/10/05\n",
      "https://nplus1.ru/search?tags=892\n",
      "/material/difficulty/1\n",
      "https://nplus1.ru/news/2023/10/05/joby-taxi-first-flight-with-pilot\n",
      "/news/2023/10/05\n",
      "https://nplus1.ru/search?tags=880\n",
      "/material/difficulty/3\n",
      "https://nplus1.ru/news/2023/10/05/bluewalker-3-is-danger\n",
      "/news/2023/10/05\n",
      "https://nplus1.ru/search?tags=872\n",
      "/material/difficulty/2\n",
      "https://nplus1.ru/news/2023/10/05/el-nino-lapita\n",
      "/news/2023/10/05\n",
      "https://nplus1.ru/search?tags=873\n",
      "/material/difficulty/2\n",
      "https://nplus1.ru/news/2023/10/05/manganese-accumulation-in-the-brain\n",
      "/news/2023/10/04\n",
      "https://nplus1.ru/search?tags=884\n",
      "/material/difficulty/5\n",
      "https://nplus1.ru/news/2023/10/04/sulfur-of-deccan-traps\n",
      "/news/2023/10/04\n",
      "https://nplus1.ru/search?tags=873\n",
      "/material/difficulty/1\n",
      "https://nplus1.ru/news/2023/10/04/heartbreaking\n",
      "/news/2023/10/04\n",
      "https://nplus1.ru/search?tags=871\n",
      "/material/difficulty/1\n",
      "https://nplus1.ru/news/2023/10/04/osiris-rex-deploy-capsule\n",
      "/news/2023/10/04\n",
      "https://nplus1.ru/search?tags=873\n",
      "/material/difficulty/2\n",
      "https://nplus1.ru/news/2023/10/04/vehicle-crash-adhd\n",
      "/news/2023/10/04\n",
      "https://nplus1.ru/search?tags=874\n",
      "/material/difficulty/2\n",
      "https://nplus1.ru/news/2023/10/04/same-sex-behaviour-mammals\n",
      "/news/2023/10/04\n",
      "https://nplus1.ru/search?tags=880\n",
      "/material/difficulty/4\n",
      "https://nplus1.ru/news/2023/10/04/frb-gw-or-no\n",
      "/news/2023/10/04\n",
      "https://nplus1.ru/search?tags=877\n",
      "/material/difficulty/3\n",
      "https://nplus1.ru/news/2023/10/04/ak-alakha\n",
      "/news/2023/10/04\n",
      "https://nplus1.ru/search?tags=873\n",
      "/material/difficulty/2\n",
      "https://nplus1.ru/news/2023/10/04/second-vaccine-for-malaria\n",
      "https://nplus1.ru/blog/2023/10/04/visual-glue\n",
      "/blog/2023/10/04\n",
      "https://nplus1.ru/search?tags=882\n",
      "/material/difficulty/1\n",
      "https://nplus1.ru/blog/2023/10/04/visual-glue\n",
      "https://nplus1.ru/blog/2023/10/03/dangerous-minds\n",
      "/blog/2023/10/03\n",
      "https://nplus1.ru/search?tags=873\n",
      "/material/difficulty/1\n",
      "https://nplus1.ru/blog/2023/10/03/dangerous-minds\n",
      "/news/2023/10/04\n",
      "https://nplus1.ru/search?tags=877\n",
      "/material/difficulty/2\n",
      "https://nplus1.ru/news/2023/10/04/neolithic-jericho\n",
      "/news/2023/10/04\n",
      "https://nplus1.ru/search?tags=887\n",
      "/material/difficulty/1\n",
      "https://nplus1.ru/news/2023/10/04/we-drive-solar-sharing-batteries\n",
      "https://nplus1.ru/material/2023/09/29/maverick-unchained\n",
      "/material/2023/09/29\n",
      "https://nplus1.ru/search?tags=885\n",
      "/material/difficulty/5\n",
      "https://nplus1.ru/material/2023/09/29/maverick-unchained\n",
      "https://nplus1.ru/material/2023/09/28/hobbies-of-scientists\n",
      "https://nplus1.ru/search?tags=946\n",
      "/material/difficulty/2\n",
      "https://nplus1.ru/material/2023/09/28/hobbies-of-scientists\n",
      "/blog/2023/09/29\n",
      "https://nplus1.ru/search?tags=817\n",
      "/material/difficulty/1\n",
      "/author/alpina-non-fiksn\n",
      "https://nplus1.ru/blog/2023/09/29/history-of-the-death-penalty\n",
      "/news/2023/10/04\n",
      "https://nplus1.ru/search?tags=874\n",
      "/material/difficulty/2\n",
      "https://nplus1.ru/news/2023/10/04/orca-vs-sea-otters\n",
      "/news/2023/10/03\n",
      "https://nplus1.ru/search?tags=874\n",
      "/material/difficulty/1\n",
      "https://nplus1.ru/news/2023/10/03/wolves-love-story\n",
      "/news/2023/10/03\n",
      "https://nplus1.ru/search?tags=874\n",
      "/material/difficulty/3\n",
      "https://nplus1.ru/news/2023/10/03/bivalve-cancer\n",
      "https://nplus1.ru/material/2023/09/27/opensource-philosophy\n",
      "/material/2023/09/27\n",
      "https://nplus1.ru/search?tags=812\n",
      "/material/difficulty/1\n",
      "https://nplus1.ru/material/2023/09/27/opensource-philosophy\n",
      "/news/2023/10/03\n",
      "https://nplus1.ru/search?tags=874\n",
      "/material/difficulty/2\n",
      "https://nplus1.ru/news/2023/10/03/butterflies-plugs\n",
      "/news/2023/10/03\n",
      "https://nplus1.ru/search?tags=889\n",
      "/material/difficulty/3\n",
      "https://nplus1.ru/news/2023/10/03/gwas-carrot\n",
      "https://nplus1.ru/material/2023/09/27/domestication-of-plants\n",
      "/material/2023/09/27\n",
      "https://nplus1.ru/search?tags=946\n",
      "/material/difficulty/2\n",
      "https://nplus1.ru/material/2023/09/27/domestication-of-plants\n",
      "https://nplus1.ru/material/2023/09/27/domestication-of-animals\n",
      "https://nplus1.ru/search?tags=946\n",
      "/material/difficulty/2\n",
      "https://nplus1.ru/material/2023/09/27/domestication-of-animals\n",
      "/blog/2023/09/27\n",
      "https://nplus1.ru/search?tags=877\n",
      "/material/difficulty/1\n",
      "/author/nlo\n",
      "https://nplus1.ru/blog/2023/09/27/songs-devoid-of-meaning\n",
      "/news/2023/10/03\n",
      "https://nplus1.ru/search?tags=869\n",
      "/material/difficulty/3\n",
      "https://nplus1.ru/news/2023/10/03/phys-nobel-2023\n",
      "/news/2023/10/03\n",
      "https://nplus1.ru/search?tags=877\n",
      "/material/difficulty/4\n",
      "https://nplus1.ru/news/2023/10/03/yamnaya-people-and-multiple-sclerosis\n",
      "/news/2023/10/03\n",
      "https://nplus1.ru/search?tags=876\n",
      "/material/difficulty/1\n",
      "https://nplus1.ru/news/2023/10/03/viking-age-burial-in-garden\n",
      "https://nplus1.ru/material/2023/09/26/how-much-water-has-flowed\n",
      "/material/2023/09/26\n",
      "https://nplus1.ru/search?tags=946\n",
      "/material/difficulty/1\n",
      "https://nplus1.ru/material/2023/09/26/how-much-water-has-flowed\n",
      "/news/2023/10/03\n",
      "https://nplus1.ru/search?tags=873\n",
      "/material/difficulty/3\n",
      "https://nplus1.ru/news/2023/10/03/music-reading-dementia\n",
      "/news/2023/10/03\n",
      "https://nplus1.ru/search?tags=876\n",
      "/material/difficulty/1\n",
      "https://nplus1.ru/news/2023/10/03/gobekli-tepe\n",
      "https://nplus1.ru/material/2023/09/25/astro-impulse\n",
      "/material/2023/09/25\n",
      "https://nplus1.ru/search?tags=885\n",
      "/material/difficulty/5\n",
      "https://nplus1.ru/material/2023/09/25/astro-impulse\n",
      "https://nplus1.ru/material/2023/09/25/guess-the-energy-conversion-efficiency\n",
      "https://nplus1.ru/search?tags=946\n",
      "/material/difficulty/2\n",
      "https://nplus1.ru/material/2023/09/25/guess-the-energy-conversion-efficiency\n",
      "/blog/2023/09/26\n",
      "https://nplus1.ru/search?tags=908\n",
      "/material/difficulty/2\n",
      "/author/npluspodcast\n",
      "https://nplus1.ru/blog/2023/09/26/npluspodcast05\n",
      "/news/2023/10/03\n",
      "https://nplus1.ru/search?tags=873\n",
      "/material/difficulty/2\n",
      "https://nplus1.ru/news/2023/10/03/loneliness-and-risk-of-pd\n",
      "/news/2023/10/03\n",
      "https://nplus1.ru/search?tags=880\n",
      "/material/difficulty/2\n",
      "https://nplus1.ru/news/2023/10/03/jwst-m-42\n",
      "/news/2023/10/03\n",
      "https://nplus1.ru/search?tags=874\n",
      "/material/difficulty/1\n",
      "https://nplus1.ru/news/2023/10/03/baby-beaver\n",
      "https://nplus1.ru/material/2023/09/23/enhanced-materials\n",
      "/material/2023/09/23\n",
      "https://nplus1.ru/search?tags=812\n",
      "/material/difficulty/3\n",
      "https://nplus1.ru/material/2023/09/23/enhanced-materials\n",
      "/news/2023/10/02\n",
      "https://nplus1.ru/search?tags=872\n",
      "/material/difficulty/1\n",
      "https://nplus1.ru/news/2023/10/02/nitrogen-fertilisers\n",
      "/news/2023/10/02\n",
      "https://nplus1.ru/search?tags=874\n",
      "/material/difficulty/2\n",
      "https://nplus1.ru/news/2023/10/02/kelping\n",
      "https://nplus1.ru/material/2023/09/22/who-died-out-first\n",
      "/material/2023/09/22\n",
      "https://nplus1.ru/search?tags=946\n",
      "/material/difficulty/2\n",
      "https://nplus1.ru/material/2023/09/22/who-died-out-first\n",
      "https://nplus1.ru/material/2023/09/21/close-to-body\n",
      "https://nplus1.ru/search?tags=946\n",
      "/material/difficulty/2\n",
      "https://nplus1.ru/material/2023/09/21/close-to-body\n",
      "/blog/2023/09/25\n",
      "https://nplus1.ru/search?tags=897\n",
      "/material/difficulty/1\n",
      "https://nplus1.ru/blog/2023/09/25/hpmor\n",
      "/news/2023/10/02\n",
      "https://nplus1.ru/search?tags=873\n",
      "/material/difficulty/3\n",
      "https://nplus1.ru/news/2023/10/02/probiotics-preterm-infants\n",
      "/news/2023/10/02\n",
      "https://nplus1.ru/search?tags=883\n",
      "/material/difficulty/2\n",
      "https://nplus1.ru/news/2023/10/02/millimobile-battery-free-robot\n",
      "/news/2023/10/02\n",
      "https://nplus1.ru/search?tags=870\n",
      "/material/difficulty/4\n",
      "https://nplus1.ru/news/2023/10/02/carbene-double-oxidation\n",
      "https://nplus1.ru/material/2023/09/20/owl-or-lark\n",
      "/material/2023/09/20\n",
      "https://nplus1.ru/search?tags=946\n",
      "/material/difficulty/1\n",
      "https://nplus1.ru/material/2023/09/20/owl-or-lark\n",
      "/news/2023/10/02\n",
      "https://nplus1.ru/search?tags=897\n",
      "/material/difficulty/1\n",
      "https://nplus1.ru/news/2023/10/02/enlight-short-list-2023\n",
      "/news/2023/10/02\n",
      "https://nplus1.ru/search?tags=877\n",
      "/material/difficulty/3\n",
      "https://nplus1.ru/news/2023/10/02/lincombian-ranisian-jerzmanowician\n",
      "https://nplus1.ru/material/2023/09/19/systematics\n",
      "/material/2023/09/19\n",
      "https://nplus1.ru/search?tags=946\n",
      "/material/difficulty/3\n",
      "https://nplus1.ru/material/2023/09/19/systematics\n",
      "https://nplus1.ru/material/2023/09/18/edible-and-inedible\n",
      "https://nplus1.ru/search?tags=946\n",
      "/material/difficulty/2\n",
      "https://nplus1.ru/material/2023/09/18/edible-and-inedible\n",
      "/blog/2023/09/22\n",
      "https://nplus1.ru/search?tags=886\n",
      "/material/difficulty/1\n",
      "/author/alpina-non-fiksn\n",
      "https://nplus1.ru/blog/2023/09/22/rewired\n",
      "/news/2023/10/02\n",
      "https://nplus1.ru/search?tags=873\n",
      "/material/difficulty/2\n",
      "https://nplus1.ru/news/2023/10/02/physmed-nobel-2023\n",
      "/news/2023/10/02\n",
      "https://nplus1.ru/search?tags=872\n",
      "/material/difficulty/1\n",
      "https://nplus1.ru/news/2023/10/02/september-2023\n",
      "/news/2023/10/02\n",
      "https://nplus1.ru/search?tags=876\n",
      "/material/difficulty/1\n",
      "https://nplus1.ru/news/2023/10/02/abydos-wine-jars\n",
      "https://nplus1.ru/material/2023/09/15/ignobel-2023\n",
      "/material/2023/09/15\n",
      "https://nplus1.ru/search?tags=875\n",
      "/material/difficulty/3\n",
      "https://nplus1.ru/material/2023/09/15/ignobel-2023\n",
      "/news/2023/10/03\n",
      "https://nplus1.ru/search?tags=876\n",
      "/material/difficulty/1\n",
      "https://nplus1.ru/news/2023/10/03/gobekli-tepe\n",
      "/material/2023/08/07\n",
      "https://nplus1.ru/search?tags=869\n",
      "/material/difficulty/1\n",
      "https://nplus1.ru/material/2023/08/07/radiation-calculator\n",
      "/material/2023/09/11\n",
      "https://nplus1.ru/search?tags=946\n",
      "/material/difficulty/2\n",
      "https://nplus1.ru/material/2023/09/11/space-romance-club\n",
      "/news/2023/09/15\n",
      "https://nplus1.ru/search?tags=877\n",
      "/material/difficulty/3\n",
      "https://nplus1.ru/news/2023/09/15/bathory-family\n",
      "/material/2023/09/20\n",
      "https://nplus1.ru/search?tags=946\n",
      "/material/difficulty/1\n",
      "https://nplus1.ru/material/2023/09/20/owl-or-lark\n",
      "/news/2023/09/20\n",
      "https://nplus1.ru/search?tags=876\n",
      "/material/difficulty/3\n",
      "https://nplus1.ru/news/2023/09/20/earliest-wood-construction\n",
      "/material/2023/09/28\n",
      "https://nplus1.ru/search?tags=946\n",
      "/material/difficulty/2\n",
      "https://nplus1.ru/material/2023/09/28/hobbies-of-scientists\n",
      "/news/2023/09/27\n",
      "https://nplus1.ru/search?tags=876\n",
      "/material/difficulty/1\n",
      "https://nplus1.ru/news/2023/09/27/pyramid-of-sahure\n",
      "/material/2023/08/17\n",
      "https://nplus1.ru/search?tags=946\n",
      "/material/difficulty/3\n",
      "https://nplus1.ru/material/2023/08/17/brave-new-mundus\n",
      "/news/2023/09/27\n",
      "https://nplus1.ru/search?tags=874\n",
      "/material/difficulty/4\n",
      "https://nplus1.ru/news/2023/09/27/ninth-pangolin\n",
      "/news/2023/09/22\n",
      "https://nplus1.ru/search?tags=895\n",
      "/material/difficulty/2\n",
      "https://nplus1.ru/news/2023/09/22/new-language\n",
      "/material/2023/09/15\n",
      "https://nplus1.ru/search?tags=875\n",
      "/material/difficulty/3\n",
      "https://nplus1.ru/material/2023/09/15/ignobel-2023\n",
      "/material/2023/09/27\n",
      "https://nplus1.ru/search?tags=946\n",
      "/material/difficulty/2\n",
      "https://nplus1.ru/material/2023/09/27/domestication-of-plants\n",
      "/material/2023/09/21\n",
      "https://nplus1.ru/search?tags=946\n",
      "/material/difficulty/2\n",
      "https://nplus1.ru/material/2023/09/21/close-to-body\n",
      "/material/2023/09/22\n",
      "https://nplus1.ru/search?tags=946\n",
      "/material/difficulty/2\n",
      "https://nplus1.ru/material/2023/09/22/who-died-out-first\n",
      "/material/2023/09/26\n",
      "https://nplus1.ru/search?tags=946\n",
      "/material/difficulty/1\n",
      "https://nplus1.ru/material/2023/09/26/how-much-water-has-flowed\n",
      "/news/2023/09/15\n",
      "https://nplus1.ru/search?tags=884\n",
      "/material/difficulty/7\n",
      "https://nplus1.ru/news/2023/09/15/earth-core-density-deficit\n",
      "/material/2023/09/04\n",
      "https://nplus1.ru/search?tags=946\n",
      "/material/difficulty/4\n",
      "https://nplus1.ru/material/2023/09/04/assemble-the-electrical-network\n",
      "/material/2023/09/27\n",
      "https://nplus1.ru/search?tags=946\n",
      "/material/difficulty/2\n",
      "https://nplus1.ru/material/2023/09/27/domestication-of-animals\n",
      "/material/2023/09/25\n",
      "https://nplus1.ru/search?tags=946\n",
      "/material/difficulty/2\n",
      "https://nplus1.ru/material/2023/09/25/guess-the-energy-conversion-efficiency\n",
      "https://nplus1.ru/material/2023/10/03/nobel-pulses-2023\n",
      "/material/2023/10/03\n",
      "https://nplus1.ru/search?tags=869\n",
      "/material/difficulty/4\n",
      "https://nplus1.ru/material/2023/10/03/nobel-pulses-2023\n",
      "https://nplus1.ru/material/2023/10/03/mrna-nobel-2023\n",
      "/material/2023/10/03\n",
      "https://nplus1.ru/search?tags=873\n",
      "https://nplus1.ru/search?tags=885\n",
      "/material/difficulty/5\n",
      "https://nplus1.ru/material/2023/10/03/mrna-nobel-2023\n",
      "https://nplus1.ru/material/2023/09/14/blanche-par-le-malheur\n",
      "https://nplus1.ru/news/2023/09/15/earth-core-density-deficit\n",
      "https://nplus1.ru/news/2023/09/16/erase-and-rewire\n",
      "https://nplus1.ru/news/2023/09/20/nothing-extra\n",
      "https://nplus1.ru/news/2023/09/21/put-through\n",
      "https://nplus1.ru/news/2023/09/22/topological-phonons-in-graphene\n",
      "https://nplus1.ru/news/2023/09/23/jwst-europe-co2\n",
      "https://nplus1.ru/news/2023/09/23/be-my-guide\n",
      "https://nplus1.ru/material/2023/09/25/astro-impulse\n",
      "https://nplus1.ru/material/2023/09/29/maverick-unchained\n",
      "https://nplus1.ru/material/2023/10/03/mrna-nobel-2023\n",
      "https://nplus1.ru/material/2023/10/03/nobel-pulses-2023\n",
      "https://nplus1.ru/news/2023/10/04/frb-gw-or-no\n",
      "https://nplus1.ru/news/2023/10/04/sulfur-of-deccan-traps\n",
      "https://nplus1.ru/material/2023/10/05/qdots-nobel-2023\n",
      "https://nplus1.ru/about\n",
      "https://nplus1.ru/difficult\n",
      "https://nplus1.ru/adv\n",
      "https://nplus1.ru/blog/2022/04/01/samotek\n",
      "/cdn-cgi/l/email-protection#83edefc3edf3eff6f0b2adf1f6\n",
      "/cdn-cgi/l/email-protection#c9a0a7afa689a7b9a5bcbaf8e7bbbc\n",
      "/personal-data-policy\n",
      "https://t.me/nplusone\n",
      "https://vk.com/nplusone\n",
      "https://ok.ru/nplus1\n",
      "https://twitter.com/nplusodin\n"
     ]
    }
   ],
   "source": [
    "for link in soup.find_all('a'):\n",
    "    print(link.get('href'))\n",
    "#     break"
   ]
  },
  {
   "cell_type": "markdown",
   "metadata": {},
   "source": [
    "Ссылок много. Но нам нужны только новости – ссылки, которые начинаются со слова `/news`. Добавим условие: будем выбирать только те ссылки, в которых есть `/news`. Создадим пустой список `urls` и будем добавлять в него только ссылки, которые удовлетворяют этому условию."
   ]
  },
  {
   "cell_type": "code",
   "execution_count": 10,
   "metadata": {},
   "outputs": [],
   "source": [
    "# urls = []\n",
    "\n",
    "# for link in soup.find_all('a'):\n",
    "#     if '/news' in link.get('href'):\n",
    "#         urls.append('https://nplus1.ru'+link.get('href'))\n",
    "\n",
    "urls = [link.get('href') \n",
    "        for link in soup.find_all('a') \n",
    "        if 'https://nplus1.ru/news/2023' in link.get('href')]"
   ]
  },
  {
   "cell_type": "markdown",
   "metadata": {},
   "source": [
    "Ссылки, которые у нас есть в списке `urls`, относительные: они неполные, начало ссылки (название сайта) отсутствует. Давайте превратим их в абсолютные ‒ склеим с ссылкой https://nplus1.ru."
   ]
  },
  {
   "cell_type": "code",
   "execution_count": 11,
   "metadata": {},
   "outputs": [
    {
     "data": {
      "text/plain": [
       "['https://nplus1.ru/news/2023/10/04/chem-nobel-2023',\n",
       " 'https://nplus1.ru/news/2023/10/05/joby-taxi-first-flight-with-pilot',\n",
       " 'https://nplus1.ru/news/2023/10/05/bluewalker-3-is-danger',\n",
       " 'https://nplus1.ru/news/2023/10/05/el-nino-lapita',\n",
       " 'https://nplus1.ru/news/2023/10/05/manganese-accumulation-in-the-brain']"
      ]
     },
     "execution_count": 11,
     "metadata": {},
     "output_type": "execute_result"
    }
   ],
   "source": [
    "urls[:5]"
   ]
  },
  {
   "cell_type": "code",
   "execution_count": 12,
   "metadata": {},
   "outputs": [
    {
     "data": {
      "text/plain": [
       "['https://nplus1.ru/news/2023/10/04/chem-nobel-2023',\n",
       " 'https://nplus1.ru/news/2023/10/05/joby-taxi-first-flight-with-pilot',\n",
       " 'https://nplus1.ru/news/2023/10/05/bluewalker-3-is-danger',\n",
       " 'https://nplus1.ru/news/2023/10/05/el-nino-lapita',\n",
       " 'https://nplus1.ru/news/2023/10/05/manganese-accumulation-in-the-brain',\n",
       " 'https://nplus1.ru/news/2023/10/04/sulfur-of-deccan-traps',\n",
       " 'https://nplus1.ru/news/2023/10/04/heartbreaking',\n",
       " 'https://nplus1.ru/news/2023/10/04/osiris-rex-deploy-capsule',\n",
       " 'https://nplus1.ru/news/2023/10/04/vehicle-crash-adhd',\n",
       " 'https://nplus1.ru/news/2023/10/04/same-sex-behaviour-mammals',\n",
       " 'https://nplus1.ru/news/2023/10/04/frb-gw-or-no',\n",
       " 'https://nplus1.ru/news/2023/10/04/ak-alakha',\n",
       " 'https://nplus1.ru/news/2023/10/04/second-vaccine-for-malaria',\n",
       " 'https://nplus1.ru/news/2023/10/04/neolithic-jericho',\n",
       " 'https://nplus1.ru/news/2023/10/04/we-drive-solar-sharing-batteries',\n",
       " 'https://nplus1.ru/news/2023/10/04/orca-vs-sea-otters',\n",
       " 'https://nplus1.ru/news/2023/10/03/wolves-love-story',\n",
       " 'https://nplus1.ru/news/2023/10/03/bivalve-cancer',\n",
       " 'https://nplus1.ru/news/2023/10/03/butterflies-plugs',\n",
       " 'https://nplus1.ru/news/2023/10/03/gwas-carrot',\n",
       " 'https://nplus1.ru/news/2023/10/03/phys-nobel-2023',\n",
       " 'https://nplus1.ru/news/2023/10/03/yamnaya-people-and-multiple-sclerosis',\n",
       " 'https://nplus1.ru/news/2023/10/03/viking-age-burial-in-garden',\n",
       " 'https://nplus1.ru/news/2023/10/03/music-reading-dementia',\n",
       " 'https://nplus1.ru/news/2023/10/03/gobekli-tepe',\n",
       " 'https://nplus1.ru/news/2023/10/03/loneliness-and-risk-of-pd',\n",
       " 'https://nplus1.ru/news/2023/10/03/jwst-m-42',\n",
       " 'https://nplus1.ru/news/2023/10/03/baby-beaver',\n",
       " 'https://nplus1.ru/news/2023/10/02/nitrogen-fertilisers',\n",
       " 'https://nplus1.ru/news/2023/10/02/kelping',\n",
       " 'https://nplus1.ru/news/2023/10/02/probiotics-preterm-infants',\n",
       " 'https://nplus1.ru/news/2023/10/02/millimobile-battery-free-robot',\n",
       " 'https://nplus1.ru/news/2023/10/02/carbene-double-oxidation',\n",
       " 'https://nplus1.ru/news/2023/10/02/enlight-short-list-2023',\n",
       " 'https://nplus1.ru/news/2023/10/02/lincombian-ranisian-jerzmanowician',\n",
       " 'https://nplus1.ru/news/2023/10/02/physmed-nobel-2023',\n",
       " 'https://nplus1.ru/news/2023/10/02/september-2023',\n",
       " 'https://nplus1.ru/news/2023/10/02/abydos-wine-jars',\n",
       " 'https://nplus1.ru/news/2023/10/03/gobekli-tepe',\n",
       " 'https://nplus1.ru/news/2023/09/15/bathory-family',\n",
       " 'https://nplus1.ru/news/2023/09/20/earliest-wood-construction',\n",
       " 'https://nplus1.ru/news/2023/09/27/pyramid-of-sahure',\n",
       " 'https://nplus1.ru/news/2023/09/27/ninth-pangolin',\n",
       " 'https://nplus1.ru/news/2023/09/22/new-language',\n",
       " 'https://nplus1.ru/news/2023/09/15/earth-core-density-deficit',\n",
       " 'https://nplus1.ru/news/2023/09/15/earth-core-density-deficit',\n",
       " 'https://nplus1.ru/news/2023/09/16/erase-and-rewire',\n",
       " 'https://nplus1.ru/news/2023/09/20/nothing-extra',\n",
       " 'https://nplus1.ru/news/2023/09/21/put-through',\n",
       " 'https://nplus1.ru/news/2023/09/22/topological-phonons-in-graphene',\n",
       " 'https://nplus1.ru/news/2023/09/23/jwst-europe-co2',\n",
       " 'https://nplus1.ru/news/2023/09/23/be-my-guide',\n",
       " 'https://nplus1.ru/news/2023/10/04/frb-gw-or-no',\n",
       " 'https://nplus1.ru/news/2023/10/04/sulfur-of-deccan-traps']"
      ]
     },
     "execution_count": 12,
     "metadata": {},
     "output_type": "execute_result"
    }
   ],
   "source": [
    "full_urls = []\n",
    "\n",
    "for u in urls:\n",
    "    full_urls.append(u) \n",
    "\n",
    "full_urls"
   ]
  },
  {
   "cell_type": "markdown",
   "metadata": {},
   "source": [
    "Теперь наша задача сводится к следующему: изучить одну страницу с новостью, научиться из нее вытаскивать текст и всю необходимую информацию, а потом применить весь набор действий к каждой ссылке из `full_urls` в цикле. Посмотрим на новость с индексом 1, у вас может быть другая, новости обновляются."
   ]
  },
  {
   "cell_type": "code",
   "execution_count": 13,
   "metadata": {},
   "outputs": [],
   "source": [
    "url0 = urls[0]\n",
    "\n",
    "page0 = requests.get(url0)\n",
    "soup0 = BeautifulSoup(page0.text, 'html')"
   ]
  },
  {
   "cell_type": "code",
   "execution_count": 14,
   "metadata": {},
   "outputs": [
    {
     "data": {
      "text/plain": [
       "'https://nplus1.ru/news/2023/10/04/chem-nobel-2023'"
      ]
     },
     "execution_count": 14,
     "metadata": {},
     "output_type": "execute_result"
    }
   ],
   "source": [
    "url0"
   ]
  },
  {
   "cell_type": "markdown",
   "metadata": {},
   "source": [
    "В коде каждой страницы с новостью есть часть с мета-информацией: датой, именем автора и проч. Такая информация окружена тэгом `<meta></meta>`. Посмотрим:"
   ]
  },
  {
   "cell_type": "code",
   "execution_count": 15,
   "metadata": {},
   "outputs": [
    {
     "data": {
      "text/plain": [
       "[<meta charset=\"utf-8\"/>,\n",
       " <meta content=\"width=device-width, initial-scale=1\" name=\"viewport\"/>,\n",
       " <meta content=\"#f26e40\" name=\"msapplication-TileColor\"/>,\n",
       " <meta content=\"#ffffff\" name=\"theme-color\"/>,\n",
       " <meta content=\"8c90b02c84ac3b72\" name=\"yandex-verification\"/>,\n",
       " <meta content=\"b419949322895fc9106e24ed01be58ac\" name=\"pmail-verification\"/>,\n",
       " <meta content=\"N + 1 — главное издание о науке, технике и технологиях\" name=\"description\"/>,\n",
       " <meta content=\"N + 1 — главное издание о науке, технике и технологиях\" property=\"og:site_name\"/>,\n",
       " <meta content=\"Нобелевскую премию по химии присудили за квантовые точки\" property=\"og:title\"/>,\n",
       " <meta content=\"https://minio.nplus1.ru/app-images/838971/6516cd4f91d3b_cover_share.jpg\" property=\"og:image\"/>,\n",
       " <meta content=\"https://nplus1.ru/news/2023/10/04/chem-nobel-2023\" property=\"og:url\"/>,\n",
       " <meta content=\"N + 1 — главное издание о науке, технике и технологиях\" property=\"og:description\"/>,\n",
       " <meta content=\"article\" property=\"og:type\"/>,\n",
       " <meta content=\"2023-10-04\" itemprop=\"datePublished\"/>,\n",
       " <meta content=\"2023-10-04\" itemprop=\"datePublished\"/>,\n",
       " <meta content=\"Михаил Бойм\" name=\"mediator_author\"/>,\n",
       " <meta content=\"Михаил Бойм\" name=\"author\"/>,\n",
       " <meta content=\"\" name=\"copyright\"/>,\n",
       " <meta content=\"summary_large_image\" name=\"twitter:card\"/>,\n",
       " <meta content=\"@nplusodin\" name=\"twitter:site\"/>,\n",
       " <meta content=\"Нобелевскую премию по химии присудили за квантовые точки\" name=\"twitter:title\"/>,\n",
       " <meta content=\"N + 1 — главное издание о науке, технике и технологиях\" name=\"twitter:description\"/>,\n",
       " <meta content=\"https://minio.nplus1.ru/app-images/838971/6516cd4f91d3b_cover_share.jpg\" name=\"twitter:image\"/>]"
      ]
     },
     "execution_count": 15,
     "metadata": {},
     "output_type": "execute_result"
    }
   ],
   "source": [
    "soup0.find_all('meta')"
   ]
  },
  {
   "cell_type": "markdown",
   "metadata": {},
   "source": [
    "Из этого списка нам нужны части с именем автора, датой, заголовком и кратким описанием. Воспользуемся поиском по атрибуту `name`. Передадим функции `find_all()` в качестве аргумента словарь с названием и значением атрибута: "
   ]
  },
  {
   "cell_type": "code",
   "execution_count": 16,
   "metadata": {},
   "outputs": [
    {
     "data": {
      "text/plain": [
       "[<meta content=\"Михаил Бойм\" name=\"author\"/>]"
      ]
     },
     "execution_count": 16,
     "metadata": {},
     "output_type": "execute_result"
    }
   ],
   "source": [
    "soup0.find_all('meta', {'name' : 'author'}) # например, автор"
   ]
  },
  {
   "cell_type": "markdown",
   "metadata": {},
   "source": [
    "Теперь выберем единственный элемент полученного списка (с индексом 0):"
   ]
  },
  {
   "cell_type": "code",
   "execution_count": 17,
   "metadata": {},
   "outputs": [
    {
     "data": {
      "text/plain": [
       "<meta content=\"Михаил Бойм\" name=\"author\"/>"
      ]
     },
     "execution_count": 17,
     "metadata": {},
     "output_type": "execute_result"
    }
   ],
   "source": [
    "soup0.find_all('meta', {'name' : 'author'})[0]"
   ]
  },
  {
   "cell_type": "markdown",
   "metadata": {},
   "source": [
    "Нам нужно вытащить из этого объекта `content` – имя автора. Посмотрим на атрибуты:"
   ]
  },
  {
   "cell_type": "code",
   "execution_count": 18,
   "metadata": {},
   "outputs": [
    {
     "data": {
      "text/plain": [
       "'Михаил Бойм'"
      ]
     },
     "execution_count": 18,
     "metadata": {},
     "output_type": "execute_result"
    }
   ],
   "source": [
    "soup0.find_all('meta', {'name' : 'author'})[0].get('content')"
   ]
  },
  {
   "cell_type": "markdown",
   "metadata": {},
   "source": [
    "Как получить отсюда `content`? Очень просто, ведь это словарь! А доставать из словаря значение по ключу мы умеем."
   ]
  },
  {
   "cell_type": "code",
   "execution_count": 19,
   "metadata": {},
   "outputs": [
    {
     "data": {
      "text/plain": [
       "{'name': 'author', 'content': 'Михаил Бойм'}"
      ]
     },
     "execution_count": 19,
     "metadata": {},
     "output_type": "execute_result"
    }
   ],
   "source": [
    "author = soup0.find_all('meta', {'name' : 'author'})[0].attrs\n",
    "author"
   ]
  },
  {
   "cell_type": "markdown",
   "metadata": {},
   "source": [
    "Аналогичным образом извлечем дату, заголовок и описание."
   ]
  },
  {
   "cell_type": "code",
   "execution_count": 20,
   "metadata": {},
   "outputs": [
    {
     "data": {
      "text/plain": [
       "'Нобелевскую премию по\\xa0химии присудили за\\xa0квантовые точки'"
      ]
     },
     "execution_count": 20,
     "metadata": {},
     "output_type": "execute_result"
    }
   ],
   "source": [
    "soup0.find_all('meta', {'property' : 'og:title'})[0].get('content')"
   ]
  },
  {
   "cell_type": "code",
   "execution_count": 21,
   "metadata": {},
   "outputs": [],
   "source": [
    "date = soup0.find_all('meta', {'itemprop' : 'datePublished'})[0].get('content')\n",
    "title = soup0.find_all('meta', {'property' : 'og:title'})[0].get('content')\n",
    "description = soup0.find_all('h1', {'class':'text-34 md:text-42 xl:text-52 break-words'})[0].get_text().strip() \\\n",
    "+ '\\n' + soup0.find_all('p', {'class':\"text-36 md:text-44 xl:text-54 font-spectral text-main-gray mb-6\"})[0].get_text().strip()\n",
    "\n"
   ]
  },
  {
   "cell_type": "code",
   "execution_count": 22,
   "metadata": {},
   "outputs": [
    {
     "data": {
      "text/plain": [
       "'Нобелевскую премию по\\xa0химии присудили за\\xa0квантовые точки\\nЕе\\xa0получат Мунги Бавенди, Луис Брюс и\\xa0Алексей Екимов'"
      ]
     },
     "execution_count": 22,
     "metadata": {},
     "output_type": "execute_result"
    }
   ],
   "source": [
    "description"
   ]
  },
  {
   "cell_type": "markdown",
   "metadata": {},
   "source": [
    "Осталось вытащить рубрики и сложность текста. Если мы посмотрим на исходный код страницы, мы увидим, что нужная нам информация находится в тэгах `<p></p>`:"
   ]
  },
  {
   "cell_type": "code",
   "execution_count": 23,
   "metadata": {},
   "outputs": [],
   "source": [
    "new_data = soup0.find_all('div', {'class':\"flex flex-wrap lg:mb-10 gap-2 text-tags xl:pr-9\"})[0].find_all('span')[1:]\n",
    "\n",
    "time_published = new_data[0].get_text()\n",
    "date_published = new_data[1].get_text()\n",
    "complexity = new_data[2].get_text()\n",
    "themes = ', '.join(i.get_text() for i in new_data[3:])"
   ]
  },
  {
   "cell_type": "code",
   "execution_count": 24,
   "metadata": {},
   "outputs": [
    {
     "data": {
      "text/plain": [
       "[<span class=\"group-hover:text-main transition-colors duration-75\">12:54</span>,\n",
       " <span class=\"group-hover:text-main transition-colors duration-75\">04.10.23</span>,\n",
       " <span class=\"group-hover:text-main transition-colors duration-75\">4.9</span>,\n",
       " <span class=\"group-hover:text-main transition-colors duration-75\">Химия</span>]"
      ]
     },
     "execution_count": 24,
     "metadata": {},
     "output_type": "execute_result"
    }
   ],
   "source": [
    "new_data"
   ]
  },
  {
   "cell_type": "code",
   "execution_count": 25,
   "metadata": {},
   "outputs": [],
   "source": [
    "paragraphs = soup0.find_all('p', {'class': 'mb-6'})[1:]\n"
   ]
  },
  {
   "cell_type": "code",
   "execution_count": 26,
   "metadata": {},
   "outputs": [
    {
     "data": {
      "text/plain": [
       "[<p class=\"mb-6\">Лауреатами Нобелевской премии по химии 2023 года стали Мунги Бавенди (Moungi G. Bawendi), Луис Брюс (Louis E. Brus) и Алексей Екимов (Alexei I. Ekimov) — за открытие и исследование квантовых точек. За церемонией вручения премии можно наблюдать в прямом эфире на <a href=\"https://www.nobelprize.org/\">сайте</a> Нобелевского комитета. Подробнее об исследованиях лауреатов рассказывает <a href=\"https://www.nobelprize.org/prizes/chemistry/2023/press-release/\">пресс-релиз</a>. Вручение премий состоится 10 декабря в Стокгольме.</p>,\n",
       " <p class=\"mb-6\">Квантовые точки представляют собой кристаллические полупроводниковые частицы размером в несколько нанометров. Из-за своего небольшого размера, их оптические свойства во многом определяются квантовыми эффектами, и поэтому они сильно отличаются от макрокристаллических полупроводников. В частности, разница между энергетическими уровнями валентных электронов и электронов проводимости в квантовых точках отличается от ширины запрещенной зоны в объемном полупроводнике, и сильно зависит от размера частицы. Поэтому свойства квантовых точек можно менять, варьируя их размер.</p>,\n",
       " <p class=\"mb-6\">Первым квантовые точки из хлорида меди <a href=\"https://web.archive.org/web/20141216142832/http://www.jetpletters.ac.ru/ps/1030/article_15644.pdf\">синтезировал</a> в стеклянной матрице Алексей Екимов в 1981 году, работавший тогда в Государственном оптическом институте имени Вавилова в Санкт-Петербурге. Он обнаружил, что в зависимости от размера получившихся частиц, стекло поглощало свет с разной длиной волны. Статью о своих исследованиях Екимов опубликовал в советском журнале на русском языке, поэтому первое время она оставалась непрочитанной. </p>,\n",
       " <p class=\"mb-6\">Через два года Луис Брюс с коллегами из лабораторий Белла, ничего не знавший об открытии Екимова, <a href=\"https://pubs.aip.org/aip/jcp/article-abstract/79/2/1086/776583/Quantum-size-effects-in-the-redox-potentials?redirectedFrom=fulltext\">обнаружил</a>, что коллоидный раствор наночастиц сульфида кадмия меняет свои оптические свойства при стоянии. Он сделал вывод, что частицы в растворе со временем растут, и по своей способности поглощать свет становятся похожими на обычные кристаллы сульфида кадмия. При этом когда частицы были достаточно маленькие, их свойства отличались от свойств макрокристаллических образцов.</p>,\n",
       " <p class=\"mb-6\">А главная заслуга третьего Нобелиата — Мунги Бавенди из Массачусетского технологического института — в том, что он с коллегами <a href=\"https://pubs.acs.org/doi/pdf/10.1021/ja00072a025\">разработал</a> удобный способ синтеза монодисперсных растворов квантовых точек нужного размера. Дело в том, что уже существующие к моменту открытия Бавенди методики синтеза часто приводили к непредсказуемым результатам — в одинаковых экспериментах химики получали разные нанокристаллические образцы. А Бавенди смог разработать воспроизводящуюся методику синтеза, способную на выходе давать нанокристаллы с узким распределением по размеру.</p>,\n",
       " <p class=\"mb-6\">В 2012 году один из лауреатов Луис Брюс <a href=\"https://www.prnewswire.com/news-releases/thomson-reuters-predicts-2012-nobel-laureates-170285846.html\">попал</a> в список вероятных будущих лауреатов Нобеля, когда его составляла еще компания Thomson Reuters. В 2020 году, уже в аналогичный список от компании Clarivate, <a href=\"https://clarivate.com/news/clarivate-reveals-2020-citation-laureates-annual-list-of-researchers-of-nobel-class/\">попал</a> Мунги Бавенди. А в этом году в него вошли три группы химиков. Джеймс Коллинз, Майкл Эловиц и Станислас Лейблер попали в список за свои работы в области искуственных генных схем. Шанкар Баласубраманиан и Дэвид Кленермэн — за новый метод секвенирования ДНК. А Кадзунори Катаока, Владимир Торчилин и Карен Вули — за разработку полимерных оболочек для доставки лекарств к мишени. Подробнее об ученых из списка читайте в нашем материале <a href=\"https://nplus1.ru/blog/2023/09/20/clarivate-nobel-2023\">«Нобелевское предчувствие — 2023»</a>.</p>,\n",
       " <p class=\"mb-6\">Последние годы Нобелевские премии по химии вручали за исследования в области органической химии. В 2022 году премию разделили Каролин Бертоцци, Мортен Мельдаль и Барри Шарплесс — за развитие методов клик-химии и биоортогональной химии, о которых можно прочитать в нашем материале <a href=\"https://nplus1.ru/material/2022/10/06/chemistry-nobel-2022\">«Клик — и готово»</a>. При этом Шарплесс получил премию уже во второй раз. А в 2021 году лауреатами стали Беньямин Лист и Дэвид Макмиллан за развитие асимметрического органокатализа, позволяющего получать органические вещества в оптически чистом виде. Подробнее о лауреатах 2021 года читайте в материале <a href=\"https://nplus1.ru/material/2021/10/07/nobel-chem-2021\">«Химия зазеркалья»</a>.</p>,\n",
       " <p class=\"text-36 md:text-44 xl:text-54 font-spectral text-main-gray mb-6\">Они не рацемизовались за неделю</p>,\n",
       " <p class=\"mb-6\">Английские и американские химики получили хиральный оксониевый катион, который удалось разделить на энантиомеры с помощью кристаллизации его соли с хиральным анионом. Полученные энантиомеры с оптическим центром на атоме кислорода оказались конфигурационно стабильны и устойчивы при хранении на воздухе, пишут ученые в Nature.</p>]"
      ]
     },
     "execution_count": 26,
     "metadata": {},
     "output_type": "execute_result"
    }
   ],
   "source": [
    "paragraphs"
   ]
  },
  {
   "cell_type": "code",
   "execution_count": 27,
   "metadata": {},
   "outputs": [],
   "source": [
    "links = set()\n",
    "for p in paragraphs:\n",
    "    links|={i.get('href') for i in p.find_all('a')}\n",
    "links = ', '.join(links)"
   ]
  },
  {
   "cell_type": "code",
   "execution_count": 28,
   "metadata": {},
   "outputs": [],
   "source": [
    "full_text = '\\n'.join([p.get_text() for p in paragraphs])"
   ]
  },
  {
   "cell_type": "markdown",
   "metadata": {},
   "source": [
    "Не прошло и двух пар, как мы разобрались со всем :) Теперь осталось совсем чуть-чуть. Написать готовую функцию для всех проделанных нами действий и применить ее в цикле для всех ссылок в списке `full_urls`. Напишем! Аргументом функции будет ссылка на новость, а возвращать она будет текст новости и всю необходимую информацию (дата, автор, сложность и проч.). Скопируем все строки кода выше."
   ]
  },
  {
   "cell_type": "code",
   "execution_count": 29,
   "metadata": {},
   "outputs": [],
   "source": [
    "def GetNews(url0):\n",
    "    \"\"\"\n",
    "    Returns a tuple with \n",
    "    url0, date_published, time_published, author, description, title, complexity, themes, links,full_text\n",
    "    Parameters:\n",
    "    \n",
    "    url0 is a link to the news (string)\n",
    "    \"\"\"\n",
    "    page0 = requests.get(url0)\n",
    "    soup0 = BeautifulSoup(page0.text, 'lxml')\n",
    "    \n",
    "    author = soup0.find_all('meta', {'name' : 'author'})[0].get('content')\n",
    "    date = soup0.find_all('meta', {'itemprop' : 'datePublished'})[0].get('content')\n",
    "    title = soup0.find_all('meta', {'property' : 'og:title'})[0].get('content')\n",
    "    description = soup0.find_all('h1', {'class':'text-34 md:text-42 xl:text-52 break-words'})[0].get_text().strip() \\\n",
    "+ '\\n' + soup0.find_all('p', {'class':\"text-36 md:text-44 xl:text-54 font-spectral text-main-gray mb-6\"})[0].get_text().strip()\n",
    "\n",
    "\n",
    "    \n",
    "    new_data = soup0.find_all('div', {'class':\"flex flex-wrap lg:mb-10 gap-2 text-tags xl:pr-9\"})[0].find_all('span')[1:]\n",
    "\n",
    "    time_published = new_data[0].get_text()\n",
    "    date_published = new_data[1].get_text()\n",
    "    complexity = new_data[2].get_text()\n",
    "    themes = ', '.join(i.get_text() for i in new_data[3:])\n",
    "    \n",
    "    paragraphs = soup0.find_all('p', {'class': 'mb-6'})[1:]\n",
    "    links = set()\n",
    "    for p in paragraphs:\n",
    "        links|={i.get('href') for i in p.find_all('a')}\n",
    "    links -= {None} # Если вдруг у нас есть None-ссылка\n",
    "    links = ', '.join(links)\n",
    "    full_text = '\\n'.join([p.get_text() for p in paragraphs])\n",
    "    \n",
    "    return url0, date_published, time_published, author, description, title, complexity, themes, links,full_text"
   ]
  },
  {
   "cell_type": "markdown",
   "metadata": {},
   "source": [
    "Уфф. Осталось применить ее в цикле. Но давайте не будем спешить: импортируем функцию `sleep` для задержки, чтобы на каждой итерации цикла, прежде чем перейти к следующей новости, Python ждал несколько секунд. Во-первых, это нужно, чтобы сайт «не понял», чтобы мы его грабим, да еще автоматически. Во-вторых, с небольшой задержкой всегда есть гарантия, что страница прогрузится (сейчас это пока не очень важно, но особенно актуально будет, когда будем обсуждать встраивание в браузер с Selenium). Приступим."
   ]
  },
  {
   "cell_type": "code",
   "execution_count": 30,
   "metadata": {},
   "outputs": [],
   "source": [
    "from time import sleep\n",
    "from tqdm import tqdm"
   ]
  },
  {
   "cell_type": "code",
   "execution_count": 31,
   "metadata": {},
   "outputs": [],
   "source": [
    "import random"
   ]
  },
  {
   "cell_type": "code",
   "execution_count": 32,
   "metadata": {},
   "outputs": [
    {
     "name": "stderr",
     "output_type": "stream",
     "text": [
      "100%|██████████████████████████████████████████████████████████████████████████████████| 54/54 [01:08<00:00,  1.27s/it]\n"
     ]
    }
   ],
   "source": [
    "news = [] # это будет список из кортежей, в которых будут храниться данные по каждой новости\n",
    "\n",
    "for link in tqdm(urls):\n",
    "    res = GetNews(link)\n",
    "    news.append(res)\n",
    "    sleep(random.random()) # задержка в 3 секунды"
   ]
  },
  {
   "cell_type": "code",
   "execution_count": 33,
   "metadata": {},
   "outputs": [
    {
     "data": {
      "text/plain": [
       "'https://nplus1.ru/news/2023/09/23/jwst-europe-co2'"
      ]
     },
     "execution_count": 33,
     "metadata": {},
     "output_type": "execute_result"
    }
   ],
   "source": [
    "urls[50]"
   ]
  },
  {
   "cell_type": "code",
   "execution_count": 34,
   "metadata": {},
   "outputs": [],
   "source": [
    "page0 = requests.get(urls[50])\n",
    "soup0 = BeautifulSoup(page0.text, 'lxml')"
   ]
  },
  {
   "cell_type": "code",
   "execution_count": 35,
   "metadata": {},
   "outputs": [],
   "source": [
    "paragraphs = soup0.find_all('p', {'class': 'mb-6'})[1:]"
   ]
  },
  {
   "cell_type": "code",
   "execution_count": 36,
   "metadata": {},
   "outputs": [],
   "source": [
    "links = set()\n",
    "for p in paragraphs:\n",
    "    links|={i.get('href') for i in p.find_all('a')}"
   ]
  },
  {
   "cell_type": "code",
   "execution_count": 37,
   "metadata": {},
   "outputs": [
    {
     "data": {
      "text/plain": [
       "{'https://it.wikipedia.org/wiki/Powys_Regio',\n",
       " 'https://it.wikipedia.org/wiki/Tara_Regio',\n",
       " 'https://nplus1.ru/material/2023/04/12/juice-jupiter',\n",
       " 'https://nplus1.ru/news/2016/09/26/europa-ocean-hubble',\n",
       " 'https://nplus1.ru/news/2019/06/13/nacl-in-europe',\n",
       " 'https://nplus1.ru/news/2020/06/25/europa-ocean',\n",
       " 'https://nplus1.ru/news/2021/07/24/falcon-for-cliper',\n",
       " 'https://nplus1.ru/news/2022/06/30/swin-mission',\n",
       " 'https://ru.wikipedia.org/wiki/%D0%A5%D0%B0%D0%BE%D1%81_(%D1%80%D0%B5%D0%BB%D1%8C%D0%B5%D1%84)',\n",
       " 'https://www.science.org/doi/10.1126/science.adg4155',\n",
       " 'https://www.science.org/doi/10.1126/science.adg4270'}"
      ]
     },
     "execution_count": 37,
     "metadata": {},
     "output_type": "execute_result"
    }
   ],
   "source": [
    "links - {None}"
   ]
  },
  {
   "cell_type": "markdown",
   "metadata": {},
   "source": [
    "Так теперь выглядит первый элемент списка:"
   ]
  },
  {
   "cell_type": "code",
   "execution_count": 38,
   "metadata": {},
   "outputs": [
    {
     "data": {
      "text/plain": [
       "('https://nplus1.ru/news/2023/10/04/chem-nobel-2023',\n",
       " '04.10.23',\n",
       " '12:54',\n",
       " 'Михаил Бойм',\n",
       " 'Нобелевскую премию по\\xa0химии присудили за\\xa0квантовые точки\\nЕе\\xa0получат Мунги Бавенди, Луис Брюс и\\xa0Алексей Екимов',\n",
       " 'Нобелевскую премию по\\xa0химии присудили за\\xa0квантовые точки',\n",
       " '4.9',\n",
       " 'Химия',\n",
       " 'https://www.nobelprize.org/prizes/chemistry/2023/press-release/, https://pubs.aip.org/aip/jcp/article-abstract/79/2/1086/776583/Quantum-size-effects-in-the-redox-potentials?redirectedFrom=fulltext, https://nplus1.ru/material/2022/10/06/chemistry-nobel-2022, https://nplus1.ru/material/2021/10/07/nobel-chem-2021, https://www.nobelprize.org/, https://web.archive.org/web/20141216142832/http://www.jetpletters.ac.ru/ps/1030/article_15644.pdf, https://www.prnewswire.com/news-releases/thomson-reuters-predicts-2012-nobel-laureates-170285846.html, https://clarivate.com/news/clarivate-reveals-2020-citation-laureates-annual-list-of-researchers-of-nobel-class/, https://nplus1.ru/blog/2023/09/20/clarivate-nobel-2023, https://pubs.acs.org/doi/pdf/10.1021/ja00072a025',\n",
       " 'Лауреатами Нобелевской премии по\\xa0химии 2023 года стали Мунги Бавенди (Moungi G. Bawendi), Луис Брюс (Louis E. Brus) и\\xa0Алексей Екимов (Alexei I. Ekimov)\\xa0— за\\xa0открытие и\\xa0исследование квантовых точек. За\\xa0церемонией вручения премии можно наблюдать в\\xa0прямом эфире на\\xa0сайте Нобелевского комитета. Подробнее об\\xa0исследованиях лауреатов рассказывает пресс-релиз. Вручение премий состоится 10\\xa0декабря в\\xa0Стокгольме.\\nКвантовые точки представляют собой кристаллические полупроводниковые частицы размером в\\xa0несколько нанометров. Из-за своего небольшого размера, их\\xa0оптические свойства во\\xa0многом определяются квантовыми эффектами, и\\xa0поэтому они сильно отличаются от\\xa0макрокристаллических полупроводников. В\\xa0частности, разница между энергетическими уровнями валентных электронов и\\xa0электронов проводимости в\\xa0квантовых точках отличается от\\xa0ширины запрещенной зоны в\\xa0объемном полупроводнике, и\\xa0сильно зависит от\\xa0размера частицы. Поэтому свойства квантовых точек можно менять, варьируя их\\xa0размер.\\nПервым квантовые точки из\\xa0хлорида меди синтезировал в\\xa0стеклянной матрице Алексей Екимов в\\xa01981\\xa0году, работавший тогда в\\xa0Государственном оптическом институте имени Вавилова в\\xa0Санкт-Петербурге. Он\\xa0обнаружил, что в\\xa0зависимости от\\xa0размера получившихся частиц, стекло поглощало свет с\\xa0разной длиной волны. Статью о\\xa0своих исследованиях Екимов опубликовал в\\xa0советском журнале на\\xa0русском языке, поэтому первое время она оставалась непрочитанной. \\nЧерез два года Луис Брюс с\\xa0коллегами из\\xa0лабораторий Белла, ничего не\\xa0знавший об\\xa0открытии Екимова, обнаружил, что коллоидный раствор наночастиц сульфида кадмия меняет свои оптические свойства при стоянии. Он\\xa0сделал вывод, что частицы в\\xa0растворе со\\xa0временем растут, и\\xa0по\\xa0своей способности поглощать свет становятся похожими на\\xa0обычные кристаллы сульфида кадмия. При этом когда частицы были достаточно маленькие, их\\xa0свойства отличались от\\xa0свойств макрокристаллических образцов.\\nА\\xa0главная заслуга третьего Нобелиата\\xa0— Мунги Бавенди из\\xa0Массачусетского технологического института\\xa0— в\\xa0том, что он\\xa0с\\xa0коллегами разработал удобный способ синтеза монодисперсных растворов квантовых точек нужного размера. Дело в\\xa0том, что уже существующие к\\xa0моменту открытия Бавенди методики синтеза часто приводили к\\xa0непредсказуемым результатам\\xa0— в\\xa0одинаковых экспериментах химики получали разные нанокристаллические образцы. А\\xa0Бавенди смог разработать воспроизводящуюся методику синтеза, способную на\\xa0выходе давать нанокристаллы с\\xa0узким распределением по\\xa0размеру.\\nВ\\xa02012 году один из\\xa0лауреатов Луис Брюс попал в\\xa0список вероятных будущих лауреатов Нобеля, когда его составляла еще компания Thomson Reuters. В\\xa02020\\xa0году, уже в\\xa0аналогичный список от\\xa0компании Clarivate, попал Мунги Бавенди. А\\xa0в\\xa0этом году в\\xa0него вошли три группы химиков. Джеймс Коллинз, Майкл Эловиц и\\xa0Станислас Лейблер попали в\\xa0список за\\xa0свои работы в\\xa0области искуственных генных схем. Шанкар Баласубраманиан и\\xa0Дэвид Кленермэн\\xa0— за\\xa0новый метод секвенирования ДНК. А\\xa0Кадзунори Катаока, Владимир Торчилин и\\xa0Карен Вули\\xa0— за\\xa0разработку полимерных оболочек для доставки лекарств к\\xa0мишени. Подробнее об\\xa0ученых из\\xa0списка читайте в\\xa0нашем материале «Нобелевское предчувствие\\xa0— 2023».\\nПоследние годы Нобелевские премии по\\xa0химии вручали за\\xa0исследования в\\xa0области органической химии. В\\xa02022 году премию разделили Каролин Бертоцци, Мортен Мельдаль и\\xa0Барри Шарплесс\\xa0— за\\xa0развитие методов клик-химии и\\xa0биоортогональной химии, о\\xa0которых можно прочитать в\\xa0нашем материале «Клик\\xa0— и\\xa0готово». При этом Шарплесс получил премию уже во\\xa0второй раз. А\\xa0в\\xa02021 году лауреатами стали Беньямин Лист и\\xa0Дэвид Макмиллан за\\xa0развитие асимметрического органокатализа, позволяющего получать органические вещества в\\xa0оптически чистом виде. Подробнее о\\xa0лауреатах 2021 года читайте в\\xa0материале «Химия зазеркалья».\\nОни не рацемизовались за неделю\\nАнглийские и американские химики получили хиральный оксониевый катион, который удалось разделить на энантиомеры с помощью кристаллизации его соли с хиральным анионом. Полученные энантиомеры с оптическим центром на атоме кислорода оказались конфигурационно стабильны и устойчивы при хранении на воздухе, пишут ученые в Nature.')"
      ]
     },
     "execution_count": 38,
     "metadata": {},
     "output_type": "execute_result"
    }
   ],
   "source": [
    "news[0]"
   ]
  },
  {
   "cell_type": "markdown",
   "metadata": {},
   "source": [
    "Импортируем `pandas` и создадим датафрейм из списка кортежей: "
   ]
  },
  {
   "cell_type": "code",
   "execution_count": 39,
   "metadata": {},
   "outputs": [],
   "source": [
    "import pandas as pd"
   ]
  },
  {
   "cell_type": "code",
   "execution_count": 40,
   "metadata": {},
   "outputs": [],
   "source": [
    "df = pd.DataFrame(news)"
   ]
  },
  {
   "cell_type": "code",
   "execution_count": 41,
   "metadata": {},
   "outputs": [
    {
     "data": {
      "text/html": [
       "<div>\n",
       "<style scoped>\n",
       "    .dataframe tbody tr th:only-of-type {\n",
       "        vertical-align: middle;\n",
       "    }\n",
       "\n",
       "    .dataframe tbody tr th {\n",
       "        vertical-align: top;\n",
       "    }\n",
       "\n",
       "    .dataframe thead th {\n",
       "        text-align: right;\n",
       "    }\n",
       "</style>\n",
       "<table border=\"1\" class=\"dataframe\">\n",
       "  <thead>\n",
       "    <tr style=\"text-align: right;\">\n",
       "      <th></th>\n",
       "      <th>0</th>\n",
       "      <th>1</th>\n",
       "      <th>2</th>\n",
       "      <th>3</th>\n",
       "      <th>4</th>\n",
       "      <th>5</th>\n",
       "      <th>6</th>\n",
       "      <th>7</th>\n",
       "      <th>8</th>\n",
       "      <th>9</th>\n",
       "    </tr>\n",
       "  </thead>\n",
       "  <tbody>\n",
       "    <tr>\n",
       "      <th>0</th>\n",
       "      <td>https://nplus1.ru/news/2023/10/04/chem-nobel-2023</td>\n",
       "      <td>04.10.23</td>\n",
       "      <td>12:54</td>\n",
       "      <td>Михаил Бойм</td>\n",
       "      <td>Нобелевскую премию по химии присудили за квант...</td>\n",
       "      <td>Нобелевскую премию по химии присудили за квант...</td>\n",
       "      <td>4.9</td>\n",
       "      <td>Химия</td>\n",
       "      <td>https://www.nobelprize.org/prizes/chemistry/20...</td>\n",
       "      <td>Лауреатами Нобелевской премии по химии 2023 го...</td>\n",
       "    </tr>\n",
       "    <tr>\n",
       "      <th>1</th>\n",
       "      <td>https://nplus1.ru/news/2023/10/05/joby-taxi-fi...</td>\n",
       "      <td>05.10.23</td>\n",
       "      <td>13:47</td>\n",
       "      <td>Андрей Фокин</td>\n",
       "      <td>Аэротакси Joby впервые взлетело с пилотом на б...</td>\n",
       "      <td>Аэротакси Joby впервые взлетело с пилотом на б...</td>\n",
       "      <td>1.7</td>\n",
       "      <td>Авиация, Транспорт, Технологии</td>\n",
       "      <td>https://wbsrv.ru/, https://nplus1.ru/news/2021...</td>\n",
       "      <td>Компания Joby Aviation, занимающаяся разработк...</td>\n",
       "    </tr>\n",
       "  </tbody>\n",
       "</table>\n",
       "</div>"
      ],
      "text/plain": [
       "                                                   0         1      2  \\\n",
       "0  https://nplus1.ru/news/2023/10/04/chem-nobel-2023  04.10.23  12:54   \n",
       "1  https://nplus1.ru/news/2023/10/05/joby-taxi-fi...  05.10.23  13:47   \n",
       "\n",
       "              3                                                  4  \\\n",
       "0   Михаил Бойм  Нобелевскую премию по химии присудили за квант...   \n",
       "1  Андрей Фокин  Аэротакси Joby впервые взлетело с пилотом на б...   \n",
       "\n",
       "                                                   5    6  \\\n",
       "0  Нобелевскую премию по химии присудили за квант...  4.9   \n",
       "1  Аэротакси Joby впервые взлетело с пилотом на б...  1.7   \n",
       "\n",
       "                                7  \\\n",
       "0                           Химия   \n",
       "1  Авиация, Транспорт, Технологии   \n",
       "\n",
       "                                                   8  \\\n",
       "0  https://www.nobelprize.org/prizes/chemistry/20...   \n",
       "1  https://wbsrv.ru/, https://nplus1.ru/news/2021...   \n",
       "\n",
       "                                                   9  \n",
       "0  Лауреатами Нобелевской премии по химии 2023 го...  \n",
       "1  Компания Joby Aviation, занимающаяся разработк...  "
      ]
     },
     "execution_count": 41,
     "metadata": {},
     "output_type": "execute_result"
    }
   ],
   "source": [
    "df.head(2)"
   ]
  },
  {
   "cell_type": "markdown",
   "metadata": {},
   "source": [
    "Переименуем столбцы в базе."
   ]
  },
  {
   "cell_type": "code",
   "execution_count": 42,
   "metadata": {},
   "outputs": [],
   "source": [
    "df.columns = ['url', 'date_published', 'time_published', 'author', 'description', 'title', 'complexity', 'themes', 'links','full_text']"
   ]
  },
  {
   "cell_type": "markdown",
   "metadata": {},
   "source": [
    "Теперь внесем изменения: сделаем столбец `diffc` числовым – типа *float*."
   ]
  },
  {
   "cell_type": "code",
   "execution_count": 43,
   "metadata": {},
   "outputs": [],
   "source": [
    "df['complexity'] = df['complexity'].apply(float)"
   ]
  },
  {
   "cell_type": "markdown",
   "metadata": {},
   "source": [
    "Теперь сложность представлена в базе как количественный показатель, и описывать ее можно соответствующим образом:"
   ]
  },
  {
   "cell_type": "code",
   "execution_count": 44,
   "metadata": {
    "scrolled": true
   },
   "outputs": [
    {
     "data": {
      "text/plain": [
       "count    54.000000\n",
       "mean      3.318519\n",
       "std       1.753818\n",
       "min       1.100000\n",
       "25%       1.950000\n",
       "50%       2.850000\n",
       "75%       4.475000\n",
       "max       7.800000\n",
       "Name: complexity, dtype: float64"
      ]
     },
     "execution_count": 44,
     "metadata": {},
     "output_type": "execute_result"
    }
   ],
   "source": [
    "df.complexity.describe()"
   ]
  },
  {
   "cell_type": "code",
   "execution_count": 45,
   "metadata": {},
   "outputs": [],
   "source": [
    "from matplotlib.cbook import flatten"
   ]
  },
  {
   "cell_type": "code",
   "execution_count": 46,
   "metadata": {},
   "outputs": [
    {
     "data": {
      "text/plain": [
       "['Авиация',\n",
       " 'Антропология',\n",
       " 'Археология',\n",
       " 'Астрономия',\n",
       " 'Биология',\n",
       " 'Ботаника',\n",
       " 'Геология',\n",
       " 'Зоология',\n",
       " 'Инфопартнерство',\n",
       " 'История',\n",
       " 'Космонавтика',\n",
       " 'Лингвистика',\n",
       " 'Медицина',\n",
       " 'Роботы и дроны',\n",
       " 'Технологии',\n",
       " 'Транспорт',\n",
       " 'Физика',\n",
       " 'Химия',\n",
       " 'Экология и климат']"
      ]
     },
     "execution_count": 46,
     "metadata": {},
     "output_type": "execute_result"
    }
   ],
   "source": [
    "sorted(set(flatten([i.split(', ') for i in df.themes.unique()])))"
   ]
  },
  {
   "cell_type": "code",
   "execution_count": 47,
   "metadata": {},
   "outputs": [
    {
     "data": {
      "text/plain": [
       "'На\\xa0планете живет не\\xa0восемь, а\\xa0девять видов панголинов. К\\xa0такому выводу пришли зоологи, проанализировав 33\\xa0образца панголиньих чешуек, конфискованных у\\xa0контрабандистов в\\xa0Гонконге и\\xa0Юньнане с\\xa02012 по\\xa02019\\xa0годы. Генетический анализ показал, что эти чешуйки принадлежали неизвестному ранее виду азиатских панголинов, который приходится родственником яванскому и\\xa0филиппинскому панголинам, но\\xa0разошелся с\\xa0ними около пяти миллионов лет назад. Его назвали загадочным панголином (Manis mysteria). Где обитает этот вид и\\xa0как именно выглядит, неизвестно. Результаты исследования опубликованы в\\xa0статье для журнала Proceedings of\\xa0the National Academy of\\xa0Sciences.\\nЗоологам известны восемь современных видов панголинов (Pholidota)\\xa0— необычных насекомоядных млекопитающих, покрытых кератиновой чешуей. Четыре из\\xa0них обитают в\\xa0Азии, а\\xa0еще четыре\\xa0— в\\xa0Африке. К\\xa0сожалению, в\\xa0наши дни все они оказались под угрозой вымирания. Основной угрозой для панголинов стала традиционная китайская медицина, в\\xa0которой их\\xa0чешуйки высоко ценятся в\\xa0качестве сырья для лекарств. Кроме того, мясо этих животных считается статусной едой. Неудивительно, что их\\xa0массово ловят и\\xa0убивают браконьеры, после чего продают на\\xa0черном рынке. По\\xa0некоторым оценкам, только в\\xa02004-2014 году из-за незаконной охоты погибло более миллиона панголинов.\\nВосемь лет назад у\\xa0ученых появились первые подозрения, что видов панголинов больше, чем считалось ранее. Выделив и\\xa0изучив митохондриальный геном из\\xa027\\xa0образцов пангольиньей чешуи, изъятых у\\xa0контрабандистов в\\xa0Гонконге в\\xa02012-2013\\xa0годах, местные биологи вместе с\\xa0коллегами из\\xa0США и\\xa0Франции выявили два гаплотипа (H04 и\\xa0H08), которые не\\xa0встречаются у\\xa0трех из\\xa0четырех азиатских и\\xa0ни\\xa0у\\xa0одного из\\xa0четырех африканских видов панголинов. Тогда исследователи предположили, что конфискованные чешуи принадлежат не\\xa0включенным в\\xa0их\\xa0анализ филиппинским панголинам (Manis culionensis), неизвестной линии яванских панголинов (M. javanica) или неизвестному виду панголинов. Дополнительный анализ, проведенный в\\xa02020\\xa0году, не\\xa0выявил присутствия двух загадочных гаплогрупп ни\\xa0у\\xa0филиппинских, ни\\xa0у\\xa0яванских панголинов. Это свидетельствовало в\\xa0пользу того, что обладателем конфискованных чешуек был панголин, принадлежащий к\\xa0неизвестному виду. Впрочем, эти выводы были основаны на\\xa0коротких фрагментах митохондриальных генов, что значительно снижает доверие к\\xa0ним.\\nКоманда зоологов под руководством Ли\\xa0Юй (Li\\xa0Yu) из\\xa0Юньнаньского университета обнаружила дополнительные свидетельства в\\xa0пользу существования девятого вида панголинов. Проанализировав шесть чешуек, конфискованных в\\xa0провинции Юньнань в\\xa02015 и\\xa02019\\xa0годах, исследователи выявили еще два неизвестных ранее митохондриальных гаплотипа (YN01 и\\xa0YN02)), которые оказались ближе к\\xa0гаплотипам H04 и\\xa0H08 из\\xa0гонконгских чешуек, чем к\\xa0гаплотипам каких-либо из\\xa0существующих видов панголинов. Таким образом, гонконгские и\\xa0юньнаньские чешуйки, скорее всего, принадлежали представителям одного и\\xa0того\\xa0же неизвестного ранее вида, который авторы назвали загадочным панголином (Manis mysteria). Судя по\\xa0форме чешуек, а\\xa0также расположению волос и\\xa0строению когтей, которые сохранились на\\xa0некоторых из\\xa0образцов, этот вид близок к\\xa0азиатским, а\\xa0не\\xa0к\\xa0африканским панголинам. Как он\\xa0выглядит, точно неизвестно, однако его, вероятно, трудно отличить от\\xa0других азиатских панголинов по\\xa0внешнему виду.\\nНа\\xa0следующем этапе Ли\\xa0Юй\\xa0и\\xa0ее\\xa0соавторы получили полные геномы 138\\xa0панголинов, принадлежащих ко\\xa0всем восьми известным видам. Их\\xa0сравнили с\\xa0геномами загадочных панголинов (как показал анализ, использованные для этого чешуйки принадлежали семи разным особям). В\\xa0исследование также включили сведения о\\xa0ряде отдельных генов и\\xa0о\\xa0митохондриальном геноме. На\\xa0основе этой информации ученые построили филогенетическое древо панголинов. Во\\xa0всех его вариантах представители предполагаемого нового вида образовывали хорошо выраженную единую ветвь, которая, в\\xa0свою очередь, принадлежала к\\xa0кладе азиатских панголинов. Согласно реконструкции авторов, сначала от\\xa0общего ствола этой клады отделились предки китайского панголина (M. pentadactyla) (это произошло около 16,85 миллиона лет назад), потом\\xa0— индийского (M. crassicaudata) (10,15 миллиона лет назад), а\\xa0затем\\xa0— загадочного панголина (5,05 миллиона лет назад). Позднее, около 3,23 миллиона лет назад, произошло разделение филиппинского и\\xa0яванского панголинов. \\nСильнее всего загадочный панголин отличается от\\xa0других азиатских панголинов генами, которые связаны с\\xa0размножением и\\xa0репродуктивной изоляцией. Это гены, ответственные за\\xa0производство гамет, мейоз, оплодотворение, плодовитость, внутриклеточные рецепторы эстрогенов и\\xa0рецепторы андрогенов. Уровень гетерозиготности у\\xa0загадочных панголинов составляет 0,094\\xa0процента, что указывает на\\xa0сравнительно низкое генетическое разнообразие. Похожие значения гетерозиготности характерны для некоторых находящихся под угрозой исчезновения видов млекопитающих, например, чепрачных тапиров (Tapirus indicus) и\\xa0гигантских выдр (Pteronura brasiliensis). Впрочем, у\\xa0филиппинских панголинов уровень гетерозиготности еще ниже (0,04\\xa0процента). При этом коэффициент близкородственных скрещиваний у\\xa0загадочного панголина оказался равен 16,1\\xa0процента, что выше среднего для этой группы млекопитающих.\\nАвторы не\\xa0стали давать новому виду панголинов формальное описание. По\\xa0их\\xa0мнению, для этого нужно дождаться, когда в\\xa0руках специалистов окажутся полноценные экземпляры вида. Кроме того, зоологам предстоит выяснить, где именно обитает загадочный панголин. Конфискованные в\\xa0Гонконге и\\xa0Юньнане чешуйки не\\xa0отвечают на\\xa0этот вопрос, поскольку их\\xa0происхождение неизвестно. Наиболее вероятны две версии. Либо загадочный панголин живет в\\xa0континентальной Азии, причем его ареал пересекается или соседствует с\\xa0ареалами индийского и\\xa0китайского панголинов (на\\xa0это указывает существование ограниченного обмена генами между ним и\\xa0двумя этими видами), либо на\\xa0изолированных островах Юго-Восточной Азии. В\\xa0любом случае до\\xa0сих пор зоологи его не\\xa0замечали (возможно, потому что он\\xa0живет в\\xa0плохо изученном регионе) или не\\xa0отличали от\\xa0других азиатских панголинов. Как\\xa0бы то\\xa0ни\\xa0было, скорее всего, загадочный панголин очень редок\\xa0и, подобно родственным видам, страдает от\\xa0браконьеров, что в\\xa0сочетании с\\xa0низким генетическим разнообразием снижает его шансы на\\xa0выживание. \\nПанголины по\\xa0всей Азии и\\xa0Африке страдают от\\xa0браконьерской охоты ради нужд традиционной китайской медицины, однако на\\xa0Тайване, где популяция этих млекопитающих стабильна, они столкнулись с\\xa0другой проблемой. Тайваньские ветеринары рассказали, что в\\xa0последние годы на\\xa0местных панголинов все чаще нападают бродячие собаки, которые отрывают им\\xa0хвосты и\\xa0наносят другие серьезные раны.\\nС\\xa0его помощью он\\xa0маскируется среди термитов и\\xa0выпрашивает у\\xa0них пищу\\nЭнтомологи описали необычного жука из семейства стафилинид, который живет в термитниках. Он получил название Austrospirachtha carrijoi. Брюшко у этого насекомого загнуто вверх и преобразовано таким образом, что напоминает термита. Это позволяет жуку жить среди термитов и, вероятно, выпрашивать у них пищу. Как отмечается в статье для журнала Zootaxa, ранее исследователям был известен только один вид из рода Austrospirachtha — и он использует аналогичный вид мимикрии.'"
      ]
     },
     "execution_count": 47,
     "metadata": {},
     "output_type": "execute_result"
    }
   ],
   "source": [
    "df[df.themes.apply(lambda x: 'зоология' in x.lower())].sample(1).full_text.values[0]"
   ]
  },
  {
   "cell_type": "code",
   "execution_count": 48,
   "metadata": {},
   "outputs": [],
   "source": [
    "df.to_csv('news_plus_1.csv', \n",
    "          index = False, \n",
    "          sep = ';',  #  Сюда можно поставить произвольный символ, чтоб новость не ломать\n",
    "          encoding = 'utf-8-sig')"
   ]
  },
  {
   "cell_type": "markdown",
   "metadata": {},
   "source": [
    "Теперь столбец со сложностью точно числовой. Можем даже построить для него гистограмму."
   ]
  },
  {
   "cell_type": "code",
   "execution_count": 49,
   "metadata": {},
   "outputs": [
    {
     "data": {
      "text/plain": [
       "<AxesSubplot:ylabel='Frequency'>"
      ]
     },
     "execution_count": 49,
     "metadata": {},
     "output_type": "execute_result"
    },
    {
     "data": {
      "image/png": "[encoded data removed]",
      "text/plain": [
       "<Figure size 640x480 with 1 Axes>"
      ]
     },
     "metadata": {},
     "output_type": "display_data"
    }
   ],
   "source": [
    "%matplotlib inline\n",
    "df.complexity.plot.hist()"
   ]
  },
  {
   "cell_type": "markdown",
   "metadata": {},
   "source": [
    "Осталось только заменить непонятные символы `\\xa0` на пробелы:"
   ]
  },
  {
   "cell_type": "code",
   "execution_count": 50,
   "metadata": {},
   "outputs": [],
   "source": [
    "df['clean_text'] = [t.replace(\"\\xa0\", \" \") for t in df.full_text]"
   ]
  },
  {
   "cell_type": "code",
   "execution_count": 51,
   "metadata": {},
   "outputs": [
    {
     "data": {
      "text/plain": [
       "'Лауреатами Нобелевской премии по химии 2023 года стали Мунги Бавенди (Moungi G. Bawendi), Луис Брюс (Louis E. Brus) и Алексей Екимов (Alexei I. Ekimov) — за открытие и исследование квантовых точек. За церемонией вручения премии можно наблюдать в прямом эфире на сайте Нобелевского комитета. Подробнее об исследованиях лауреатов рассказывает пресс-релиз. Вручение премий состоится 10 декабря в Стокгольме.\\nКвантовые точки представляют собой кристаллические полупроводниковые частицы размером в несколько нанометров. Из-за своего небольшого размера, их оптические свойства во многом определяются квантовыми эффектами, и поэтому они сильно отличаются от макрокристаллических полупроводников. В частности, разница между энергетическими уровнями валентных электронов и электронов проводимости в квантовых точках отличается от ширины запрещенной зоны в объемном полупроводнике, и сильно зависит от размера частицы. Поэтому свойства квантовых точек можно менять, варьируя их размер.\\nПервым квантовые точки из хлорида меди синтезировал в стеклянной матрице Алексей Екимов в 1981 году, работавший тогда в Государственном оптическом институте имени Вавилова в Санкт-Петербурге. Он обнаружил, что в зависимости от размера получившихся частиц, стекло поглощало свет с разной длиной волны. Статью о своих исследованиях Екимов опубликовал в советском журнале на русском языке, поэтому первое время она оставалась непрочитанной. \\nЧерез два года Луис Брюс с коллегами из лабораторий Белла, ничего не знавший об открытии Екимова, обнаружил, что коллоидный раствор наночастиц сульфида кадмия меняет свои оптические свойства при стоянии. Он сделал вывод, что частицы в растворе со временем растут, и по своей способности поглощать свет становятся похожими на обычные кристаллы сульфида кадмия. При этом когда частицы были достаточно маленькие, их свойства отличались от свойств макрокристаллических образцов.\\nА главная заслуга третьего Нобелиата — Мунги Бавенди из Массачусетского технологического института — в том, что он с коллегами разработал удобный способ синтеза монодисперсных растворов квантовых точек нужного размера. Дело в том, что уже существующие к моменту открытия Бавенди методики синтеза часто приводили к непредсказуемым результатам — в одинаковых экспериментах химики получали разные нанокристаллические образцы. А Бавенди смог разработать воспроизводящуюся методику синтеза, способную на выходе давать нанокристаллы с узким распределением по размеру.\\nВ 2012 году один из лауреатов Луис Брюс попал в список вероятных будущих лауреатов Нобеля, когда его составляла еще компания Thomson Reuters. В 2020 году, уже в аналогичный список от компании Clarivate, попал Мунги Бавенди. А в этом году в него вошли три группы химиков. Джеймс Коллинз, Майкл Эловиц и Станислас Лейблер попали в список за свои работы в области искуственных генных схем. Шанкар Баласубраманиан и Дэвид Кленермэн — за новый метод секвенирования ДНК. А Кадзунори Катаока, Владимир Торчилин и Карен Вули — за разработку полимерных оболочек для доставки лекарств к мишени. Подробнее об ученых из списка читайте в нашем материале «Нобелевское предчувствие — 2023».\\nПоследние годы Нобелевские премии по химии вручали за исследования в области органической химии. В 2022 году премию разделили Каролин Бертоцци, Мортен Мельдаль и Барри Шарплесс — за развитие методов клик-химии и биоортогональной химии, о которых можно прочитать в нашем материале «Клик — и готово». При этом Шарплесс получил премию уже во второй раз. А в 2021 году лауреатами стали Беньямин Лист и Дэвид Макмиллан за развитие асимметрического органокатализа, позволяющего получать органические вещества в оптически чистом виде. Подробнее о лауреатах 2021 года читайте в материале «Химия зазеркалья».\\nОни не рацемизовались за неделю\\nАнглийские и американские химики получили хиральный оксониевый катион, который удалось разделить на энантиомеры с помощью кристаллизации его соли с хиральным анионом. Полученные энантиомеры с оптическим центром на атоме кислорода оказались конфигурационно стабильны и устойчивы при хранении на воздухе, пишут ученые в Nature.'"
      ]
     },
     "execution_count": 51,
     "metadata": {},
     "output_type": "execute_result"
    }
   ],
   "source": [
    "df.clean_text[0]"
   ]
  },
  {
   "cell_type": "markdown",
   "metadata": {},
   "source": [
    "Всё! Сохраняем датафрейм в файл. Для разнообразия сохраним в Excel:"
   ]
  },
  {
   "cell_type": "code",
   "execution_count": 52,
   "metadata": {},
   "outputs": [],
   "source": [
    "df.to_excel('nplus-news.xlsx')"
   ]
  }
 ],
 "metadata": {
  "kernelspec": {
   "display_name": "Python 3 (ipykernel)",
   "language": "python",
   "name": "python3"
  },
  "language_info": {
   "codemirror_mode": {
    "name": "ipython",
    "version": 3
   },
   "file_extension": ".py",
   "mimetype": "text/x-python",
   "name": "python",
   "nbconvert_exporter": "python",
   "pygments_lexer": "ipython3",
   "version": "3.9.13"
  }
 },
 "nbformat": 4,
 "nbformat_minor": 2
}
