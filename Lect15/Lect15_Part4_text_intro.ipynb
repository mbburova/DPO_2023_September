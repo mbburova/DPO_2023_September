{
 "cells": [
  {
   "cell_type": "markdown",
   "metadata": {},
   "source": [
    "# Python для анализа данных\n",
    "\n",
    "*Ян Пиле, НИУ ВШЭ*\n",
    "\n",
    "## Что такое анализ текстов и как с этим разобраться"
   ]
  },
  {
   "cell_type": "markdown",
   "metadata": {},
   "source": [
    "В анализе данных как дисциплине существует отдельная область знания, занимающаяся анализом текстовых данных. Называется она NLP (Нет, это не нейролингвистическое программирование) == Natural Language Processing == Обработка естественного языка. NLP - область машинного обучения, дающая компьютеру возможность \"понимать\", анализировать, преобразовывать и  генерировать текст на человеческом языке.\n",
    "\n",
    "**Реальные задачи NLP**\n",
    "\n",
    "* Поиск информации (Yandex находит релевантные и похожие результаты).\n",
    "* Извлечение информации (Mail структурирует события из электронных писем).\n",
    "* Машинный перевод (Google Translate переводит язык с одного языка на другой).\n",
    "* Упрощение текста (Rewordify упрощает смысл предложений). \n",
    "* Анализ тональности (Hater News дает нам настроение пользователя).\n",
    "* Краткое изложение текста (Smry или Reddit's autotldr дает краткое изложение предложений).\n",
    "* Спам-фильтр (Gmail фильтрует спам-письма).\n",
    "* Прогнозирование следующих слов (поиск в Google/Yandex/Yahoo предсказывает результаты поиска пользователей).\n",
    "* Автоисправление (Google Keyboard и Grammarly редактируют неправильно написанные слова).\n",
    "* Распознавание речи (Алиса :)).\n",
    "* Ответ на вопрос (ответы IBM Watson).\n",
    "* Natural Language Generation (Генерация текста из изображения или видео.)"
https://drive.google.com/file/d/1pMt5e--mi8hTBAVVRyaUM-F7KAPVvwbd/view?usp=sharing
   ]
  },
  {
   "cell_type": "markdown",
   "metadata": {},
   "source": [
    "Мы воспользуемся модулем **TextBlob**, который представляет собой библиотеку Python и предлагает простой API для доступа к его методам и выполнения основных задач NLP. Он построен поверх модуля NLTK (Natural Language Toolkit)"
   ]
  },
  {
   "cell_type": "markdown",
   "metadata": {},
   "source": [
    " Сейчас будем устанавливать библиотеку TextBlob и всякие элементы nltk, необходимые для ее работы. Предупреждаю, это долго"
   ]
  },
  {
   "cell_type": "code",
   "execution_count": 1,
   "metadata": {},
   "outputs": [
    {
     "name": "stdout",
     "output_type": "stream",
     "text": [
      "Requirement already satisfied: textblob in c:\\users\\mbbur\\anaconda3\\lib\\site-packages (0.17.1)\n",
      "Requirement already satisfied: nltk>=3.1 in c:\\users\\mbbur\\anaconda3\\lib\\site-packages (from textblob) (3.7)\n",
      "Requirement already satisfied: click in c:\\users\\mbbur\\anaconda3\\lib\\site-packages (from nltk>=3.1->textblob) (8.1.3)\n",
      "Requirement already satisfied: joblib in c:\\users\\mbbur\\anaconda3\\lib\\site-packages (from nltk>=3.1->textblob) (1.1.0)\n",
      "Requirement already satisfied: tqdm in c:\\users\\mbbur\\anaconda3\\lib\\site-packages (from nltk>=3.1->textblob) (4.64.1)\n",
      "Requirement already satisfied: regex>=2021.8.3 in c:\\users\\mbbur\\anaconda3\\lib\\site-packages (from nltk>=3.1->textblob) (2022.7.9)\n",
      "Requirement already satisfied: colorama in c:\\users\\mbbur\\anaconda3\\lib\\site-packages (from click->nltk>=3.1->textblob) (0.4.5)\n",
      "Finished.\n"
     ]
    },
    {
     "name": "stderr",
     "output_type": "stream",
     "text": [
      "[nltk_data] Downloading package brown to\n",
      "[nltk_data]     C:\\Users\\mbbur\\AppData\\Roaming\\nltk_data...\n",
      "[nltk_data]   Package brown is already up-to-date!\n",
      "[nltk_data] Downloading package punkt to\n",
      "[nltk_data]     C:\\Users\\mbbur\\AppData\\Roaming\\nltk_data...\n",
      "[nltk_data]   Package punkt is already up-to-date!\n",
      "[nltk_data] Downloading package wordnet to\n",
      "[nltk_data]     C:\\Users\\mbbur\\AppData\\Roaming\\nltk_data...\n",
      "[nltk_data]   Package wordnet is already up-to-date!\n",
      "[nltk_data] Downloading package averaged_perceptron_tagger to\n",
      "[nltk_data]     C:\\Users\\mbbur\\AppData\\Roaming\\nltk_data...\n",
      "[nltk_data]   Package averaged_perceptron_tagger is already up-to-\n",
      "[nltk_data]       date!\n",
      "[nltk_data] Downloading package conll2000 to\n",
      "[nltk_data]     C:\\Users\\mbbur\\AppData\\Roaming\\nltk_data...\n",
      "[nltk_data]   Package conll2000 is already up-to-date!\n",
      "[nltk_data] Downloading package movie_reviews to\n",
      "[nltk_data]     C:\\Users\\mbbur\\AppData\\Roaming\\nltk_data...\n",
      "[nltk_data]   Package movie_reviews is already up-to-date!\n"
     ]
    }
   ],
   "source": [
    "!pip install -U textblob\n",
    "!python -m textblob.download_corpora"
   ]
  },
  {
   "cell_type": "markdown",
   "metadata": {},
   "source": [
    "**Термины:**\n",
    "\n",
    "* **Корпус** — Основная часть текста, единственное число. Корпора - множественное число.\n",
    "* **Лексикон** — Слова и их значения.\n",
    "* **Токен** — каждая «сущность», которая является частью того, что было разделено на основе правил. Например, каждое слово является токеном, когда предложение «токенизируется» на слова. Каждое предложение – токен, если вы токенизировали предложения из абзаца."
   ]
  },
  {
   "cell_type": "markdown",
   "metadata": {},
   "source": [
    "## Токенизация\n",
    "\n",
    "Под токенизацией понимается разбиение большого абзаца на предложения или слова. Обычно токен – слово в текстовом документе. Токенизация с помощью TextBlob – довольно простая штука. Все, что вам нужно сделать, это импортировать объект TextBlob из библиотеки textblob, передать ему документ, который вы хотите разбить на токены и готово :). Давайте посмотрим на это в действии:"
   ]
  },
  {
   "cell_type": "code",
   "execution_count": 2,
   "metadata": {},
   "outputs": [],
   "source": [
    "from textblob import TextBlob"
   ]
  },
  {
   "cell_type": "code",
   "execution_count": 3,
   "metadata": {},
   "outputs": [],
   "source": [
    "document = (\" В первый раз я встретился с бульдогом, так сказать, лицом к лицу  много \\\n",
    "лет тому назад. В ту пору я жил на даче вместе с  одним  из  моих  друзей, \\\n",
    "одиноким молодым человеком, которого звали Джорджем.  Однажды  вечером  мы \\\n",
    "пошли смотреть туманные картины и вернулись домой  поздно,  когда  хозяева \\\n",
    "уже спали. Правда, они не забыли оставить в нашей комнате зажженную свечу. \\\n",
    "Мы прошли к себе, сели и стали снимать ботинки..\") "
   ]
  },
  {
   "cell_type": "markdown",
   "metadata": {},
   "source": [
    "Передадим этот документ в качестве параметра классу TextBlob. Возвращенный объект затем можно использовать для токенизации на слова и предложения."
   ]
  },
  {
   "cell_type": "code",
   "execution_count": 4,
   "metadata": {},
   "outputs": [],
   "source": [
    "text_blob_object = TextBlob(document)"
   ]
  },
  {
   "cell_type": "code",
   "execution_count": 5,
   "metadata": {},
   "outputs": [
    {
     "data": {
      "text/plain": [
       "TextBlob(\"з я встретилс\")"
      ]
     },
     "execution_count": 5,
     "metadata": {},
     "output_type": "execute_result"
    }
   ],
   "source": [
    "text_blob_object[12:25]"
   ]
  },
  {
   "cell_type": "code",
   "execution_count": 6,
   "metadata": {},
   "outputs": [
    {
     "name": "stdout",
     "output_type": "stream",
     "text": [
      "[Sentence(\" В первый раз я встретился с бульдогом, так сказать, лицом к лицу  много лет тому назад.\"), Sentence(\"В ту пору я жил на даче вместе с  одним  из  моих  друзей, одиноким молодым человеком, которого звали Джорджем.\"), Sentence(\"Однажды  вечером  мы пошли смотреть туманные картины и вернулись домой  поздно,  когда  хозяева уже спали.\"), Sentence(\"Правда, они не забыли оставить в нашей комнате зажженную свечу.\"), Sentence(\"Мы прошли к себе, сели и стали снимать ботинки..\")]\n",
      "5\n"
     ]
    }
   ],
   "source": [
    "document_sentence = text_blob_object.sentences\n",
    "print(document_sentence)\n",
    "print(len(document_sentence))"
   ]
  },
  {
   "cell_type": "code",
   "execution_count": 7,
   "metadata": {},
   "outputs": [
    {
     "data": {
      "text/plain": [
       "WordList(['В', 'первый', 'раз', 'я', 'встретился', 'с', 'бульдогом', 'так', 'сказать', 'лицом', 'к', 'лицу', 'много', 'лет', 'тому', 'назад'])"
      ]
     },
     "execution_count": 7,
     "metadata": {},
     "output_type": "execute_result"
    }
   ],
   "source": [
    "document_sentence[0].words"
   ]
  },
  {
   "cell_type": "code",
   "execution_count": 8,
   "metadata": {},
   "outputs": [
    {
     "name": "stdout",
     "output_type": "stream",
     "text": [
      "['В', 'первый', 'раз', 'я', 'встретился', 'с', 'бульдогом', 'так', 'сказать', 'лицом', 'к', 'лицу', 'много', 'лет', 'тому', 'назад', 'В', 'ту', 'пору', 'я', 'жил', 'на', 'даче', 'вместе', 'с', 'одним', 'из', 'моих', 'друзей', 'одиноким', 'молодым', 'человеком', 'которого', 'звали', 'Джорджем', 'Однажды', 'вечером', 'мы', 'пошли', 'смотреть', 'туманные', 'картины', 'и', 'вернулись', 'домой', 'поздно', 'когда', 'хозяева', 'уже', 'спали', 'Правда', 'они', 'не', 'забыли', 'оставить', 'в', 'нашей', 'комнате', 'зажженную', 'свечу', 'Мы', 'прошли', 'к', 'себе', 'сели', 'и', 'стали', 'снимать', 'ботинки']\n",
      "69\n"
     ]
    }
   ],
   "source": [
    "document_words = text_blob_object.words\n",
    "\n",
    "print(document_words)\n",
    "print(len(document_words))"
   ]
  },
  {
   "cell_type": "code",
   "execution_count": 9,
   "metadata": {},
   "outputs": [
    {
     "data": {
      "text/plain": [
       "textblob.blob.Word"
      ]
     },
     "execution_count": 9,
     "metadata": {},
     "output_type": "execute_result"
    }
   ],
   "source": [
    "type(document_words[0])"
   ]
  },
  {
   "cell_type": "code",
   "execution_count": 11,
   "metadata": {},
   "outputs": [
    {
     "data": {
      "text/plain": [
       "WordList(['I', \"'d\", 'like', 'some', 'coffee'])"
      ]
     },
     "execution_count": 11,
     "metadata": {},
     "output_type": "execute_result"
    }
   ],
   "source": [
    "obj = TextBlob(\"I'd like some coffee\")\n",
    "obj.words"
   ]
  },
  {
   "cell_type": "markdown",
   "metadata": {},
   "source": [
    "**Лемматизация**\n",
    "\n",
    "Лемматизация – приведение слова к форме, в которой оно записано в словаре.\n",
    "\n",
    "Чтобы выполнить лемматизацию с помощью TextBlob, вы должны использовать объект Word из библиотеки textblob, передать ему слово, которое вы хотите лемматизировать, а затем вызвать метод lemmatize."
   ]
  },
  {
   "cell_type": "code",
   "execution_count": 10,
   "metadata": {},
   "outputs": [
    {
     "name": "stdout",
     "output_type": "stream",
     "text": [
      "apples: apple\n",
      "media: medium\n",
      "greater: great\n"
     ]
    }
   ],
   "source": [
    "from textblob import Word\n",
    "\n",
    "word1 = Word(\"apples\")\n",
    "print(\"apples:\", word1.lemmatize())\n",
    "\n",
    "word2 = Word(\"media\")\n",
    "print(\"media:\", word2.lemmatize())\n",
    "\n",
    "word3 = Word(\"greater\")\n",
    "print(\"greater:\", word3.lemmatize(\"a\"))"
   ]
  },
  {
   "cell_type": "code",
   "execution_count": 11,
   "metadata": {},
   "outputs": [
    {
     "name": "stdout",
     "output_type": "stream",
     "text": [
      "greater: greater\n"
     ]
    }
   ],
   "source": [
    "word3 = Word(\"greater\")\n",
    "print(\"greater:\", word3.lemmatize())"
   ]
  },
  {
   "cell_type": "code",
   "execution_count": 12,
   "metadata": {},
   "outputs": [
    {
     "name": "stdout",
     "output_type": "stream",
     "text": [
      "nebulae: nebula\n"
     ]
    }
   ],
   "source": [
    "word2 = Word(\"nebulae\")\n",
    "print(\"nebulae:\", word2.lemmatize())"
   ]
  },
  {
   "cell_type": "markdown",
   "metadata": {},
   "source": [
    "В приведенном выше сценарии мы выполняем лемматизацию слов «apples», «media» и «greater». В выходных данных вы видите слова «apple» (в единственном числе), «medium» (в единственном числе) и «great» (безотносительно степени, как в слове «greater»). Обратите внимание, что для слова «greater» мы передаем «a» в качестве параметра методу лемматизации. Это конкретно говорит методу, что слово следует рассматривать как прилагательное (adjective). По умолчанию метод lemmatize () слова считает слова существительными . Полный список частей речевых компонентов выглядит следующим образом:"
   ]
  },
  {
   "cell_type": "markdown",
   "metadata": {},
   "source": [
    "ADJ, ADJ_SAT, ADV, NOUN, VERB"
   ]
  },
  {
   "cell_type": "markdown",
   "metadata": {},
   "source": []
  },
  {
   "cell_type": "markdown",
   "metadata": {},
   "source": [
    "## Преобразование текста в единственном и множественном числе\n",
    "\n",
    "TextBlob также позволяет вам преобразовывать слова текста во множественное или единственное число, используя методы pluralize и singularize, соответственно. Пример:"
   ]
  },
  {
   "cell_type": "code",
   "execution_count": 13,
   "metadata": {},
   "outputs": [
    {
     "name": "stdout",
     "output_type": "stream",
     "text": [
      "['Footballs', 'iss', 'some', 'goods', 'games', 'Its', 'hass', 'manies', 'healths', 'benefitss']\n",
      "['Football', 'is', 'a', 'good', 'game', 'It', 'ha', 'many', 'health', 'benefit']\n"
     ]
    }
   ],
   "source": [
    "text = (\"Football is a good game. It has many health benefits\")\n",
    "text_blob_object = TextBlob(text)\n",
    "print(text_blob_object.words.pluralize())\n",
    "\n",
    "text = (\"Footballs is a goods games. Its has many healths benefits\")\n",
    "text_blob_object = TextBlob(text)\n",
    "print(text_blob_object.words.singularize())"
   ]
  },
  {
   "cell_type": "code",
   "execution_count": 14,
   "metadata": {},
   "outputs": [
    {
     "data": {
      "text/plain": [
       "WordList(['nebulae'])"
      ]
     },
     "execution_count": 14,
     "metadata": {},
     "output_type": "execute_result"
    }
   ],
   "source": [
    "text = (\"nebula\")\n",
    "text_blob_object = TextBlob(text)\n",
    "text_blob_object.words.pluralize()"
   ]
  },
  {
   "cell_type": "markdown",
   "metadata": {},
   "source": [
    "## Поиск N-грамм\n",
    "\n",
    "N-граммы – комбинации n рядом стоящих слов в предложении. Например, для предложения «Я люблю смотреть футбол» биграммы будут такие:\n",
    "\n",
    "(я люблю), (люблю смотреть) и (смотреть футбол). N-граммы часто играют решающую роль при классификации текстов.\n",
    "\n",
    "В TextBlob N-граммы можно найти, передав число N в метод ngrams объекта TextBlob. Пример:"
   ]
  },
  {
   "cell_type": "code",
   "execution_count": 15,
   "metadata": {
    "scrolled": true
   },
   "outputs": [
    {
     "name": "stdout",
     "output_type": "stream",
     "text": [
      "['Who', 'could']\n",
      "['could', 'ponder']\n",
      "['ponder', 'equations']\n",
      "['equations', 'when']\n",
      "['when', 'he']\n",
      "['he', 'had']\n",
      "['had', 'a']\n",
      "['a', 'chance']\n",
      "['chance', 'to']\n",
      "['to', 'imagine']\n",
      "['imagine', 'dragons']\n",
      "['dragons', 'Never']\n",
      "['Never', 'have']\n",
      "['have', 'i']\n",
      "['i', 'tried']\n",
      "['tried', 'to']\n",
      "['to', 'do']\n",
      "['do', 'so']\n"
     ]
    }
   ],
   "source": [
    "text = \"Who could ponder equations when he had a chance to imagine dragons. Never have i tried to do so.\"\n",
    "text_blob_object = TextBlob(text)\n",
    "for ngram in text_blob_object.ngrams(2):\n",
    "    print(ngram)"
   ]
  },
  {
   "cell_type": "markdown",
   "metadata": {},
   "source": [
    "## Исправление орфографии\n",
    "\n",
    "Корректировка орфографии является одной из уникальных функций библиотеки TextBlob. С помощью соответствующего метода объекта TextBlob вы можете исправить все орфографические ошибки в вашем тексте. Пример:"
   ]
  },
  {
   "cell_type": "code",
   "execution_count": 16,
   "metadata": {},
   "outputs": [
    {
     "name": "stdout",
     "output_type": "stream",
     "text": [
      "I love to watch football, but I have never played it\n"
     ]
    }
   ],
   "source": [
    "text = \"I lоve to watсhf footbal, but I have neter played it\"\n",
    "text_blob_object = TextBlob(text)\n",
    "\n",
    "print(text_blob_object.correct())"
   ]
  },
  {
   "cell_type": "markdown",
   "metadata": {},
   "source": [
    "## Анализ тональности\n",
    "\n",
    "В этом разделе мы проанализируем мнение общественности о различных продуктах, купленных через Amazon. Для этого мы будем использовать анализатор тональности TextBlob.\n",
    "\n",
    "Набор данных можно скачать по этой [ссылке](https://www.kaggle.com/sdxingaijing/topic-model-lda-algorithm/data) .\n",
    "\n",
    "В качестве первого шага нам нужно импортировать набор данных. Мы импортируем только первые 20 000 - слишком уж большие данные. Вы можете импортировать больше записей, если хотите. Следующий скрипт импортирует набор данных:"
   ]
  },
  {
   "cell_type": "code",
   "execution_count": 20,
   "metadata": {},
   "outputs": [],
   "source": [
    "import pandas as pd\n",
    "\n",
    "reviews_datasets = pd.read_csv('Reviews.csv')\n",
    "reviews_datasets = reviews_datasets.head(20000)"
   ]
  },
  {
   "cell_type": "code",
   "execution_count": 21,
   "metadata": {
    "scrolled": true
   },
   "outputs": [
    {
     "data": {
      "text/html": [
       "<div>\n",
       "<style scoped>\n",
       "    .dataframe tbody tr th:only-of-type {\n",
       "        vertical-align: middle;\n",
       "    }\n",
       "\n",
       "    .dataframe tbody tr th {\n",
       "        vertical-align: top;\n",
       "    }\n",
       "\n",
       "    .dataframe thead th {\n",
       "        text-align: right;\n",
       "    }\n",
       "</style>\n",
       "<table border=\"1\" class=\"dataframe\">\n",
       "  <thead>\n",
       "    <tr style=\"text-align: right;\">\n",
       "      <th></th>\n",
       "      <th>Id</th>\n",
       "      <th>ProductId</th>\n",
       "      <th>UserId</th>\n",
       "      <th>ProfileName</th>\n",
       "      <th>HelpfulnessNumerator</th>\n",
       "      <th>HelpfulnessDenominator</th>\n",
       "      <th>Score</th>\n",
       "      <th>Time</th>\n",
       "      <th>Summary</th>\n",
       "      <th>Text</th>\n",
       "    </tr>\n",
       "  </thead>\n",
       "  <tbody>\n",
       "    <tr>\n",
       "      <th>0</th>\n",
       "      <td>1</td>\n",
       "      <td>B001E4KFG0</td>\n",
       "      <td>A3SGXH7AUHU8GW</td>\n",
       "      <td>delmartian</td>\n",
       "      <td>1</td>\n",
       "      <td>1</td>\n",
       "      <td>5</td>\n",
       "      <td>1303862400</td>\n",
       "      <td>Good Quality Dog Food</td>\n",
       "      <td>I have bought several of the Vitality canned d...</td>\n",
       "    </tr>\n",
       "    <tr>\n",
       "      <th>1</th>\n",
       "      <td>2</td>\n",
       "      <td>B00813GRG4</td>\n",
       "      <td>A1D87F6ZCVE5NK</td>\n",
       "      <td>dll pa</td>\n",
       "      <td>0</td>\n",
       "      <td>0</td>\n",
       "      <td>1</td>\n",
       "      <td>1346976000</td>\n",
       "      <td>Not as Advertised</td>\n",
       "      <td>Product arrived labeled as Jumbo Salted Peanut...</td>\n",
       "    </tr>\n",
       "    <tr>\n",
       "      <th>2</th>\n",
       "      <td>3</td>\n",
       "      <td>B000LQOCH0</td>\n",
       "      <td>ABXLMWJIXXAIN</td>\n",
       "      <td>Natalia Corres \"Natalia Corres\"</td>\n",
       "      <td>1</td>\n",
       "      <td>1</td>\n",
       "      <td>4</td>\n",
       "      <td>1219017600</td>\n",
       "      <td>\"Delight\" says it all</td>\n",
       "      <td>This is a confection that has been around a fe...</td>\n",
       "    </tr>\n",
       "    <tr>\n",
       "      <th>3</th>\n",
       "      <td>4</td>\n",
       "      <td>B000UA0QIQ</td>\n",
       "      <td>A395BORC6FGVXV</td>\n",
       "      <td>Karl</td>\n",
       "      <td>3</td>\n",
       "      <td>3</td>\n",
       "      <td>2</td>\n",
       "      <td>1307923200</td>\n",
       "      <td>Cough Medicine</td>\n",
       "      <td>If you are looking for the secret ingredient i...</td>\n",
       "    </tr>\n",
       "    <tr>\n",
       "      <th>4</th>\n",
       "      <td>5</td>\n",
       "      <td>B006K2ZZ7K</td>\n",
       "      <td>A1UQRSCLF8GW1T</td>\n",
       "      <td>Michael D. Bigham \"M. Wassir\"</td>\n",
       "      <td>0</td>\n",
       "      <td>0</td>\n",
       "      <td>5</td>\n",
       "      <td>1350777600</td>\n",
       "      <td>Great taffy</td>\n",
       "      <td>Great taffy at a great price.  There was a wid...</td>\n",
       "    </tr>\n",
       "    <tr>\n",
       "      <th>...</th>\n",
       "      <td>...</td>\n",
       "      <td>...</td>\n",
       "      <td>...</td>\n",
       "      <td>...</td>\n",
       "      <td>...</td>\n",
       "      <td>...</td>\n",
       "      <td>...</td>\n",
       "      <td>...</td>\n",
       "      <td>...</td>\n",
       "      <td>...</td>\n",
       "    </tr>\n",
       "    <tr>\n",
       "      <th>19995</th>\n",
       "      <td>19996</td>\n",
       "      <td>B002C50X1M</td>\n",
       "      <td>A1XRXZI5KOMVDD</td>\n",
       "      <td>KAF1958 \"amandaf0626\"</td>\n",
       "      <td>0</td>\n",
       "      <td>0</td>\n",
       "      <td>4</td>\n",
       "      <td>1307664000</td>\n",
       "      <td>Crispy and tart</td>\n",
       "      <td>Deep River Salt &amp; Vinegar chips are thick and ...</td>\n",
       "    </tr>\n",
       "    <tr>\n",
       "      <th>19996</th>\n",
       "      <td>19997</td>\n",
       "      <td>B002C50X1M</td>\n",
       "      <td>A7G9M0IE7LABX</td>\n",
       "      <td>Kevin</td>\n",
       "      <td>0</td>\n",
       "      <td>0</td>\n",
       "      <td>5</td>\n",
       "      <td>1307059200</td>\n",
       "      <td>Exceeded my expectations. One of the best chip...</td>\n",
       "      <td>I was very skeptical about buying a brand of c...</td>\n",
       "    </tr>\n",
       "    <tr>\n",
       "      <th>19997</th>\n",
       "      <td>19998</td>\n",
       "      <td>B002C50X1M</td>\n",
       "      <td>A38J5PRUDESMZF</td>\n",
       "      <td>ray</td>\n",
       "      <td>0</td>\n",
       "      <td>0</td>\n",
       "      <td>5</td>\n",
       "      <td>1305763200</td>\n",
       "      <td>Awesome Goodness! (deep river kettle chips, sw...</td>\n",
       "      <td>Before you turn to other name brands out there...</td>\n",
       "    </tr>\n",
       "    <tr>\n",
       "      <th>19998</th>\n",
       "      <td>19999</td>\n",
       "      <td>B002C50X1M</td>\n",
       "      <td>A17TPOSAG43GSM</td>\n",
       "      <td>Herrick</td>\n",
       "      <td>0</td>\n",
       "      <td>0</td>\n",
       "      <td>3</td>\n",
       "      <td>1303171200</td>\n",
       "      <td>Pretty good, but prefer other jalapeno chips</td>\n",
       "      <td>I was expecting some \"serious flavor\" as it wa...</td>\n",
       "    </tr>\n",
       "    <tr>\n",
       "      <th>19999</th>\n",
       "      <td>20000</td>\n",
       "      <td>B002C50X1M</td>\n",
       "      <td>A3LWC833HQIG7J</td>\n",
       "      <td>austin_Larry</td>\n",
       "      <td>0</td>\n",
       "      <td>0</td>\n",
       "      <td>5</td>\n",
       "      <td>1295568000</td>\n",
       "      <td>Excellent chips, full of flavor and just the r...</td>\n",
       "      <td>I purchased the Salt and Vinegar chips and hav...</td>\n",
       "    </tr>\n",
       "  </tbody>\n",
       "</table>\n",
       "<p>19999 rows × 10 columns</p>\n",
       "</div>"
      ],
      "text/plain": [
       "          Id   ProductId          UserId                      ProfileName  \\\n",
       "0          1  B001E4KFG0  A3SGXH7AUHU8GW                       delmartian   \n",
       "1          2  B00813GRG4  A1D87F6ZCVE5NK                           dll pa   \n",
       "2          3  B000LQOCH0   ABXLMWJIXXAIN  Natalia Corres \"Natalia Corres\"   \n",
       "3          4  B000UA0QIQ  A395BORC6FGVXV                             Karl   \n",
       "4          5  B006K2ZZ7K  A1UQRSCLF8GW1T    Michael D. Bigham \"M. Wassir\"   \n",
       "...      ...         ...             ...                              ...   \n",
       "19995  19996  B002C50X1M  A1XRXZI5KOMVDD            KAF1958 \"amandaf0626\"   \n",
       "19996  19997  B002C50X1M   A7G9M0IE7LABX                            Kevin   \n",
       "19997  19998  B002C50X1M  A38J5PRUDESMZF                              ray   \n",
       "19998  19999  B002C50X1M  A17TPOSAG43GSM                          Herrick   \n",
       "19999  20000  B002C50X1M  A3LWC833HQIG7J                     austin_Larry   \n",
       "\n",
       "       HelpfulnessNumerator  HelpfulnessDenominator  Score        Time  \\\n",
       "0                         1                       1      5  1303862400   \n",
       "1                         0                       0      1  1346976000   \n",
       "2                         1                       1      4  1219017600   \n",
       "3                         3                       3      2  1307923200   \n",
       "4                         0                       0      5  1350777600   \n",
       "...                     ...                     ...    ...         ...   \n",
       "19995                     0                       0      4  1307664000   \n",
       "19996                     0                       0      5  1307059200   \n",
       "19997                     0                       0      5  1305763200   \n",
       "19998                     0                       0      3  1303171200   \n",
       "19999                     0                       0      5  1295568000   \n",
       "\n",
       "                                                 Summary  \\\n",
       "0                                  Good Quality Dog Food   \n",
       "1                                      Not as Advertised   \n",
       "2                                  \"Delight\" says it all   \n",
       "3                                         Cough Medicine   \n",
       "4                                            Great taffy   \n",
       "...                                                  ...   \n",
       "19995                                    Crispy and tart   \n",
       "19996  Exceeded my expectations. One of the best chip...   \n",
       "19997  Awesome Goodness! (deep river kettle chips, sw...   \n",
       "19998       Pretty good, but prefer other jalapeno chips   \n",
       "19999  Excellent chips, full of flavor and just the r...   \n",
       "\n",
       "                                                    Text  \n",
       "0      I have bought several of the Vitality canned d...  \n",
       "1      Product arrived labeled as Jumbo Salted Peanut...  \n",
       "2      This is a confection that has been around a fe...  \n",
       "3      If you are looking for the secret ingredient i...  \n",
       "4      Great taffy at a great price.  There was a wid...  \n",
       "...                                                  ...  \n",
       "19995  Deep River Salt & Vinegar chips are thick and ...  \n",
       "19996  I was very skeptical about buying a brand of c...  \n",
       "19997  Before you turn to other name brands out there...  \n",
       "19998  I was expecting some \"serious flavor\" as it wa...  \n",
       "19999  I purchased the Salt and Vinegar chips and hav...  \n",
       "\n",
       "[19999 rows x 10 columns]"
      ]
     },
     "execution_count": 21,
     "metadata": {},
     "output_type": "execute_result"
    }
   ],
   "source": [
    "reviews_datasets.dropna()"
   ]
  },
  {
   "cell_type": "markdown",
   "metadata": {},
   "source": [
    "Текстовый обзор о еде содержится в столбце «Text». Столбец Score содержит оценки пользователя для конкретного продукта, где 1 - самый низкий, а 5 - самый высокий рейтинг.\n",
    "\n",
    "Давайте посмотрим распределение рейтинга:"
   ]
  },
  {
   "cell_type": "code",
   "execution_count": 22,
   "metadata": {},
   "outputs": [
    {
     "name": "stderr",
     "output_type": "stream",
     "text": [
      "C:\\Users\\mbbur\\AppData\\Local\\Temp\\ipykernel_19996\\1355737807.py:4: UserWarning: \n",
      "\n",
      "`distplot` is a deprecated function and will be removed in seaborn v0.14.0.\n",
      "\n",
      "Please adapt your code to use either `displot` (a figure-level function with\n",
      "similar flexibility) or `histplot` (an axes-level function for histograms).\n",
      "\n",
      "For a guide to updating your code to use the new functions, please see\n",
      "https://gist.github.com/mwaskom/de44147ed2974457ad6372750bbe5751\n",
      "\n",
      "  sns.distplot(reviews_datasets['Score'])\n"
     ]
    },
    {
     "data": {
      "text/plain": [
       "<AxesSubplot:xlabel='Score', ylabel='Density'>"
      ]
     },
     "execution_count": 22,
     "metadata": {},
     "output_type": "execute_result"
    },
    {
     "data": {
      "image/png": "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\n",
      "text/plain": [
       "<Figure size 640x480 with 1 Axes>"
      ]
     },
     "metadata": {},
     "output_type": "display_data"
    }
   ],
   "source": [
    "import seaborn as sns\n",
    "import matplotlib.pyplot as plt\n",
    "%matplotlib inline\n",
    "sns.distplot(reviews_datasets['Score'])"
   ]
  },
  {
   "cell_type": "markdown",
   "metadata": {},
   "source": [
    "Видно, что большинство рейтингов позитивные (==5). Давайте построим гистограмму для рейтингов, чтобы взглянуть на количество записей для каждого рейтинга."
   ]
  },
  {
   "cell_type": "code",
   "execution_count": 23,
   "metadata": {},
   "outputs": [
    {
     "data": {
      "text/plain": [
       "<AxesSubplot:xlabel='Score', ylabel='count'>"
      ]
     },
     "execution_count": 23,
     "metadata": {},
     "output_type": "execute_result"
    },
    {
     "data": {
      "image/png": "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\n",
      "text/plain": [
       "<Figure size 640x480 with 1 Axes>"
      ]
     },
     "metadata": {},
     "output_type": "display_data"
    }
   ],
   "source": [
    "sns.countplot(x='Score', data=reviews_datasets)"
   ]
  },
  {
   "cell_type": "markdown",
   "metadata": {},
   "source": [
    "Посмотрим глазами на произвольный отзыв"
   ]
  },
  {
   "cell_type": "code",
   "execution_count": 24,
   "metadata": {},
   "outputs": [
    {
     "data": {
      "text/html": [
       "<div>\n",
       "<style scoped>\n",
       "    .dataframe tbody tr th:only-of-type {\n",
       "        vertical-align: middle;\n",
       "    }\n",
       "\n",
       "    .dataframe tbody tr th {\n",
       "        vertical-align: top;\n",
       "    }\n",
       "\n",
       "    .dataframe thead th {\n",
       "        text-align: right;\n",
       "    }\n",
       "</style>\n",
       "<table border=\"1\" class=\"dataframe\">\n",
       "  <thead>\n",
       "    <tr style=\"text-align: right;\">\n",
       "      <th></th>\n",
       "      <th>Id</th>\n",
       "      <th>ProductId</th>\n",
       "      <th>UserId</th>\n",
       "      <th>ProfileName</th>\n",
       "      <th>HelpfulnessNumerator</th>\n",
       "      <th>HelpfulnessDenominator</th>\n",
       "      <th>Score</th>\n",
       "      <th>Time</th>\n",
       "      <th>Summary</th>\n",
       "      <th>Text</th>\n",
       "    </tr>\n",
       "  </thead>\n",
       "  <tbody>\n",
       "    <tr>\n",
       "      <th>349</th>\n",
       "      <td>350</td>\n",
       "      <td>B00067AD4U</td>\n",
       "      <td>A2LYOWC3FC73XK</td>\n",
       "      <td>Michael Ekstrum \"expresso bean fan\"</td>\n",
       "      <td>1</td>\n",
       "      <td>1</td>\n",
       "      <td>5</td>\n",
       "      <td>1178928000</td>\n",
       "      <td>excellent - exactly what I expected</td>\n",
       "      <td>The product was exactly as advertised and fres...</td>\n",
       "    </tr>\n",
       "  </tbody>\n",
       "</table>\n",
       "</div>"
      ],
      "text/plain": [
       "      Id   ProductId          UserId                          ProfileName  \\\n",
       "349  350  B00067AD4U  A2LYOWC3FC73XK  Michael Ekstrum \"expresso bean fan\"   \n",
       "\n",
       "     HelpfulnessNumerator  HelpfulnessDenominator  Score        Time  \\\n",
       "349                     1                       1      5  1178928000   \n",
       "\n",
       "                                 Summary  \\\n",
       "349  excellent - exactly what I expected   \n",
       "\n",
       "                                                  Text  \n",
       "349  The product was exactly as advertised and fres...  "
      ]
     },
     "execution_count": 24,
     "metadata": {},
     "output_type": "execute_result"
    }
   ],
   "source": [
    "reviews_datasets[reviews_datasets.index==349]"
   ]
  },
  {
   "cell_type": "markdown",
   "metadata": {},
   "source": [
    "Похоже, что отзыв положительный. Давайте проверим это с помощью библиотеки TextBlob. Чтобы найти тональность, мы должны использовать атрибут sentiment объекта TextBlob. Объект sentiment возвращает кортеж, который с тональностью и субъективностью отзыва.\n",
    "\n",
    "Значение тональности может быть между -1 и 1, когда отзывы отрицательные, и тональность должна быть <0, когда же отзывы положительнеые, и тональность должна быть >0.\n",
    "\n",
    "Значение субъективности может быть между 0 и 1. Субъективность количественно определяет долю личного мнения и фактической информации, содержащейся в тексте. Более высокая субъективность означает, что текст содержит личное мнение, а не фактическую информацию."
   ]
  },
  {
   "cell_type": "code",
   "execution_count": 25,
   "metadata": {},
   "outputs": [
    {
     "data": {
      "text/plain": [
       "'These chocolate covered espresso beans are wonderful!  The chocolate is very dark and rich and the \"bean\" inside is a very delightful blend of flavors with just enough caffine to really give it a zing.'"
      ]
     },
     "execution_count": 25,
     "metadata": {},
     "output_type": "execute_result"
    }
   ],
   "source": [
    "reviews_datasets['Text'][350]"
   ]
  },
  {
   "cell_type": "code",
   "execution_count": 26,
   "metadata": {},
   "outputs": [
    {
     "name": "stdout",
     "output_type": "stream",
     "text": [
      "Sentiment(polarity=0.39666666666666667, subjectivity=0.6616666666666667)\n"
     ]
    }
   ],
   "source": [
    "text_blob_object = TextBlob(reviews_datasets['Text'][350])\n",
    "print(text_blob_object.sentiment)"
   ]
  },
  {
   "cell_type": "markdown",
   "metadata": {},
   "source": [
    "Отзыв положительный с высокой субъективностью.\n",
    "\n",
    "Давайте добавим столбец тональности в наш набор данных."
   ]
  },
  {
   "cell_type": "code",
   "execution_count": 27,
   "metadata": {},
   "outputs": [
    {
     "data": {
      "text/html": [
       "<div>\n",
       "<style scoped>\n",
       "    .dataframe tbody tr th:only-of-type {\n",
       "        vertical-align: middle;\n",
       "    }\n",
       "\n",
       "    .dataframe tbody tr th {\n",
       "        vertical-align: top;\n",
       "    }\n",
       "\n",
       "    .dataframe thead th {\n",
       "        text-align: right;\n",
       "    }\n",
       "</style>\n",
       "<table border=\"1\" class=\"dataframe\">\n",
       "  <thead>\n",
       "    <tr style=\"text-align: right;\">\n",
       "      <th></th>\n",
       "      <th>Id</th>\n",
       "      <th>ProductId</th>\n",
       "      <th>UserId</th>\n",
       "      <th>ProfileName</th>\n",
       "      <th>HelpfulnessNumerator</th>\n",
       "      <th>HelpfulnessDenominator</th>\n",
       "      <th>Score</th>\n",
       "      <th>Time</th>\n",
       "      <th>Summary</th>\n",
       "      <th>Text</th>\n",
       "      <th>Sentiment_Polarity</th>\n",
       "    </tr>\n",
       "  </thead>\n",
       "  <tbody>\n",
       "    <tr>\n",
       "      <th>0</th>\n",
       "      <td>1</td>\n",
       "      <td>B001E4KFG0</td>\n",
       "      <td>A3SGXH7AUHU8GW</td>\n",
       "      <td>delmartian</td>\n",
       "      <td>1</td>\n",
       "      <td>1</td>\n",
       "      <td>5</td>\n",
       "      <td>1303862400</td>\n",
       "      <td>Good Quality Dog Food</td>\n",
       "      <td>I have bought several of the Vitality canned d...</td>\n",
       "      <td>0.450000</td>\n",
       "    </tr>\n",
       "    <tr>\n",
       "      <th>1</th>\n",
       "      <td>2</td>\n",
       "      <td>B00813GRG4</td>\n",
       "      <td>A1D87F6ZCVE5NK</td>\n",
       "      <td>dll pa</td>\n",
       "      <td>0</td>\n",
       "      <td>0</td>\n",
       "      <td>1</td>\n",
       "      <td>1346976000</td>\n",
       "      <td>Not as Advertised</td>\n",
       "      <td>Product arrived labeled as Jumbo Salted Peanut...</td>\n",
       "      <td>-0.033333</td>\n",
       "    </tr>\n",
       "    <tr>\n",
       "      <th>2</th>\n",
       "      <td>3</td>\n",
       "      <td>B000LQOCH0</td>\n",
       "      <td>ABXLMWJIXXAIN</td>\n",
       "      <td>Natalia Corres \"Natalia Corres\"</td>\n",
       "      <td>1</td>\n",
       "      <td>1</td>\n",
       "      <td>4</td>\n",
       "      <td>1219017600</td>\n",
       "      <td>\"Delight\" says it all</td>\n",
       "      <td>This is a confection that has been around a fe...</td>\n",
       "      <td>0.133571</td>\n",
       "    </tr>\n",
       "    <tr>\n",
       "      <th>3</th>\n",
       "      <td>4</td>\n",
       "      <td>B000UA0QIQ</td>\n",
       "      <td>A395BORC6FGVXV</td>\n",
       "      <td>Karl</td>\n",
       "      <td>3</td>\n",
       "      <td>3</td>\n",
       "      <td>2</td>\n",
       "      <td>1307923200</td>\n",
       "      <td>Cough Medicine</td>\n",
       "      <td>If you are looking for the secret ingredient i...</td>\n",
       "      <td>0.166667</td>\n",
       "    </tr>\n",
       "    <tr>\n",
       "      <th>4</th>\n",
       "      <td>5</td>\n",
       "      <td>B006K2ZZ7K</td>\n",
       "      <td>A1UQRSCLF8GW1T</td>\n",
       "      <td>Michael D. Bigham \"M. Wassir\"</td>\n",
       "      <td>0</td>\n",
       "      <td>0</td>\n",
       "      <td>5</td>\n",
       "      <td>1350777600</td>\n",
       "      <td>Great taffy</td>\n",
       "      <td>Great taffy at a great price.  There was a wid...</td>\n",
       "      <td>0.483333</td>\n",
       "    </tr>\n",
       "  </tbody>\n",
       "</table>\n",
       "</div>"
      ],
      "text/plain": [
       "   Id   ProductId          UserId                      ProfileName  \\\n",
       "0   1  B001E4KFG0  A3SGXH7AUHU8GW                       delmartian   \n",
       "1   2  B00813GRG4  A1D87F6ZCVE5NK                           dll pa   \n",
       "2   3  B000LQOCH0   ABXLMWJIXXAIN  Natalia Corres \"Natalia Corres\"   \n",
       "3   4  B000UA0QIQ  A395BORC6FGVXV                             Karl   \n",
       "4   5  B006K2ZZ7K  A1UQRSCLF8GW1T    Michael D. Bigham \"M. Wassir\"   \n",
       "\n",
       "   HelpfulnessNumerator  HelpfulnessDenominator  Score        Time  \\\n",
       "0                     1                       1      5  1303862400   \n",
       "1                     0                       0      1  1346976000   \n",
       "2                     1                       1      4  1219017600   \n",
       "3                     3                       3      2  1307923200   \n",
       "4                     0                       0      5  1350777600   \n",
       "\n",
       "                 Summary                                               Text  \\\n",
       "0  Good Quality Dog Food  I have bought several of the Vitality canned d...   \n",
       "1      Not as Advertised  Product arrived labeled as Jumbo Salted Peanut...   \n",
       "2  \"Delight\" says it all  This is a confection that has been around a fe...   \n",
       "3         Cough Medicine  If you are looking for the secret ingredient i...   \n",
       "4            Great taffy  Great taffy at a great price.  There was a wid...   \n",
       "\n",
       "   Sentiment_Polarity  \n",
       "0            0.450000  \n",
       "1           -0.033333  \n",
       "2            0.133571  \n",
       "3            0.166667  \n",
       "4            0.483333  "
      ]
     },
     "execution_count": 27,
     "metadata": {},
     "output_type": "execute_result"
    }
   ],
   "source": [
    "def find_polarity(review):\n",
    "    return TextBlob(review).sentiment.polarity\n",
    "\n",
    "reviews_datasets['Sentiment_Polarity'] = reviews_datasets['Text'].apply(find_polarity)\n",
    "reviews_datasets.head()"
   ]
  },
  {
   "cell_type": "markdown",
   "metadata": {},
   "source": [
    "Посмотрим на распределение отзывов по полярности:"
   ]
  },
  {
   "cell_type": "code",
   "execution_count": 28,
   "metadata": {},
   "outputs": [
    {
     "name": "stderr",
     "output_type": "stream",
     "text": [
      "C:\\Users\\mbbur\\AppData\\Local\\Temp\\ipykernel_19996\\3357713514.py:1: UserWarning: \n",
      "\n",
      "`distplot` is a deprecated function and will be removed in seaborn v0.14.0.\n",
      "\n",
      "Please adapt your code to use either `displot` (a figure-level function with\n",
      "similar flexibility) or `histplot` (an axes-level function for histograms).\n",
      "\n",
      "For a guide to updating your code to use the new functions, please see\n",
      "https://gist.github.com/mwaskom/de44147ed2974457ad6372750bbe5751\n",
      "\n",
      "  sns.distplot(reviews_datasets['Sentiment_Polarity'])\n"
     ]
    },
    {
     "data": {
      "text/plain": [
       "<AxesSubplot:xlabel='Sentiment_Polarity', ylabel='Density'>"
      ]
     },
     "execution_count": 28,
     "metadata": {},
     "output_type": "execute_result"
    },
    {
     "data": {
      "image/png": "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\n",
      "text/plain": [
       "<Figure size 640x480 with 1 Axes>"
      ]
     },
     "metadata": {},
     "output_type": "display_data"
    }
   ],
   "source": [
    "sns.distplot(reviews_datasets['Sentiment_Polarity'])"
   ]
  },
  {
   "cell_type": "markdown",
   "metadata": {},
   "source": [
    "Из приведенного выше рисунка видно, что большинство отзывов являются положительными и имеют полярность от 0 до 0,5. Это естественно, так как большинство отзывов в наборе данных имеют 5-звездочные рейтинги.\n",
    "\n",
    "Давайте построим среднюю полярность для каждого рейтинга."
   ]
  },
  {
   "cell_type": "code",
   "execution_count": 29,
   "metadata": {},
   "outputs": [
    {
     "data": {
      "text/plain": [
       "<AxesSubplot:xlabel='Score', ylabel='Sentiment_Polarity'>"
      ]
     },
     "execution_count": 29,
     "metadata": {},
     "output_type": "execute_result"
    },
    {
     "data": {
      "image/png": "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\n",
      "text/plain": [
       "<Figure size 640x480 with 1 Axes>"
      ]
     },
     "metadata": {},
     "output_type": "display_data"
    }
   ],
   "source": [
    "sns.barplot(x='Score', y='Sentiment_Polarity', data=reviews_datasets)"
   ]
  },
  {
   "cell_type": "markdown",
   "metadata": {},
   "source": [
    "Результат показывает, что отзывы с высокими баллами имеют высокую положительную полярность.\n",
    "\n",
    "Давайте теперь посмотрим на некоторые из самых негативных отзывов, то есть на отзывы с полярностью -1."
   ]
  },
  {
   "cell_type": "code",
   "execution_count": 30,
   "metadata": {},
   "outputs": [
    {
     "name": "stdout",
     "output_type": "stream",
     "text": [
      "545     These chips are nasty.  I thought someone had ...\n",
      "1083    All my fault. I thought this would be a carton...\n",
      "1832    Pop Chips are basically a horribly over-priced...\n",
      "2087    I do not consider Gingerbread, Spicy Eggnog, C...\n",
      "2763    This popcorn has alot of hulls I order 4 bags ...\n",
      "Name: Text, dtype: object\n"
     ]
    }
   ],
   "source": [
    "most_negative = reviews_datasets[reviews_datasets.Sentiment_Polarity == -1].Text.head()\n",
    "print(most_negative)"
   ]
  },
  {
   "cell_type": "code",
   "execution_count": 31,
   "metadata": {},
   "outputs": [
    {
     "data": {
      "text/plain": [
       "'These chips are nasty.  I thought someone had spilled a drink in the bag, no the chips were just soaked with grease.  Nasty!!'"
      ]
     },
     "execution_count": 31,
     "metadata": {},
     "output_type": "execute_result"
    }
   ],
   "source": [
    "reviews_datasets['Text'][545]"
   ]
  },
  {
   "cell_type": "markdown",
   "metadata": {},
   "source": [
    "Фу, читать противно."
   ]
  },
  {
   "cell_type": "markdown",
   "metadata": {},
   "source": [
    "Посмотрим лучше на что-то позитивное:"
   ]
  },
  {
   "cell_type": "code",
   "execution_count": 32,
   "metadata": {},
   "outputs": [
    {
     "name": "stdout",
     "output_type": "stream",
     "text": [
      "106     not what I was expecting in terms of the compa...\n",
      "223     This is an excellent tea.  One of the best I h...\n",
      "338     I like a lot of sesame oil and use it in salad...\n",
      "796     My mother and father were the recipient of the...\n",
      "1031    The Kelloggs Muselix are delicious and the del...\n",
      "Name: Text, dtype: object\n"
     ]
    }
   ],
   "source": [
    "most_positive = reviews_datasets[reviews_datasets.Sentiment_Polarity == 1].Text.head()\n",
    "print(most_positive)"
   ]
  },
  {
   "cell_type": "markdown",
   "metadata": {},
   "source": [
    "Пункт 106 немного настораживает. Посмотрим на него внимательно:"
   ]
  },
  {
   "cell_type": "code",
   "execution_count": 33,
   "metadata": {},
   "outputs": [
    {
     "data": {
      "text/plain": [
       "\"not what I was expecting in terms of the company's reputation for excellent home delivery products\""
      ]
     },
     "execution_count": 33,
     "metadata": {},
     "output_type": "execute_result"
    }
   ],
   "source": [
    "reviews_datasets['Text'][106]"
   ]
  },
  {
   "cell_type": "markdown",
   "metadata": {},
   "source": [
    "Отзыв не слишком уж положительный, но ему была назначена полярность 1 из-за присутствия таких слов, как «excellent» и «reputation». Важно знать, что анализатор настроений не на 100% защищен от ошибок и в некоторых случаях может предсказать неверную тональность. Но и правильно предсказывать он тоже умеет :)"
   ]
  },
  {
   "cell_type": "code",
   "execution_count": 34,
   "metadata": {},
   "outputs": [
    {
     "data": {
      "text/plain": [
       "'This is an excellent tea.  One of the best I have ever had.  It is especially great when you prepare it with a samovar.'"
      ]
     },
     "execution_count": 34,
     "metadata": {},
     "output_type": "execute_result"
    }
   ],
   "source": [
    "reviews_datasets['Text'][223]"
   ]
  },
  {
   "cell_type": "markdown",
   "metadata": {},
   "source": [
    "В действительности вышеизложенный Sentiment-analysis, зашитый в TextBlob, это предобученный Наивный Байесовский Классификатор (звучит сложновато и немного уничижительно, но это не страшно). Ниже ссылки-доказательства моего утверждения :) \n",
    "\n",
    "[Proof link StackOverflow](https://stackoverflow.com/questions/43871019/polarity-calculation-in-sentiment-analysis-using-textblob)\n",
    "\n",
    "[Ссылка на код в TextBlob](https://github.com/sloria/TextBlob/blob/90cc87ab0f9e25f37379079840ec43aba59af440/textblob/en/sentiments.py)\n",
    "\n",
    "[Ссылка на код в NLTK](http://www.nltk.org/_modules/nltk/classify/naivebayes.html)"
   ]
  },
  {
   "cell_type": "markdown",
   "metadata": {},
   "source": [
    "Давайте разберем, что это за алгоритм такой и как он здесь используется. \n",
    "\n",
    "**Ссылки:**\n",
    "\n",
    "[Условная вероятность](https://ru.wikipedia.org/wiki/Условная_вероятность#Предельная_вероятность_равна_условной_вероятности)\n",
    "[Теорема Байеса](https://ru.wikipedia.org/wiki/Теорема_Байеса)\n",
    "[Наивный Байесовский Классификатор](https://logic.pdmi.ras.ru/~sergey/teaching/mlstc12/sem01-naivebayes.pdf)\n",
    "\n",
    "А еще можно читать [тут](https://logic.pdmi.ras.ru/~sergey/teaching/mlstc12/sem01-naivebayes.pdf)\n",
    "и [тут](https://towardsdatascience.com/naive-bayes-explained-9d2b96f4a9c0)"
   ]
  },
  {
   "cell_type": "markdown",
   "metadata": {},
   "source": [
    "Коротко о том, что тут происходит. Наивный Байесовский классификатор помогает посчитать вероятность того, что конкретное слово окажется в положительном/отрицательном отзыве. Эта вероятность от нуля до единицы. Можно перевести ее в некую величину  от -1 до 1 (простенькое отображение) и назовем эту величину полярностью/тональностью слова - тональность 1 => вероятность найти такое слово в положительном отзыве велика, тональность = -1 => вероятность найти слово в положительном отзыве крайне мала. Теперь для каждого слова из словаря у нас есть готовая вероятность. \n",
    "\n",
    "После этого делается следующее:\n",
    "\n",
    "Смотрим на новый отзыв, разбиваем его на слова. Слова могут быть:\n",
    "* Известными(с известной полярностью)\n",
    "* Неизвестными(если слова нет в словаре, TextBlob считает, что его вообще нет) или несущественными(TextBlob не ьерет в расчет слова типа артиклей и тд)\n",
    "* Словами-модификаторами (not, very и тд)\n",
    "\n",
    "Тональность отзыва считается так:\n",
    "1. Отбрасываем все неизвестные и несущественные слова\n",
    "2. Берем слова-модификаторы(их действие распространяется только на слово, идущее за ними) и с их помощью как-то меняем полярность следующего слова\n",
    "3. Считаем для каждого слова-не-модификатора результирующую полярность\n",
    "4. Усредняем полученную полярность для всех слов-не модификаторов. Эта усредненная оценка и будет полярностью отзыва.\n",
    "5. Готово, вы восхитительны"
   ]
  },
  {
   "cell_type": "markdown",
   "metadata": {},
   "source": [
    "Давайте разберем на примере"
   ]
  },
  {
   "cell_type": "code",
   "execution_count": 35,
   "metadata": {},
   "outputs": [
    {
     "data": {
      "text/plain": [
       "Sentiment(polarity=0.7, subjectivity=0.6000000000000001)"
      ]
     },
     "execution_count": 35,
     "metadata": {},
     "output_type": "execute_result"
    }
   ],
   "source": [
    "from textblob import TextBlob\n",
    "\n",
    "TextBlob(\"good\").sentiment"
   ]
  },
  {
   "cell_type": "markdown",
   "metadata": {},
   "source": [
    "[Здесь](https://github.com/sloria/TextBlob/blob/eb08c120d364e908646731d60b4e4c6c1712ff63/textblob/en/en-sentiment.xml) можно посмотреть слова, по которым он это делает."
   ]
  },
  {
   "cell_type": "code",
   "execution_count": 36,
   "metadata": {},
   "outputs": [
    {
     "data": {
      "text/plain": [
       "Sentiment(polarity=0.7, subjectivity=0.6000000000000001)"
      ]
     },
     "execution_count": 36,
     "metadata": {},
     "output_type": "execute_result"
    }
   ],
   "source": [
    "TextBlob(\"good\").sentiment"
   ]
  },
  {
   "cell_type": "code",
   "execution_count": 37,
   "metadata": {},
   "outputs": [
    {
     "data": {
      "text/plain": [
       "Sentiment(polarity=0.7, subjectivity=0.6000000000000001)"
      ]
     },
     "execution_count": 37,
     "metadata": {},
     "output_type": "execute_result"
    }
   ],
   "source": [
    "TextBlob(\"isn't good\").sentiment"
   ]
  },
  {
   "cell_type": "markdown",
   "metadata": {},
   "source": [
    "Так, добавление not умножает полярность на -0.5"
   ]
  },
  {
   "cell_type": "code",
   "execution_count": 38,
   "metadata": {},
   "outputs": [
    {
     "data": {
      "text/plain": [
       "0.9099999999999999"
      ]
     },
     "execution_count": 38,
     "metadata": {},
     "output_type": "execute_result"
    }
   ],
   "source": [
    "TextBlob(\"very good\").sentiment.polarity"
   ]
  },
  {
   "cell_type": "markdown",
   "metadata": {},
   "source": [
    "А еще у некоторых слов есть свойство intensity. только что наша полярность умножилась именно на нее"
   ]
  },
  {
   "cell_type": "code",
   "execution_count": 39,
   "metadata": {},
   "outputs": [
    {
     "data": {
      "text/plain": [
       "Sentiment(polarity=-0.3076923076923077, subjectivity=0.5769230769230769)"
      ]
     },
     "execution_count": 39,
     "metadata": {},
     "output_type": "execute_result"
    }
   ],
   "source": [
    "TextBlob(\"not very great\").sentiment"
   ]
  },
  {
   "cell_type": "markdown",
   "metadata": {},
   "source": [
    "Артикли и вспомогательные слова TextBlob игнорирует. А вот модификация здесь произошла хитрым образом:\n",
    "    \n",
    "* **polarity** = **-0.5**(not)***1/1.3**(very)***0.8**(great)\n",
    "* **subjectivity** = **1/1.3**(very)***0.75**(great)"
   ]
  },
  {
   "cell_type": "code",
   "execution_count": 40,
   "metadata": {},
   "outputs": [
    {
     "data": {
      "text/plain": [
       "TextBlob(\"very\")"
      ]
     },
     "execution_count": 40,
     "metadata": {},
     "output_type": "execute_result"
    }
   ],
   "source": [
    "TextBlob(\"very\")"
   ]
  },
  {
   "cell_type": "markdown",
   "metadata": {},
   "source": [
    "А вот этого слова нет в словаре. И поэтому ничего не происходит)"
   ]
  },
  {
   "cell_type": "code",
   "execution_count": 41,
   "metadata": {},
   "outputs": [
    {
     "data": {
      "text/plain": [
       "Sentiment(polarity=0.0, subjectivity=0.0)"
      ]
     },
     "execution_count": 41,
     "metadata": {},
     "output_type": "execute_result"
    }
   ],
   "source": [
    "TextBlob(\"abominable\").sentiment"
   ]
  },
  {
   "cell_type": "code",
   "execution_count": 42,
   "metadata": {},
   "outputs": [
    {
     "data": {
      "text/plain": [
       "Sentiment(polarity=0.7, subjectivity=0.6000000000000001)"
      ]
     },
     "execution_count": 42,
     "metadata": {},
     "output_type": "execute_result"
    }
   ],
   "source": [
    "TextBlob(\"good\").sentiment"
   ]
  },
  {
   "cell_type": "markdown",
   "metadata": {},
   "source": [
    "Как видите, все усреднилось:"
   ]
  },
  {
   "cell_type": "code",
   "execution_count": 43,
   "metadata": {},
   "outputs": [
    {
     "data": {
      "text/plain": [
       "Sentiment(polarity=0.75, subjectivity=0.675)"
      ]
     },
     "execution_count": 43,
     "metadata": {},
     "output_type": "execute_result"
    }
   ],
   "source": [
    "TextBlob(\"great good\").sentiment"
   ]
  }
 ],
 "metadata": {
  "kernelspec": {
   "display_name": "Python 3 (ipykernel)",
   "language": "python",
   "name": "python3"
  },
  "language_info": {
   "codemirror_mode": {
    "name": "ipython",
    "version": 3
   },
   "file_extension": ".py",
   "mimetype": "text/x-python",
   "name": "python",
   "nbconvert_exporter": "python",
   "pygments_lexer": "ipython3",
   "version": "3.9.13"
  }
 },
 "nbformat": 4,
 "nbformat_minor": 4
}
